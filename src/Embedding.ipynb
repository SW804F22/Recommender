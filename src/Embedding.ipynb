{
 "cells": [
  {
   "cell_type": "code",
   "execution_count": 2,
   "id": "aebedcd1-3b4f-4511-80c5-38fc632073a2",
   "metadata": {},
   "outputs": [],
   "source": [
    "from tensorflow import keras\n",
    "from tensorflow.keras import layers\n",
    "from tensorflow.keras import backend as K\n",
    "import tensorflow as tf\n",
    "import pandas as pd\n",
    "import numpy as np\n",
    "from sklearn.impute import SimpleImputer\n",
    "from sklearn.preprocessing import Normalizer , scale\n",
    "from sklearn.model_selection import GridSearchCV , KFold , cross_val_score\n",
    "from sklearn.metrics import mean_squared_log_error,mean_squared_error, r2_score,mean_absolute_error \n",
    "from sklearn.metrics import accuracy_score,precision_score,recall_score,f1_score\n",
    "from sklearn.neighbors import NearestNeighbors\n",
    "from sklearn.model_selection import train_test_split, KFold\n",
    "from sklearn.model_selection import StratifiedKFold\n",
    "from sklearn.model_selection import cross_val_score\n",
    "from sklearn.preprocessing import LabelEncoder\n",
    "from keras.models import Model\n",
    "%matplotlib inline"
   ]
  },
  {
   "cell_type": "code",
   "execution_count": 3,
   "id": "5c2acb48-8b91-453b-a0e1-28b59bbc6703",
   "metadata": {},
   "outputs": [],
   "source": [
    "from IPython.display import SVG\n",
    "from urllib.request import urlretrieve\n",
    "import zipfile\n",
    "import collections"
   ]
  },
  {
   "cell_type": "markdown",
   "id": "4124fa28-fbb1-4246-9c94-37950628ce9e",
   "metadata": {},
   "source": [
    "Loading csv files"
   ]
  },
  {
   "cell_type": "code",
   "execution_count": null,
   "id": "6a6731ff-eb8e-44dc-92c0-65acd6fe16f5",
   "metadata": {},
   "outputs": [],
   "source": []
  },
  {
   "cell_type": "code",
   "execution_count": 11,
   "id": "07288e26-a08b-47c2-bda2-dd9f52d52566",
   "metadata": {},
   "outputs": [
    {
     "name": "stderr",
     "output_type": "stream",
     "text": [
      "C:\\Users\\lasse\\anaconda3\\lib\\site-packages\\IPython\\core\\interactiveshell.py:3437: DtypeWarning: Columns (0,3) have mixed types.Specify dtype option on import or set low_memory=False.\n",
      "  exec(code_obj, self.user_global_ns, self.user_ns)\n",
      "C:\\Users\\lasse\\anaconda3\\lib\\site-packages\\IPython\\core\\interactiveshell.py:3437: DtypeWarning: Columns (1,2) have mixed types.Specify dtype option on import or set low_memory=False.\n",
      "  exec(code_obj, self.user_global_ns, self.user_ns)\n"
     ]
    }
   ],
   "source": [
    "#dataset_TIST2015_Checkins: User ID, Venue ID, UTC time, Time zone\n",
    "#dataset_TIST2015_POIs: Venue ID, Latitude, Longitude, Venue category name, Country code \n",
    "#dataset_TIST2015_Cities: Cityname, Latitude, Longitude, Vanue Category, Country code, Country name, City type\n",
    "#dataset_UbiComp2016_UserProfile_{CITY}: User ID, Gender, Twitter friend count, Twitter follower count\n",
    "\n",
    "#Scenario 1: Checkins og POI locations\n",
    "\n",
    "checkin_cols = ['user_id', 'poi_id', 'timestamp', 'timezone']\n",
    "checkin = pd.read_csv(r'C:\\Users\\lasse\\Desktop\\RecommenderDL\\datasets\\TIST2015_Checkins.csv', sep=',', names=checkin_cols, encoding='latin-1')\n",
    "\n",
    "city_cols = ['city_name', 'citycenter_latitude', 'citycenter_longitude', 'country_code', 'country_name', 'city_type']\n",
    "cities = pd.read_csv(r'C:\\Users\\lasse\\Desktop\\RecommenderDL\\datasets\\TIST2015_Cities.csv', sep=',', names=city_cols, encoding='latin-1')\n",
    "\n",
    "venue_cols = ['poi_id', 'latitude', 'longitude', 'category', 'country_code']\n",
    "pois = pd.read_csv(r'C:\\Users\\lasse\\Desktop\\RecommenderDL\\datasets\\TIST2015_POIs.csv', sep=',', names=venue_cols, encoding='latin-1')\n",
    "\n",
    "\n",
    "#Scenario 2: Users og Checkins\n",
    "\n",
    "# Load each data set (users, movies, and ratings).\n",
    "users_cols = ['user_id', 'gender', 'sex']\n",
    "ratings_cols = ['user_id', 'venue_id', 'latitude', 'longitude', 'category' 'unix_timestamp']\n",
    "\n",
    "#Scenario3: Users, Checkins og POI Locations\n",
    "checkin_cols = ['poi_id', 'gender', 'sex']\n",
    "venue_cols = ['venue_id', 'user_id', 'latitude', 'longitude', 'category' 'unix_timestamp']\n",
    "user_cols = ['user_id', 'gender']\n",
    "\n",
    "\n"
   ]
  },
  {
   "cell_type": "code",
   "execution_count": 12,
   "id": "3d02f813-3748-40d9-9bf1-e3c6b7528ce3",
   "metadata": {},
   "outputs": [
    {
     "name": "stdout",
     "output_type": "stream",
     "text": [
      "        city_name citycenter_latitude citycenter_longitude  country_code  \\\n",
      "0       City_name            latitude            longitude  country_code   \n",
      "1          Cuiaba             -15.615           -56.093004            BR   \n",
      "2        Brasilia          -15.792111           -47.897748            BR   \n",
      "3         Goiania          -16.727004           -49.255001            BR   \n",
      "4    Campo Grande          -20.450997           -54.615996            BR   \n",
      "..            ...                 ...                  ...           ...   \n",
      "411      Brisbane          -27.453996           153.026002            AU   \n",
      "412        Sydney           -33.88977             151.0282            AU   \n",
      "413      Adelaide          -34.811676           138.520828            AU   \n",
      "414     Melbourne          -37.852956           145.075105            AU   \n",
      "415      Auckland          -36.903996           174.761002            NZ   \n",
      "\n",
      "     country_name                        city_type  \n",
      "0    country_name                        city_type  \n",
      "1          Brazil               Provincial capital  \n",
      "2          Brazil  National and provincial capital  \n",
      "3          Brazil               Provincial capital  \n",
      "4          Brazil               Provincial capital  \n",
      "..            ...                              ...  \n",
      "411     Australia               Provincial capital  \n",
      "412     Australia                            Other  \n",
      "413     Australia               Provincial capital  \n",
      "414     Australia                            Other  \n",
      "415   New Zealand               Provincial capital  \n",
      "\n",
      "[416 rows x 6 columns]\n"
     ]
    }
   ],
   "source": [
    "print(cities)"
   ]
  },
  {
   "cell_type": "code",
   "execution_count": null,
   "id": "575757c8-4557-4929-86e5-17bcedda1d23",
   "metadata": {},
   "outputs": [],
   "source": [
    "dim1 = cities[['city_name', 'citycenter_longitude', 'citycenter_latitude', 'city_type', 'country_code']].drop(labels=[0], axis=0)"
   ]
  },
  {
   "cell_type": "code",
   "execution_count": 16,
   "id": "6dbb8c22-bad2-4880-bfad-ba88e32a66a7",
   "metadata": {},
   "outputs": [],
   "source": [
    "dim2 = checkin[['user_id', 'poi_id', 'timestamp']].drop(labels=[0], axis=0)"
   ]
  },
  {
   "cell_type": "code",
   "execution_count": 23,
   "id": "311e3032-b813-4e94-8747-f3a0ebd056a1",
   "metadata": {},
   "outputs": [],
   "source": [
    "dim3 = pois[['poi_id', 'latitude', 'longitude', 'category', 'country_code']].drop(labels=[0], axis=0)"
   ]
  },
  {
   "cell_type": "code",
   "execution_count": 25,
   "id": "78ff05e9-4946-42ff-8d25-b3a1420fb172",
   "metadata": {},
   "outputs": [],
   "source": [
    "dataset = dim2.merge(dim3, on='poi_id')#.merge(dim1, on='country_code')"
   ]
  },
  {
   "cell_type": "code",
   "execution_count": null,
   "id": "df7bf439-7166-4587-b130-55581b643c00",
   "metadata": {},
   "outputs": [],
   "source": [
    "# Merge Users and Checkins. \n",
    "# However, our data does not allow us to merge users and checkin, because we only have data for users that have checked in NYC and Tokyo\n",
    "#movielens = ratings.merge(movies, on='movie_id').merge(users, on='user_id')"
   ]
  },
  {
   "cell_type": "code",
   "execution_count": 27,
   "id": "9c203e99-1b95-473f-b48a-7d9d262f4072",
   "metadata": {},
   "outputs": [],
   "source": [
    "#Split into train and test\n",
    "train_, test = train_test_split(dataset, test_size=0.1)"
   ]
  },
  {
   "cell_type": "code",
   "execution_count": 31,
   "id": "9a35fd34-2082-491b-8ac4-e772586adc66",
   "metadata": {},
   "outputs": [],
   "source": [
    "ROW_COUNT = train_.shape[0]"
   ]
  },
  {
   "cell_type": "code",
   "execution_count": null,
   "id": "6cc86265-e948-434b-a18b-55cd67f14309",
   "metadata": {},
   "outputs": [],
   "source": [
    "EMBEDDING_SIZE = 10\n",
    "NUM_USERS = dataset['user_id'].nunique()\n",
    "NUM_POI = dataset['poi_id'].nunique()"
   ]
  },
  {
   "cell_type": "code",
   "execution_count": 29,
   "id": "0ea98359-9bee-4bda-aca6-a723796d9d43",
   "metadata": {},
   "outputs": [
    {
     "data": {
      "text/html": [
       "<div>\n",
       "<style scoped>\n",
       "    .dataframe tbody tr th:only-of-type {\n",
       "        vertical-align: middle;\n",
       "    }\n",
       "\n",
       "    .dataframe tbody tr th {\n",
       "        vertical-align: top;\n",
       "    }\n",
       "\n",
       "    .dataframe thead th {\n",
       "        text-align: right;\n",
       "    }\n",
       "</style>\n",
       "<table border=\"1\" class=\"dataframe\">\n",
       "  <thead>\n",
       "    <tr style=\"text-align: right;\">\n",
       "      <th></th>\n",
       "      <th>user_id</th>\n",
       "      <th>poi_id</th>\n",
       "      <th>timestamp</th>\n",
       "      <th>latitude</th>\n",
       "      <th>longitude</th>\n",
       "      <th>category</th>\n",
       "      <th>country_code</th>\n",
       "    </tr>\n",
       "  </thead>\n",
       "  <tbody>\n",
       "    <tr>\n",
       "      <th>0</th>\n",
       "      <td>50756</td>\n",
       "      <td>4f5e3a72e4b053fd6a4313f6</td>\n",
       "      <td>Tue Apr 03 18:00:06 +0000 2012</td>\n",
       "      <td>55.696132</td>\n",
       "      <td>37.557842</td>\n",
       "      <td>Comedy Club</td>\n",
       "      <td>RU</td>\n",
       "    </tr>\n",
       "    <tr>\n",
       "      <th>1</th>\n",
       "      <td>190571</td>\n",
       "      <td>4b4b87b5f964a5204a9f26e3</td>\n",
       "      <td>Tue Apr 03 18:00:07 +0000 2012</td>\n",
       "      <td>41.029717</td>\n",
       "      <td>28.97442</td>\n",
       "      <td>Other Great Outdoors</td>\n",
       "      <td>TR</td>\n",
       "    </tr>\n",
       "    <tr>\n",
       "      <th>2</th>\n",
       "      <td>212251</td>\n",
       "      <td>4b4b87b5f964a5204a9f26e3</td>\n",
       "      <td>Wed Apr 04 05:49:28 +0000 2012</td>\n",
       "      <td>41.029717</td>\n",
       "      <td>28.97442</td>\n",
       "      <td>Other Great Outdoors</td>\n",
       "      <td>TR</td>\n",
       "    </tr>\n",
       "    <tr>\n",
       "      <th>3</th>\n",
       "      <td>227763</td>\n",
       "      <td>4b4b87b5f964a5204a9f26e3</td>\n",
       "      <td>Wed Apr 04 12:10:31 +0000 2012</td>\n",
       "      <td>41.029717</td>\n",
       "      <td>28.97442</td>\n",
       "      <td>Other Great Outdoors</td>\n",
       "      <td>TR</td>\n",
       "    </tr>\n",
       "    <tr>\n",
       "      <th>4</th>\n",
       "      <td>212251</td>\n",
       "      <td>4b4b87b5f964a5204a9f26e3</td>\n",
       "      <td>Wed Apr 04 12:53:32 +0000 2012</td>\n",
       "      <td>41.029717</td>\n",
       "      <td>28.97442</td>\n",
       "      <td>Other Great Outdoors</td>\n",
       "      <td>TR</td>\n",
       "    </tr>\n",
       "  </tbody>\n",
       "</table>\n",
       "</div>"
      ],
      "text/plain": [
       "  user_id                    poi_id                       timestamp  \\\n",
       "0   50756  4f5e3a72e4b053fd6a4313f6  Tue Apr 03 18:00:06 +0000 2012   \n",
       "1  190571  4b4b87b5f964a5204a9f26e3  Tue Apr 03 18:00:07 +0000 2012   \n",
       "2  212251  4b4b87b5f964a5204a9f26e3  Wed Apr 04 05:49:28 +0000 2012   \n",
       "3  227763  4b4b87b5f964a5204a9f26e3  Wed Apr 04 12:10:31 +0000 2012   \n",
       "4  212251  4b4b87b5f964a5204a9f26e3  Wed Apr 04 12:53:32 +0000 2012   \n",
       "\n",
       "    latitude  longitude              category country_code  \n",
       "0  55.696132  37.557842           Comedy Club           RU  \n",
       "1  41.029717   28.97442  Other Great Outdoors           TR  \n",
       "2  41.029717   28.97442  Other Great Outdoors           TR  \n",
       "3  41.029717   28.97442  Other Great Outdoors           TR  \n",
       "4  41.029717   28.97442  Other Great Outdoors           TR  "
      ]
     },
     "execution_count": 29,
     "metadata": {},
     "output_type": "execute_result"
    }
   ],
   "source": [
    "dataset.head()"
   ]
  },
  {
   "cell_type": "code",
   "execution_count": null,
   "id": "4aab5722-fcad-4031-bf76-70e135783632",
   "metadata": {},
   "outputs": [],
   "source": [
    "UNIQUE_MOVIE_IDS = dataset['movie_id'].unique()"
   ]
  },
  {
   "cell_type": "markdown",
   "id": "e9d5c7a8-13e9-4281-bd5e-4874b4888bbf",
   "metadata": {},
   "source": [
    "Define the model"
   ]
  },
  {
   "cell_type": "code",
   "execution_count": 92,
   "id": "a978e995-e5ba-4b42-a003-6f07f6a98d03",
   "metadata": {},
   "outputs": [],
   "source": [
    "class EmbModel(Model):\n",
    "    def __init__(self):\n",
    "        super(EmbModel, self).__init__()\n",
    "        self.model = self.init_model()\n",
    "        \n",
    "    def call(self, inputs):\n",
    "        return\n",
    "    \n",
    "    def init_model(self):\n",
    "        poi_input = keras.Input(shape=(1,), name='poi_id')\n",
    "        poi_emb = layers.Embedding(output_dim=10, input_dim=1, input_length=1, name='poi_emb')(poi_input)\n",
    "    \n",
    "        user_input = keras.Input(shape=(1,), name='user_id')\n",
    "        user_emb = layers.Embedding(output_dim=10, input_dim=1, input_length=1, name='user_emb')(user_input)\n",
    "        print(user_emb.shape)\n",
    "    \n",
    "        dot = layers.Dot(axes=(1))([poi_emb, user_emb])\n",
    "        model = Model([poi_input, user_input], dot)\n",
    "        model.summary()\n",
    "        return model\n",
    "    \n",
    "    def compile_model(self, optimizer):\n",
    "        super(EmbModel, self).compile(run_eagerly=True)\n",
    "        self.optimizer = optimizer\n",
    "        \n",
    "    def train_step(self, data):\n",
    "        if len(data) == 3:\n",
    "            real_data, labels, sample_weight = data\n",
    "        else:\n",
    "            sample_weight = None\n",
    "            real_images, labels = data\n",
    "        \n",
    "        batch_size = real_images.get_shape()[0]\n",
    "        \n",
    "        for i in range(self.d_steps):\n",
    "            \n",
    "            random_latent_vectors = tf.convert_to_tensor(tf.random.normal(shape=(batch_size, self.latent_dim)))\n",
    "            \n",
    "            with tf.GradientTape() as tape:\n",
    "                dotproduct = self.model([real_data[0], real_data[1]])\n",
    "                \n",
    "                # Loss function = ||S-GroundTruth|| \n",
    "                loss = abs(dotproduct - label)\n",
    "            d_gradient = tape.gradient(loss, self.model.trainable_variables)\n",
    "            self.optimizer.apply_gradients(zip(d_gradient, self.model.trainable_variables))"
   ]
  },
  {
   "cell_type": "code",
   "execution_count": 93,
   "id": "950bec32-baf7-43b9-9ab1-b3443c46ab4a",
   "metadata": {},
   "outputs": [
    {
     "name": "stdout",
     "output_type": "stream",
     "text": [
      "(None, 1, 10)\n",
      "Model: \"functional_11\"\n",
      "__________________________________________________________________________________________________\n",
      "Layer (type)                    Output Shape         Param #     Connected to                     \n",
      "==================================================================================================\n",
      "poi_id (InputLayer)             [(None, 1)]          0                                            \n",
      "__________________________________________________________________________________________________\n",
      "user_id (InputLayer)            [(None, 1)]          0                                            \n",
      "__________________________________________________________________________________________________\n",
      "poi_emb (Embedding)             (None, 1, 10)        10          poi_id[0][0]                     \n",
      "__________________________________________________________________________________________________\n",
      "user_emb (Embedding)            (None, 1, 10)        10          user_id[0][0]                    \n",
      "__________________________________________________________________________________________________\n",
      "dot_43 (Dot)                    (None, 10, 10)       0           poi_emb[0][0]                    \n",
      "                                                                 user_emb[0][0]                   \n",
      "==================================================================================================\n",
      "Total params: 20\n",
      "Trainable params: 20\n",
      "Non-trainable params: 0\n",
      "__________________________________________________________________________________________________\n"
     ]
    }
   ],
   "source": [
    "model = EmbModel()"
   ]
  },
  {
   "cell_type": "code",
   "execution_count": 83,
   "id": "8dc98d15-f5c8-48b7-a161-b0562c684ebb",
   "metadata": {},
   "outputs": [],
   "source": [
    "optimizer = keras.optimizers.Adam(learning_rate=0.001, beta_1=0.0, beta_2=0.99, epsilon=1e-8)\n",
    "\n",
    "model.compile(\n",
    "    optimizer\n",
    ")\n",
    "\n",
    "#Train_data, [dataset.user_id, dataset.poi_id]. Label: ground_truth\n",
    "#pgan.fit(train_data, labels, steps_per_epoch = STEPS_PER_EPOCH, epochs = EPOCHS, callbacks=[cbk])"
   ]
  },
  {
   "cell_type": "markdown",
   "id": "26f05cf4-af5b-4eeb-a93f-5e1dcbbeca3a",
   "metadata": {},
   "source": [
    "Train the model"
   ]
  },
  {
   "cell_type": "code",
   "execution_count": null,
   "id": "96bb3542-c0f4-4747-b1c7-87b295f5899e",
   "metadata": {},
   "outputs": [],
   "source": [
    "callbacks = [keras.callbacks.EarlyStopping('val_loss', patience=10),\n",
    "             keras.callbacks.ModelCheckpoint('besttest.h5', save_best_only=True)]\n",
    "\n",
    "history = model.fit([train.movie_id, train.user_id],train.rating, batch_size=100,\n",
    "                              epochs =50, validation_data = ([test.movie_id, test.user_id],test.rating),\n",
    "                              verbose = 1, \n",
    "                              callbacks = callbacks)"
   ]
  },
  {
   "cell_type": "code",
   "execution_count": null,
   "id": "4a948067-4323-4a57-88f2-c00bdf3e0e00",
   "metadata": {},
   "outputs": [],
   "source": [
    "user_model.predict([np.array([10]), np.array([3])])"
   ]
  },
  {
   "cell_type": "code",
   "execution_count": null,
   "id": "64bb22e6-1597-4b83-bfbe-6e4e7014e8c2",
   "metadata": {},
   "outputs": [],
   "source": [
    "model.summary()"
   ]
  },
  {
   "cell_type": "code",
   "execution_count": null,
   "id": "4c60b823-9e89-44af-91a1-40126b89c1a7",
   "metadata": {},
   "outputs": [],
   "source": [
    "keras.utils.plot_model(model, show_shapes=True)"
   ]
  },
  {
   "cell_type": "code",
   "execution_count": null,
   "id": "93d73178-458e-4599-aefd-3ecd46ac0b76",
   "metadata": {},
   "outputs": [],
   "source": [
    "from pylab import rcParams\n",
    "rcParams['figure.figsize'] = 10, 5\n",
    "import matplotlib.pyplot as plt\n",
    "plt.plot(history.history['loss'] , 'g')\n",
    "plt.title('model loss')\n",
    "plt.ylabel('loss')\n",
    "plt.xlabel('epochs')\n",
    "plt.legend(['train'], loc='upper right')\n",
    "plt.grid(True)\n",
    "plt.show()"
   ]
  },
  {
   "cell_type": "code",
   "execution_count": null,
   "id": "92761a14-e18e-4171-bdb4-32e5063d607e",
   "metadata": {},
   "outputs": [],
   "source": [
    "print('test')"
   ]
  },
  {
   "cell_type": "code",
   "execution_count": 9,
   "id": "152340e9-2082-477a-95ec-9accebd15fcf",
   "metadata": {},
   "outputs": [
    {
     "name": "stdout",
     "output_type": "stream",
     "text": [
      "test\n"
     ]
    }
   ],
   "source": [
    "print('test')"
   ]
  },
  {
   "cell_type": "code",
   "execution_count": null,
   "id": "2d6b9ead-7f6f-41a1-921d-c06a83112311",
   "metadata": {},
   "outputs": [],
   "source": []
  }
 ],
 "metadata": {
  "kernelspec": {
   "display_name": "Python 3",
   "language": "python",
   "name": "python3"
  },
  "language_info": {
   "codemirror_mode": {
    "name": "ipython",
    "version": 3
   },
   "file_extension": ".py",
   "mimetype": "text/x-python",
   "name": "python",
   "nbconvert_exporter": "python",
   "pygments_lexer": "ipython3",
   "version": "3.8.8"
  }
 },
 "nbformat": 4,
 "nbformat_minor": 5
}
