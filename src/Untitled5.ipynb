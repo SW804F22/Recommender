{
 "cells": [
  {
   "cell_type": "code",
   "execution_count": 1,
   "id": "749a8827-eabe-4d12-9b21-6ba34e4edd60",
   "metadata": {},
   "outputs": [],
   "source": [
    "from tensorflow import keras\n",
    "from tensorflow.keras import layers\n",
    "from tensorflow.keras import backend as K\n",
    "import tensorflow as tf\n",
    "import pandas as pd\n",
    "import numpy as np\n",
    "from sklearn.impute import SimpleImputer\n",
    "from sklearn.preprocessing import Normalizer , scale\n",
    "from sklearn.model_selection import GridSearchCV , KFold , cross_val_score\n",
    "from sklearn.metrics import mean_squared_log_error,mean_squared_error, r2_score,mean_absolute_error \n",
    "from sklearn.metrics import accuracy_score,precision_score,recall_score,f1_score\n",
    "from sklearn.neighbors import NearestNeighbors\n",
    "from sklearn.model_selection import train_test_split, KFold\n",
    "from sklearn.model_selection import StratifiedKFold\n",
    "from sklearn.model_selection import cross_val_score\n",
    "from sklearn.preprocessing import LabelEncoder\n",
    "from keras.models import Model\n",
    "from sklearn.utils import shuffle\n",
    "from keras.utils import plot_model\n",
    "import pickle\n",
    "%matplotlib inline\n",
    "import matplotlib.pyplot as plt"
   ]
  },
  {
   "cell_type": "code",
   "execution_count": null,
   "id": "b8f3b1c2-31fd-428e-a7e7-6bd1813e6dff",
   "metadata": {},
   "outputs": [],
   "source": [
    "print(\"Loading checkins\")\n",
    "checkin_cols = ['user_id', 'poi_id', 'timestamp', 'timezone']\n",
    "checkins = pd.read_csv(r'C:\\Users\\lasse\\Desktop\\RecommenderDL\\datasets\\Den_checkins.csv', sep=',', names=checkin_cols, encoding='latin-1').dropna(axis=1)\n",
    "\n",
    "print(\"Loading POIs\")\n",
    "venue_cols = ['poi_id', 'latitude', 'longitude', 'category', 'country_code']\n",
    "pois = pd.read_csv(r'C:\\Users\\lasse\\Desktop\\RecommenderDL\\datasets\\Den_pois.csv', sep=',', names=venue_cols, encoding='latin-1')\n",
    "\n",
    "#One checkin for each user\n",
    "users = checkins.copy()\n",
    "users.drop_duplicates(subset=\"user_id\", keep = 'first', inplace = True)\n",
    "print(\"Checkins: \", len(checkins))\n",
    "print(\"Users: \", len(users))\n",
    "len_checkins = len(checkins)\n",
    "len_users = len(users)\n",
    "\n",
    "#The rest of the checkins and categories\n",
    "checkins_rest = users.merge(checkins, how = 'outer' ,indicator=True).loc[lambda x : x['_merge']=='right_only']\n",
    "print(\"Gotten: \", len(checkins_rest))\n",
    "\n",
    "#One of each category in checkins_rest\n",
    "categories1 = pd.DataFrame(pois, columns=['poi_id', 'category'])\n",
    "categories1 = checkins_rest.merge(categories1, on='poi_id')\n",
    "users_categories1 = categories1.copy()\n",
    "users_categories1.drop_duplicates(subset=\"category\", keep = 'first', inplace = True)\n",
    "print(\"Unique categories in checkins_rest: \", len(users_categories1))\n",
    "\n",
    "#FINISHING NOTE: Vi vil have alle colplement af checkins_rest, når vi sammenligner med categories_cat_no_cat, så har vi de 3 gange checkins vi har brug for. Så kan vi lave train/test på det store af dem.\n",
    "categories_cat_no_cat = pd.DataFrame(users_categories1, columns=['user_id', 'poi_id', 'timestamp', 'timezone', 'category'])\n",
    "checkins_rest_no_merge = pd.DataFrame(checkins_rest, columns=['user_id', 'poi_id', 'timestamp', 'timezone'])\n",
    "poisandcategories = pd.DataFrame(pois, columns=['poi_id', 'category'])\n",
    "checkins_rest_no_merge = checkins_rest_no_merge.merge(poisandcategories, on='poi_id')\n",
    "cat_length = len(categories_cat_no_cat)\n",
    "print(\"Total categories: \", len(categories_cat_no_cat))\n",
    "\n",
    "test = categories_cat_no_cat.merge(checkins_rest_no_merge, how = 'outer' ,indicator=True).loc[lambda x : x['_merge']=='right_only']\n",
    "#test = pd.DataFrame(checkins_rest, columns=['user_id', 'poi_id', 'timestamp', 'timezone'])\n",
    "#cattest = pd.DataFrame(pois, columns=['poi_id', 'category'])\n",
    "#test.merge(cattest, on='poi_id')\n",
    "#checkins_rest = cattest.merge(test, how = 'outer' ,indicator=True).loc[lambda x : x['_merge']=='right_only']\n",
    "\n",
    "restset = pd.DataFrame(test, columns=['user_id', 'poi_id', 'timestamp', 'timezone'])\n",
    "userset = users\n",
    "categoryset = pd.DataFrame(users_categories1, columns=['user_id', 'poi_id', 'timestamp', 'timezone'])\n",
    "\n",
    "print(\"Overview:\")\n",
    "print(userset)\n",
    "print(categoryset)\n",
    "print(restset)\n",
    "\n",
    "encoding = pd.DataFrame(userset, columns=['user_id'])\n",
    "#print(encoding)\n",
    "encoding_array = {}\n",
    "temp = 0\n",
    "for user in encoding.iterrows():\n",
    "    user = user[0]\n",
    "    value = encoding._get_value(user, 'user_id')\n",
    "    encoding_array[value] = temp\n",
    "    temp += 1"
   ]
  },
  {
   "cell_type": "code",
   "execution_count": null,
   "id": "35fe452c-270d-4b54-b7bb-7d0ae78274c8",
   "metadata": {},
   "outputs": [],
   "source": [
    "print(encoding_array)"
   ]
  },
  {
   "cell_type": "code",
   "execution_count": 121,
   "id": "83bd4c85-ae43-4699-a4e7-da31e1e73132",
   "metadata": {},
   "outputs": [],
   "source": [
    "np.save(r\"C:\\Users\\lasse\\Desktop\\RecommenderDL\\datasets\\d1.npy\", encoding_array)\n",
    "d2=np.load(r\"C:\\Users\\lasse\\Desktop\\RecommenderDL\\datasets\\d1.npy\", allow_pickle=True)\n",
    "test = dict(enumerate(d2.flatten(), 1))[1]"
   ]
  },
  {
   "cell_type": "code",
   "execution_count": 120,
   "id": "b2c8431e-ff06-4929-8e9d-50851eeb899e",
   "metadata": {},
   "outputs": [
    {
     "name": "stdout",
     "output_type": "stream",
     "text": [
      "          user_id                    poi_id                       timestamp  \\\n",
      "524329     233919  4c2f45da66e40f47aa8ec18b  Tue Apr 03 18:19:44 +0000 2012   \n",
      "731652     190585  4adcdb00f964a520775e21e3  Tue Apr 03 18:30:09 +0000 2012   \n",
      "731653      24779  4adcdb00f964a520775e21e3  Sun Apr 29 11:33:55 +0000 2012   \n",
      "731654      30835  4adcdb00f964a520775e21e3  Wed Jun 27 14:49:26 +0000 2012   \n",
      "731655       3884  4adcdb00f964a520775e21e3  Mon Nov 12 11:53:23 +0000 2012   \n",
      "...           ...                       ...                             ...   \n",
      "33257607    45339  4ae1d14ef964a520ac8721e3  Sat Sep 14 20:42:29 +0000 2013   \n",
      "33257719   241203  5234d16f11d2aa27377c1d6d  Sat Sep 14 21:14:11 +0000 2013   \n",
      "33261149   201974  4c4ec7deea24c9b6e7143a16  Mon Sep 16 09:34:09 +0000 2013   \n",
      "33261538    44648  4adcdafcf964a5205a5d21e3  Mon Sep 16 10:50:16 +0000 2013   \n",
      "33262742   216973  4b48e2c6f964a520be5b26e3  Mon Sep 16 16:52:20 +0000 2013   \n",
      "\n",
      "          timezone  \n",
      "524329         120  \n",
      "731652         120  \n",
      "731653         120  \n",
      "731654         120  \n",
      "731655          60  \n",
      "...            ...  \n",
      "33257607       120  \n",
      "33257719       120  \n",
      "33261149       120  \n",
      "33261538       120  \n",
      "33262742       120  \n",
      "\n",
      "[10473 rows x 4 columns]\n"
     ]
    }
   ],
   "source": [
    "print(checkins)"
   ]
  },
  {
   "cell_type": "code",
   "execution_count": 123,
   "id": "c63c4ac7-58c8-4ded-87d0-58c24917f397",
   "metadata": {},
   "outputs": [
    {
     "name": "stdout",
     "output_type": "stream",
     "text": [
      "910\n"
     ]
    }
   ],
   "source": [
    "print(test.get(70246))"
   ]
  },
  {
   "cell_type": "code",
   "execution_count": 2,
   "id": "3ec3d86d-b785-45fb-910b-3649651a2074",
   "metadata": {},
   "outputs": [],
   "source": [
    "class EmbModel(tf.keras.Model):\n",
    "    def __init__(self, useridlength, category_length):\n",
    "        super(EmbModel, self).__init__()\n",
    "        self.d_steps = 1\n",
    "        self.useridlength = useridlength\n",
    "        self.category_length = category_length\n",
    "        self.model = self.init_model()\n",
    "        print(self.useridlength)\n",
    "        \n",
    "    def call(self, inputs):\n",
    "        return\n",
    "    \n",
    "    def init_model(self):\n",
    "        poi_latitude_input = keras.layers.Input(shape=(1,), name='poi_latitude')\n",
    "        poi_longitude_input = keras.layers.Input(shape=(1,), name='poi_longitude')\n",
    "        poi_concat_input = tf.keras.layers.Concatenate(axis=-1)([poi_latitude_input, poi_longitude_input])\n",
    "        #input_length:  #This is the length of input sequences, as you would define for any input layer of a Keras model. \n",
    "                        #For example, if all of your input documents are comprised of 1000 words, this would be 1000\n",
    "        #input_dim: \n",
    "                        #This is the size of the vocabulary in the text data. \n",
    "                        #For example, if your data is integer encoded to values between 0-10, then the size of the vocabulary would be 11 words.\n",
    "        poi_dense = keras.layers.Dense(8)(poi_concat_input)\n",
    "        poi_reshape = keras.layers.Reshape((1, 8))(poi_dense)\n",
    "        \n",
    "        category_input = keras.layers.Input(shape=(1), name='category_input')\n",
    "        category_emb = keras.layers.Embedding(self.category_length, 8)(category_input)    \n",
    "        category_concat = tf.keras.layers.Concatenate(axis=-1)([category_emb, poi_reshape])\n",
    "    \n",
    "        user_input = keras.layers.Input(shape=(1,), name='user_id')\n",
    "        user_emb = keras.layers.Embedding(self.useridlength, 16)(user_input)\n",
    "        #user_reshape = layers.Reshape((1, 256))(user_emb)\n",
    "                                    \n",
    "        dot = keras.layers.Dot(axes=(2))([category_concat, user_emb])\n",
    "            \n",
    "        model = Model([category_input, poi_latitude_input, poi_longitude_input, user_input], dot)\n",
    "        model.summary()\n",
    "        return model\n",
    "    \n",
    "    def compile_model(self, optimizer):\n",
    "        super(EmbModel, self).compile(run_eagerly=True)\n",
    "        self.optimizer = optimizer\n",
    "        \n",
    "    def train_step(self, data):\n",
    "        if len(data) == 3:\n",
    "            real_data, labels, sample_weight = data\n",
    "        else:\n",
    "            sample_weight = None\n",
    "            real_data, labels = data\n",
    "        cat_data = real_data[0]\n",
    "        lat_data = real_data[1]\n",
    "        long_data = real_data[2]\n",
    "        user_data = real_data[3]\n",
    "\n",
    "        for i in range(self.d_steps):\n",
    "            with tf.GradientTape() as tape:\n",
    "                \n",
    "                #print(latlong_data[0])\n",
    "                #print(latlong_data[1])\n",
    "                #print(user_data)\n",
    "                \n",
    "                dotproduct = self.model([cat_data, lat_data, long_data, user_data])\n",
    "                #print(dotproduct)\n",
    "                # Loss function = ||S-GroundTruth|| \n",
    "                loss = tf.math.abs(tf.subtract(tf.cast(dotproduct, tf.float64), labels))\n",
    "                #print(loss)\n",
    "            d_gradient = tape.gradient(loss, self.model.trainable_variables)\n",
    "            self.optimizer.apply_gradients(zip(d_gradient, self.model.trainable_variables))\n",
    "        return {'loss': loss}\n",
    "    \n",
    "    def predict_step(self, data):\n",
    "        sample_weight = None\n",
    "        cat_data = data[0]\n",
    "        lat_data = data[1]\n",
    "        long_data = data[2]\n",
    "        user_data = data[3]\n",
    "        return self.model([cat_data, lat_data, long_data, user_data])\n",
    "    \n",
    "    def load_model(self, path):\n",
    "        self.model = keras.models.load_model(path)"
   ]
  },
  {
   "cell_type": "code",
   "execution_count": 3,
   "id": "ac49f726-a4c3-43fc-bb28-bd7719f4cbee",
   "metadata": {},
   "outputs": [
    {
     "name": "stdout",
     "output_type": "stream",
     "text": [
      "Model: \"functional_1\"\n",
      "__________________________________________________________________________________________________\n",
      "Layer (type)                    Output Shape         Param #     Connected to                     \n",
      "==================================================================================================\n",
      "poi_latitude (InputLayer)       [(None, 1)]          0                                            \n",
      "__________________________________________________________________________________________________\n",
      "poi_longitude (InputLayer)      [(None, 1)]          0                                            \n",
      "__________________________________________________________________________________________________\n",
      "concatenate (Concatenate)       (None, 2)            0           poi_latitude[0][0]               \n",
      "                                                                 poi_longitude[0][0]              \n",
      "__________________________________________________________________________________________________\n",
      "category_input (InputLayer)     [(None, 1)]          0                                            \n",
      "__________________________________________________________________________________________________\n",
      "dense (Dense)                   (None, 8)            24          concatenate[0][0]                \n",
      "__________________________________________________________________________________________________\n",
      "embedding (Embedding)           (None, 1, 8)         8           category_input[0][0]             \n",
      "__________________________________________________________________________________________________\n",
      "reshape (Reshape)               (None, 1, 8)         0           dense[0][0]                      \n",
      "__________________________________________________________________________________________________\n",
      "user_id (InputLayer)            [(None, 1)]          0                                            \n",
      "__________________________________________________________________________________________________\n",
      "concatenate_1 (Concatenate)     (None, 1, 16)        0           embedding[0][0]                  \n",
      "                                                                 reshape[0][0]                    \n",
      "__________________________________________________________________________________________________\n",
      "embedding_1 (Embedding)         (None, 1, 16)        16          user_id[0][0]                    \n",
      "__________________________________________________________________________________________________\n",
      "dot (Dot)                       (None, 1, 1)         0           concatenate_1[0][0]              \n",
      "                                                                 embedding_1[0][0]                \n",
      "==================================================================================================\n",
      "Total params: 48\n",
      "Trainable params: 48\n",
      "Non-trainable params: 0\n",
      "__________________________________________________________________________________________________\n",
      "1\n"
     ]
    }
   ],
   "source": [
    "model = EmbModel(1, 1)"
   ]
  },
  {
   "cell_type": "code",
   "execution_count": 109,
   "id": "56408873-5f2a-4826-8e90-cc94542b9a99",
   "metadata": {},
   "outputs": [
    {
     "name": "stdout",
     "output_type": "stream",
     "text": [
      "WARNING:tensorflow:No training configuration found in save file, so the model was *not* compiled. Compile it manually.\n"
     ]
    }
   ],
   "source": [
    "model = keras.models.load_model(r'C:\\Users\\lasse\\Desktop\\RecommenderDL\\models\\model512')\n",
    "optimizer = keras.optimizers.Adam(learning_rate=0.001, beta_1=0.0, beta_2=0.99, epsilon=1e-8)\n",
    "model.compile(\n",
    "    optimizer\n",
    ")"
   ]
  },
  {
   "cell_type": "code",
   "execution_count": 110,
   "id": "f5d7da11-2368-4387-b430-07751e1e2798",
   "metadata": {
    "tags": []
   },
   "outputs": [
    {
     "name": "stderr",
     "output_type": "stream",
     "text": [
      "C:\\Users\\lasse\\anaconda3\\lib\\site-packages\\IPython\\core\\interactiveshell.py:3437: DtypeWarning: Columns (1,2,3) have mixed types.Specify dtype option on import or set low_memory=False.\n",
      "  exec(code_obj, self.user_global_ns, self.user_ns)\n"
     ]
    }
   ],
   "source": [
    "x_test_df = pd.read_csv(r'C:\\Users\\lasse\\Desktop\\RecommenderDL\\datasets\\y_train_df_512.csv', sep=',', names=['User','Latitude','Longitude', '0'], encoding='latin-1')[1:]\n",
    "\n",
    "y_test_df = pd.read_csv(r'C:\\Users\\lasse\\Desktop\\RecommenderDL\\datasets\\y_test_df_512.csv', sep=',', names=['0'], encoding='latin-1')[1:]"
   ]
  },
  {
   "cell_type": "code",
   "execution_count": 111,
   "id": "28339d98-f1e2-4446-9551-e4ad171f2e37",
   "metadata": {},
   "outputs": [],
   "source": [
    "encoding_array = np.load(r\"C:\\Users\\lasse\\Desktop\\RecommenderDL\\datasets\\encoding_array_512.npy\", allow_pickle=True)\n",
    "encoding_array = dict(enumerate(encoding_array.flatten(), 1))[1]"
   ]
  },
  {
   "cell_type": "code",
   "execution_count": null,
   "id": "df34cb0a-81e9-400d-af03-c9d648ebfb42",
   "metadata": {},
   "outputs": [],
   "source": [
    "truePositive = 0\n",
    "falsePositive = 0\n",
    "trueNegative = 0\n",
    "falseNegative = 0\n",
    "change = 0\n",
    "scores = []\n",
    "\n",
    "for index, row in x_test_df.iterrows():\n",
    "    long = float(x_test_df.loc[index, 'Longitude'])\n",
    "    lat = float(x_test_df.loc[index, 'Latitude'])\n",
    "    user = float(x_test_df.loc[index, 'User'])\n",
    "    user = encoding_array.get(user)\n",
    "    cat = float(x_test_df.loc[index, '0'])\n",
    "    groundtruth = y_test_df.loc[index, '0']\n",
    "\n",
    "    if visited == 1:\n",
    "            print(score)\n",
    "\n",
    "    long = tf.convert_to_tensor([long],dtype=None, dtype_hint=None, name=None)\n",
    "    lat = tf.convert_to_tensor([lat],dtype=None, dtype_hint=None, name=None)\n",
    "    user = tf.convert_to_tensor([user],dtype=None, dtype_hint=None, name=None)\n",
    "    cat = tf.convert_to_tensor([cat],dtype=None, dtype_hint=None, name=None)\n",
    "\n",
    "    score = model([cat, lat, long, user])\n",
    "    print(score)\n",
    "    \n",
    "    if score > 0.01:\n",
    "        prediction = 1\n",
    "    else:\n",
    "        prediction = 0\n",
    "\n",
    "    if prediction == 1 and groundtruth == 1:\n",
    "        truePositive += 1\n",
    "    elif prediction == 1 and groundtruth == 0:\n",
    "        falsePositive += 1\n",
    "    elif prediction == 0 and groundtruth == 0:\n",
    "        trueNegative += 1\n",
    "    elif prediction == 0 and groundtruth == 1:\n",
    "        falseNegative += 1\n",
    "print(\"______________________________________________\")\n",
    "print(\"Results:\")\n",
    "print(\"True positive: \", truePositive)\n",
    "print(\"False positive: \", falsePositive)\n",
    "print(\"True negative: \", trueNegative)\n",
    "print(\"False negative: \", falseNegative)\n",
    "accuracy = (truePositive + trueNegative) / (truePositive + trueNegative + falsePositive + falseNegative)\n",
    "precision = truePositive / (truePositive + falsePositive)\n",
    "recall = truePositive / (truePositive + falseNegative)\n",
    "f1 = 2 * ((precision * recall) / (precision + recall))\n",
    "\n",
    "print(\"Accuracy: \", accuracy)\n",
    "print(\"Precision: \", precision)\n",
    "print(\"Recall: \", recall)\n",
    "print(\"F1: \", f1)\n",
    "print(\"_______________________________________________\")"
   ]
  },
  {
   "cell_type": "code",
   "execution_count": 116,
   "id": "98549057-2ab3-44f0-951b-b48c28e713c3",
   "metadata": {},
   "outputs": [
    {
     "name": "stdout",
     "output_type": "stream",
     "text": [
      "yo\n"
     ]
    }
   ],
   "source": []
  },
  {
   "cell_type": "code",
   "execution_count": null,
   "id": "e72838e8-8039-4421-bdda-c5105eacc8d9",
   "metadata": {},
   "outputs": [],
   "source": [
    "    test = checkin_data.loc[\n",
    "    (checkin_data['user_id'] == x_test_df.loc[index, 'User']) & \n",
    "    (checkin_data['latitude'] == x_test_df.loc[index, 'Latitude']) & \n",
    "    (checkin_data['longitude'] == x_test_df.loc[index, 'Longitude'])]\n",
    "    \n",
    "    long = tf.convert_to_tensor([row['Longitude']],dtype=None, dtype_hint=None, name=None)\n",
    "    lat = tf.convert_to_tensor([row['Latitude']],dtype=None, dtype_hint=None, name=None)\n",
    "    user = tf.convert_to_tensor([row['User']],dtype=None, dtype_hint=None, name=None)\n",
    "    score = model.predict([cat, lat, long, user])"
   ]
  },
  {
   "cell_type": "code",
   "execution_count": null,
   "id": "c92a1aeb-4614-45d8-9dd9-d4c4c77704bc",
   "metadata": {},
   "outputs": [],
   "source": [
    "x_test_df = pd.DataFrame(x_test, columns=['User','Latitude','Longitude', '0'])\n",
    "y_test_df = pd.DataFrame(y_test)"
   ]
  },
  {
   "cell_type": "code",
   "execution_count": 32,
   "id": "f1f405d0-a236-4fdc-b1f9-9e9bbe7e25e5",
   "metadata": {},
   "outputs": [
    {
     "name": "stdout",
     "output_type": "stream",
     "text": [
      "Loading checkins\n",
      "Loading POIs\n"
     ]
    }
   ],
   "source": [
    "print(\"Loading checkins\")\n",
    "checkin_cols = ['user_id', 'poi_id', 'timestamp', 'timezone']\n",
    "checkins = pd.read_csv(r'C:\\Users\\lasse\\Desktop\\RecommenderDL\\datasets\\Den_checkins.csv', sep=',', names=checkin_cols, encoding='latin-1').dropna(axis=1)\n",
    "\n",
    "print(\"Loading POIs\")\n",
    "venue_cols = ['poi_id', 'latitude', 'longitude', 'category', 'country_code']\n",
    "pois = pd.read_csv(r'C:\\Users\\lasse\\Desktop\\RecommenderDL\\datasets\\Den_pois.csv', sep=',', names=venue_cols, encoding='latin-1')\n",
    "\n",
    "c = pd.DataFrame(checkins, columns=['user_id', 'poi_id'])\n",
    "p = pd.DataFrame(pois, columns=['poi_id', 'latitude', 'longitude', 'category'])\n",
    "\n",
    "categories1 = p.merge(c, on='poi_id')"
   ]
  },
  {
   "cell_type": "code",
   "execution_count": 99,
   "id": "1822f721-8cdd-40e6-8d14-ed06c57ada7d",
   "metadata": {},
   "outputs": [
    {
     "name": "stdout",
     "output_type": "stream",
     "text": [
      "              User   Latitude  Longitude     0\n",
      "1.0       140208.0  55.778178  12.498369  30.0\n",
      "2.0       167915.0  55.661986  12.610502  33.0\n",
      "3.0       215805.0  55.678844  12.571694   5.0\n",
      "4.0       266428.0  55.757718  12.516561   5.0\n",
      "5.0       156019.0   55.67946  12.575359  87.0\n",
      "...            ...        ...        ...   ...\n",
      "328779.0   38574.0  55.882216  12.497458  11.0\n",
      "328780.0    5523.0   55.88127  12.498967   1.0\n",
      "328781.0  189543.0  55.668259  12.557653  12.0\n",
      "328782.0  201860.0  55.674305  12.559395   8.0\n",
      "328783.0  201337.0  55.688424  12.504158  30.0\n",
      "\n",
      "[328783 rows x 4 columns]\n"
     ]
    }
   ],
   "source": [
    "print(x_test_df)"
   ]
  },
  {
   "cell_type": "code",
   "execution_count": 107,
   "id": "64bc2a1a-da81-451a-9747-9de95e163b2a",
   "metadata": {},
   "outputs": [
    {
     "name": "stdout",
     "output_type": "stream",
     "text": [
      "ERROR\n",
      "2839.0\n",
      "24356.0\n",
      "55.628444\n",
      "12.649469\n",
      "0.0\n",
      "tf.Tensor([[[-0.02872161]]], shape=(1, 1, 1), dtype=float32)\n",
      "ERROR\n",
      "5905.0\n",
      "83051.0\n",
      "55.628444\n",
      "12.649469\n",
      "0.0\n",
      "tf.Tensor([[[-0.01290249]]], shape=(1, 1, 1), dtype=float32)\n",
      "ERROR\n",
      "7021.0\n",
      "9912.0\n",
      "55.661622\n",
      "12.604347\n",
      "0.0\n",
      "tf.Tensor([[[-0.00159838]]], shape=(1, 1, 1), dtype=float32)\n",
      "ERROR\n",
      "7585.0\n",
      "155807.0\n",
      "55.68315\n",
      "12.571106\n",
      "0.0\n",
      "tf.Tensor([[[0.0085336]]], shape=(1, 1, 1), dtype=float32)\n",
      "ERROR\n",
      "9631.0\n",
      "21859.0\n",
      "55.680156\n",
      "12.582083\n",
      "0.0\n",
      "tf.Tensor([[[-0.01703239]]], shape=(1, 1, 1), dtype=float32)\n",
      "ERROR\n",
      "12146.0\n",
      "9912.0\n",
      "55.661622\n",
      "12.604347\n",
      "0.0\n",
      "tf.Tensor([[[-0.00159838]]], shape=(1, 1, 1), dtype=float32)\n",
      "ERROR\n",
      "13954.0\n",
      "18933.0\n",
      "55.628444\n",
      "12.649469\n",
      "0.0\n",
      "tf.Tensor([[[-0.03127731]]], shape=(1, 1, 1), dtype=float32)\n",
      "ERROR\n",
      "16807.0\n",
      "38850.0\n",
      "55.672043\n",
      "12.565012\n",
      "0.0\n",
      "tf.Tensor([[[-0.01223923]]], shape=(1, 1, 1), dtype=float32)\n",
      "ERROR\n",
      "18105.0\n",
      "75696.0\n",
      "55.67256\n",
      "12.565074\n",
      "0.0\n",
      "tf.Tensor([[[0.02150839]]], shape=(1, 1, 1), dtype=float32)\n",
      "ERROR\n",
      "19765.0\n",
      "188647.0\n",
      "55.628444\n",
      "12.649469\n",
      "0.0\n",
      "tf.Tensor([[[0.00144899]]], shape=(1, 1, 1), dtype=float32)\n",
      "ERROR\n",
      "22064.0\n",
      "13749.0\n",
      "55.628444\n",
      "12.649469\n",
      "0.0\n",
      "tf.Tensor([[[0.03487568]]], shape=(1, 1, 1), dtype=float32)\n",
      "ERROR\n",
      "31048.0\n",
      "26478.0\n",
      "55.702714\n",
      "12.572286\n",
      "0.0\n",
      "tf.Tensor([[[-0.01335507]]], shape=(1, 1, 1), dtype=float32)\n"
     ]
    },
    {
     "ename": "KeyboardInterrupt",
     "evalue": "",
     "output_type": "error",
     "traceback": [
      "\u001b[1;31m---------------------------------------------------------------------------\u001b[0m",
      "\u001b[1;31mKeyboardInterrupt\u001b[0m                         Traceback (most recent call last)",
      "\u001b[1;32m<ipython-input-107-05bd61080cce>\u001b[0m in \u001b[0;36m<module>\u001b[1;34m\u001b[0m\n\u001b[0;32m      7\u001b[0m \u001b[1;33m\u001b[0m\u001b[0m\n\u001b[0;32m      8\u001b[0m     \u001b[1;32mif\u001b[0m \u001b[0mgroundtruth\u001b[0m \u001b[1;33m==\u001b[0m \u001b[1;36m0\u001b[0m\u001b[1;33m:\u001b[0m\u001b[1;33m\u001b[0m\u001b[1;33m\u001b[0m\u001b[0m\n\u001b[1;32m----> 9\u001b[1;33m         \u001b[0mtest\u001b[0m \u001b[1;33m=\u001b[0m \u001b[0mcategories1\u001b[0m\u001b[1;33m.\u001b[0m\u001b[0mloc\u001b[0m\u001b[1;33m[\u001b[0m\u001b[1;33m(\u001b[0m\u001b[0mcategories1\u001b[0m\u001b[1;33m[\u001b[0m\u001b[1;34m'user_id'\u001b[0m\u001b[1;33m]\u001b[0m \u001b[1;33m==\u001b[0m \u001b[0muser\u001b[0m\u001b[1;33m)\u001b[0m \u001b[1;33m&\u001b[0m \u001b[1;33m(\u001b[0m\u001b[0mcategories1\u001b[0m\u001b[1;33m[\u001b[0m\u001b[1;34m'latitude'\u001b[0m\u001b[1;33m]\u001b[0m \u001b[1;33m==\u001b[0m \u001b[0mlat\u001b[0m\u001b[1;33m)\u001b[0m \u001b[1;33m&\u001b[0m \u001b[1;33m(\u001b[0m\u001b[0mcategories1\u001b[0m\u001b[1;33m[\u001b[0m\u001b[1;34m'longitude'\u001b[0m\u001b[1;33m]\u001b[0m \u001b[1;33m==\u001b[0m \u001b[0mlong\u001b[0m\u001b[1;33m)\u001b[0m\u001b[1;33m]\u001b[0m\u001b[1;33m\u001b[0m\u001b[1;33m\u001b[0m\u001b[0m\n\u001b[0m\u001b[0;32m     10\u001b[0m         \u001b[0mboolean\u001b[0m \u001b[1;33m=\u001b[0m \u001b[0mtest\u001b[0m\u001b[1;33m.\u001b[0m\u001b[0mempty\u001b[0m\u001b[1;33m\u001b[0m\u001b[1;33m\u001b[0m\u001b[0m\n\u001b[0;32m     11\u001b[0m         \u001b[1;32mif\u001b[0m \u001b[1;32mnot\u001b[0m \u001b[0mboolean\u001b[0m\u001b[1;33m:\u001b[0m\u001b[1;33m\u001b[0m\u001b[1;33m\u001b[0m\u001b[0m\n",
      "\u001b[1;32m~\\anaconda3\\lib\\site-packages\\pandas\\core\\ops\\common.py\u001b[0m in \u001b[0;36mnew_method\u001b[1;34m(self, other)\u001b[0m\n\u001b[0;32m     67\u001b[0m         \u001b[0mother\u001b[0m \u001b[1;33m=\u001b[0m \u001b[0mitem_from_zerodim\u001b[0m\u001b[1;33m(\u001b[0m\u001b[0mother\u001b[0m\u001b[1;33m)\u001b[0m\u001b[1;33m\u001b[0m\u001b[1;33m\u001b[0m\u001b[0m\n\u001b[0;32m     68\u001b[0m \u001b[1;33m\u001b[0m\u001b[0m\n\u001b[1;32m---> 69\u001b[1;33m         \u001b[1;32mreturn\u001b[0m \u001b[0mmethod\u001b[0m\u001b[1;33m(\u001b[0m\u001b[0mself\u001b[0m\u001b[1;33m,\u001b[0m \u001b[0mother\u001b[0m\u001b[1;33m)\u001b[0m\u001b[1;33m\u001b[0m\u001b[1;33m\u001b[0m\u001b[0m\n\u001b[0m\u001b[0;32m     70\u001b[0m \u001b[1;33m\u001b[0m\u001b[0m\n\u001b[0;32m     71\u001b[0m     \u001b[1;32mreturn\u001b[0m \u001b[0mnew_method\u001b[0m\u001b[1;33m\u001b[0m\u001b[1;33m\u001b[0m\u001b[0m\n",
      "\u001b[1;32m~\\anaconda3\\lib\\site-packages\\pandas\\core\\arraylike.py\u001b[0m in \u001b[0;36m__eq__\u001b[1;34m(self, other)\u001b[0m\n\u001b[0;32m     30\u001b[0m     \u001b[1;33m@\u001b[0m\u001b[0munpack_zerodim_and_defer\u001b[0m\u001b[1;33m(\u001b[0m\u001b[1;34m\"__eq__\"\u001b[0m\u001b[1;33m)\u001b[0m\u001b[1;33m\u001b[0m\u001b[1;33m\u001b[0m\u001b[0m\n\u001b[0;32m     31\u001b[0m     \u001b[1;32mdef\u001b[0m \u001b[0m__eq__\u001b[0m\u001b[1;33m(\u001b[0m\u001b[0mself\u001b[0m\u001b[1;33m,\u001b[0m \u001b[0mother\u001b[0m\u001b[1;33m)\u001b[0m\u001b[1;33m:\u001b[0m\u001b[1;33m\u001b[0m\u001b[1;33m\u001b[0m\u001b[0m\n\u001b[1;32m---> 32\u001b[1;33m         \u001b[1;32mreturn\u001b[0m \u001b[0mself\u001b[0m\u001b[1;33m.\u001b[0m\u001b[0m_cmp_method\u001b[0m\u001b[1;33m(\u001b[0m\u001b[0mother\u001b[0m\u001b[1;33m,\u001b[0m \u001b[0moperator\u001b[0m\u001b[1;33m.\u001b[0m\u001b[0meq\u001b[0m\u001b[1;33m)\u001b[0m\u001b[1;33m\u001b[0m\u001b[1;33m\u001b[0m\u001b[0m\n\u001b[0m\u001b[0;32m     33\u001b[0m \u001b[1;33m\u001b[0m\u001b[0m\n\u001b[0;32m     34\u001b[0m     \u001b[1;33m@\u001b[0m\u001b[0munpack_zerodim_and_defer\u001b[0m\u001b[1;33m(\u001b[0m\u001b[1;34m\"__ne__\"\u001b[0m\u001b[1;33m)\u001b[0m\u001b[1;33m\u001b[0m\u001b[1;33m\u001b[0m\u001b[0m\n",
      "\u001b[1;32m~\\anaconda3\\lib\\site-packages\\pandas\\core\\series.py\u001b[0m in \u001b[0;36m_cmp_method\u001b[1;34m(self, other, op)\u001b[0m\n\u001b[0;32m   5500\u001b[0m \u001b[1;33m\u001b[0m\u001b[0m\n\u001b[0;32m   5501\u001b[0m         \u001b[1;32mwith\u001b[0m \u001b[0mnp\u001b[0m\u001b[1;33m.\u001b[0m\u001b[0merrstate\u001b[0m\u001b[1;33m(\u001b[0m\u001b[0mall\u001b[0m\u001b[1;33m=\u001b[0m\u001b[1;34m\"ignore\"\u001b[0m\u001b[1;33m)\u001b[0m\u001b[1;33m:\u001b[0m\u001b[1;33m\u001b[0m\u001b[1;33m\u001b[0m\u001b[0m\n\u001b[1;32m-> 5502\u001b[1;33m             \u001b[0mres_values\u001b[0m \u001b[1;33m=\u001b[0m \u001b[0mops\u001b[0m\u001b[1;33m.\u001b[0m\u001b[0mcomparison_op\u001b[0m\u001b[1;33m(\u001b[0m\u001b[0mlvalues\u001b[0m\u001b[1;33m,\u001b[0m \u001b[0mrvalues\u001b[0m\u001b[1;33m,\u001b[0m \u001b[0mop\u001b[0m\u001b[1;33m)\u001b[0m\u001b[1;33m\u001b[0m\u001b[1;33m\u001b[0m\u001b[0m\n\u001b[0m\u001b[0;32m   5503\u001b[0m \u001b[1;33m\u001b[0m\u001b[0m\n\u001b[0;32m   5504\u001b[0m         \u001b[1;32mreturn\u001b[0m \u001b[0mself\u001b[0m\u001b[1;33m.\u001b[0m\u001b[0m_construct_result\u001b[0m\u001b[1;33m(\u001b[0m\u001b[0mres_values\u001b[0m\u001b[1;33m,\u001b[0m \u001b[0mname\u001b[0m\u001b[1;33m=\u001b[0m\u001b[0mres_name\u001b[0m\u001b[1;33m)\u001b[0m\u001b[1;33m\u001b[0m\u001b[1;33m\u001b[0m\u001b[0m\n",
      "\u001b[1;32m~\\anaconda3\\lib\\site-packages\\pandas\\core\\ops\\array_ops.py\u001b[0m in \u001b[0;36mcomparison_op\u001b[1;34m(left, right, op)\u001b[0m\n\u001b[0;32m    285\u001b[0m \u001b[1;33m\u001b[0m\u001b[0m\n\u001b[0;32m    286\u001b[0m     \u001b[1;32melse\u001b[0m\u001b[1;33m:\u001b[0m\u001b[1;33m\u001b[0m\u001b[1;33m\u001b[0m\u001b[0m\n\u001b[1;32m--> 287\u001b[1;33m         \u001b[0mres_values\u001b[0m \u001b[1;33m=\u001b[0m \u001b[0m_na_arithmetic_op\u001b[0m\u001b[1;33m(\u001b[0m\u001b[0mlvalues\u001b[0m\u001b[1;33m,\u001b[0m \u001b[0mrvalues\u001b[0m\u001b[1;33m,\u001b[0m \u001b[0mop\u001b[0m\u001b[1;33m,\u001b[0m \u001b[0mis_cmp\u001b[0m\u001b[1;33m=\u001b[0m\u001b[1;32mTrue\u001b[0m\u001b[1;33m)\u001b[0m\u001b[1;33m\u001b[0m\u001b[1;33m\u001b[0m\u001b[0m\n\u001b[0m\u001b[0;32m    288\u001b[0m \u001b[1;33m\u001b[0m\u001b[0m\n\u001b[0;32m    289\u001b[0m     \u001b[1;32mreturn\u001b[0m \u001b[0mres_values\u001b[0m\u001b[1;33m\u001b[0m\u001b[1;33m\u001b[0m\u001b[0m\n",
      "\u001b[1;32m~\\anaconda3\\lib\\site-packages\\pandas\\core\\ops\\array_ops.py\u001b[0m in \u001b[0;36m_na_arithmetic_op\u001b[1;34m(left, right, op, is_cmp)\u001b[0m\n\u001b[0;32m    164\u001b[0m \u001b[1;33m\u001b[0m\u001b[0m\n\u001b[0;32m    165\u001b[0m     \u001b[1;32mtry\u001b[0m\u001b[1;33m:\u001b[0m\u001b[1;33m\u001b[0m\u001b[1;33m\u001b[0m\u001b[0m\n\u001b[1;32m--> 166\u001b[1;33m         \u001b[0mresult\u001b[0m \u001b[1;33m=\u001b[0m \u001b[0mfunc\u001b[0m\u001b[1;33m(\u001b[0m\u001b[0mleft\u001b[0m\u001b[1;33m,\u001b[0m \u001b[0mright\u001b[0m\u001b[1;33m)\u001b[0m\u001b[1;33m\u001b[0m\u001b[1;33m\u001b[0m\u001b[0m\n\u001b[0m\u001b[0;32m    167\u001b[0m     \u001b[1;32mexcept\u001b[0m \u001b[0mTypeError\u001b[0m\u001b[1;33m:\u001b[0m\u001b[1;33m\u001b[0m\u001b[1;33m\u001b[0m\u001b[0m\n\u001b[0;32m    168\u001b[0m         \u001b[1;32mif\u001b[0m \u001b[0mis_object_dtype\u001b[0m\u001b[1;33m(\u001b[0m\u001b[0mleft\u001b[0m\u001b[1;33m)\u001b[0m \u001b[1;32mor\u001b[0m \u001b[0mis_object_dtype\u001b[0m\u001b[1;33m(\u001b[0m\u001b[0mright\u001b[0m\u001b[1;33m)\u001b[0m \u001b[1;32mand\u001b[0m \u001b[1;32mnot\u001b[0m \u001b[0mis_cmp\u001b[0m\u001b[1;33m:\u001b[0m\u001b[1;33m\u001b[0m\u001b[1;33m\u001b[0m\u001b[0m\n",
      "\u001b[1;32m~\\anaconda3\\lib\\site-packages\\pandas\\core\\computation\\expressions.py\u001b[0m in \u001b[0;36mevaluate\u001b[1;34m(op, a, b, use_numexpr)\u001b[0m\n\u001b[0;32m    237\u001b[0m         \u001b[1;32mif\u001b[0m \u001b[0muse_numexpr\u001b[0m\u001b[1;33m:\u001b[0m\u001b[1;33m\u001b[0m\u001b[1;33m\u001b[0m\u001b[0m\n\u001b[0;32m    238\u001b[0m             \u001b[1;31m# error: \"None\" not callable\u001b[0m\u001b[1;33m\u001b[0m\u001b[1;33m\u001b[0m\u001b[1;33m\u001b[0m\u001b[0m\n\u001b[1;32m--> 239\u001b[1;33m             \u001b[1;32mreturn\u001b[0m \u001b[0m_evaluate\u001b[0m\u001b[1;33m(\u001b[0m\u001b[0mop\u001b[0m\u001b[1;33m,\u001b[0m \u001b[0mop_str\u001b[0m\u001b[1;33m,\u001b[0m \u001b[0ma\u001b[0m\u001b[1;33m,\u001b[0m \u001b[0mb\u001b[0m\u001b[1;33m)\u001b[0m  \u001b[1;31m# type: ignore[misc]\u001b[0m\u001b[1;33m\u001b[0m\u001b[1;33m\u001b[0m\u001b[0m\n\u001b[0m\u001b[0;32m    240\u001b[0m     \u001b[1;32mreturn\u001b[0m \u001b[0m_evaluate_standard\u001b[0m\u001b[1;33m(\u001b[0m\u001b[0mop\u001b[0m\u001b[1;33m,\u001b[0m \u001b[0mop_str\u001b[0m\u001b[1;33m,\u001b[0m \u001b[0ma\u001b[0m\u001b[1;33m,\u001b[0m \u001b[0mb\u001b[0m\u001b[1;33m)\u001b[0m\u001b[1;33m\u001b[0m\u001b[1;33m\u001b[0m\u001b[0m\n\u001b[0;32m    241\u001b[0m \u001b[1;33m\u001b[0m\u001b[0m\n",
      "\u001b[1;32m~\\anaconda3\\lib\\site-packages\\pandas\\core\\computation\\expressions.py\u001b[0m in \u001b[0;36m_evaluate_numexpr\u001b[1;34m(op, op_str, a, b)\u001b[0m\n\u001b[0;32m    126\u001b[0m \u001b[1;33m\u001b[0m\u001b[0m\n\u001b[0;32m    127\u001b[0m     \u001b[1;32mif\u001b[0m \u001b[0mresult\u001b[0m \u001b[1;32mis\u001b[0m \u001b[1;32mNone\u001b[0m\u001b[1;33m:\u001b[0m\u001b[1;33m\u001b[0m\u001b[1;33m\u001b[0m\u001b[0m\n\u001b[1;32m--> 128\u001b[1;33m         \u001b[0mresult\u001b[0m \u001b[1;33m=\u001b[0m \u001b[0m_evaluate_standard\u001b[0m\u001b[1;33m(\u001b[0m\u001b[0mop\u001b[0m\u001b[1;33m,\u001b[0m \u001b[0mop_str\u001b[0m\u001b[1;33m,\u001b[0m \u001b[0ma\u001b[0m\u001b[1;33m,\u001b[0m \u001b[0mb\u001b[0m\u001b[1;33m)\u001b[0m\u001b[1;33m\u001b[0m\u001b[1;33m\u001b[0m\u001b[0m\n\u001b[0m\u001b[0;32m    129\u001b[0m \u001b[1;33m\u001b[0m\u001b[0m\n\u001b[0;32m    130\u001b[0m     \u001b[1;32mreturn\u001b[0m \u001b[0mresult\u001b[0m\u001b[1;33m\u001b[0m\u001b[1;33m\u001b[0m\u001b[0m\n",
      "\u001b[1;32m~\\anaconda3\\lib\\site-packages\\pandas\\core\\computation\\expressions.py\u001b[0m in \u001b[0;36m_evaluate_standard\u001b[1;34m(op, op_str, a, b)\u001b[0m\n\u001b[0;32m     67\u001b[0m     \u001b[1;32mif\u001b[0m \u001b[0m_TEST_MODE\u001b[0m\u001b[1;33m:\u001b[0m\u001b[1;33m\u001b[0m\u001b[1;33m\u001b[0m\u001b[0m\n\u001b[0;32m     68\u001b[0m         \u001b[0m_store_test_result\u001b[0m\u001b[1;33m(\u001b[0m\u001b[1;32mFalse\u001b[0m\u001b[1;33m)\u001b[0m\u001b[1;33m\u001b[0m\u001b[1;33m\u001b[0m\u001b[0m\n\u001b[1;32m---> 69\u001b[1;33m     \u001b[1;32mreturn\u001b[0m \u001b[0mop\u001b[0m\u001b[1;33m(\u001b[0m\u001b[0ma\u001b[0m\u001b[1;33m,\u001b[0m \u001b[0mb\u001b[0m\u001b[1;33m)\u001b[0m\u001b[1;33m\u001b[0m\u001b[1;33m\u001b[0m\u001b[0m\n\u001b[0m\u001b[0;32m     70\u001b[0m \u001b[1;33m\u001b[0m\u001b[0m\n\u001b[0;32m     71\u001b[0m \u001b[1;33m\u001b[0m\u001b[0m\n",
      "\u001b[1;31mKeyboardInterrupt\u001b[0m: "
     ]
    }
   ],
   "source": [
    "for index, row in x_test_df.iterrows():\n",
    "    long = float(x_test_df.loc[index, 'Longitude'])\n",
    "    lat = float(x_test_df.loc[index, 'Latitude'])\n",
    "    user = float(x_test_df.loc[index, 'User'])\n",
    "    cat = float(x_test_df.loc[index, '0'])\n",
    "    groundtruth = y_test_df.loc[index, '0']\n",
    "    \n",
    "    if groundtruth == 0:\n",
    "        test = categories1.loc[(categories1['user_id'] == user) & (categories1['latitude'] == lat) & (categories1['longitude'] == long)]\n",
    "        boolean = test.empty\n",
    "        if not boolean:\n",
    "            print(\"ERROR\")\n",
    "            print(index)\n",
    "            print(user)\n",
    "            print(lat)\n",
    "            print(long)\n",
    "            print(groundtruth)\n",
    "            user = encoding_array.get(user)\n",
    "            long = tf.convert_to_tensor([long],dtype=None, dtype_hint=None, name=None)\n",
    "            lat = tf.convert_to_tensor([lat],dtype=None, dtype_hint=None, name=None)\n",
    "            user = tf.convert_to_tensor([user],dtype=None, dtype_hint=None, name=None)\n",
    "            cat = tf.convert_to_tensor([cat],dtype=None, dtype_hint=None, name=None)\n",
    "            score = model([cat, lat, long, user])\n",
    "            print(score)\n",
    "    elif groundtruth == 1:\n",
    "        test = categories1.loc[(categories1['user_id'] == user) & (categories1['latitude'] == lat) & (categories1['longitude'] == long)]\n",
    "        boolean = test.empty\n",
    "        if boolean:\n",
    "            print(\"ERROR\")\n",
    "            print(index)\n",
    "            print(user)\n",
    "            print(lat)\n",
    "            print(long)\n",
    "            print(groundtruth)"
   ]
  },
  {
   "cell_type": "code",
   "execution_count": 119,
   "id": "10646dbf-6185-42b3-9ee8-054f8b47acd7",
   "metadata": {},
   "outputs": [
    {
     "name": "stdout",
     "output_type": "stream",
     "text": [
      "                         poi_id   latitude  longitude        category  user_id\n",
      "10445  51973b01498e76a6f48bf059  55.737798  12.522954  Home (private)    71191\n"
     ]
    }
   ],
   "source": [
    "259108.0\n",
    "55.737798\n",
    "12.522954\n",
    "test = categories1.loc[(categories1['user_id'] == 71191.0) & (categories1['latitude'] == 55.737798) & (categories1['longitude'] == 12.522954)]\n",
    "print(test)"
   ]
  },
  {
   "cell_type": "raw",
   "id": "4d2c3054-d4fd-4184-af3d-7bc793368ae0",
   "metadata": {},
   "source": []
  }
 ],
 "metadata": {
  "kernelspec": {
   "display_name": "Python 3",
   "language": "python",
   "name": "python3"
  },
  "language_info": {
   "codemirror_mode": {
    "name": "ipython",
    "version": 3
   },
   "file_extension": ".py",
   "mimetype": "text/x-python",
   "name": "python",
   "nbconvert_exporter": "python",
   "pygments_lexer": "ipython3",
   "version": "3.8.8"
  }
 },
 "nbformat": 4,
 "nbformat_minor": 5
}
