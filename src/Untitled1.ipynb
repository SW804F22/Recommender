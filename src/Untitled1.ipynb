{
 "cells": [
  {
   "cell_type": "code",
   "execution_count": 1,
   "id": "ff5cf7b8-698e-43f9-9c95-36c3e4b09923",
   "metadata": {},
   "outputs": [],
   "source": [
    "from tensorflow import keras\n",
    "from tensorflow.keras import layers\n",
    "from tensorflow.keras import backend as K\n",
    "import tensorflow as tf\n",
    "import pandas as pd\n",
    "import numpy as np\n",
    "from sklearn.impute import SimpleImputer\n",
    "from sklearn.preprocessing import Normalizer , scale\n",
    "from sklearn.model_selection import GridSearchCV , KFold , cross_val_score\n",
    "from sklearn.metrics import mean_squared_log_error,mean_squared_error, r2_score,mean_absolute_error \n",
    "from sklearn.metrics import accuracy_score,precision_score,recall_score,f1_score\n",
    "from sklearn.neighbors import NearestNeighbors\n",
    "from sklearn.model_selection import train_test_split, KFold\n",
    "from sklearn.model_selection import StratifiedKFold\n",
    "from sklearn.model_selection import cross_val_score\n",
    "from sklearn.preprocessing import LabelEncoder\n",
    "from keras.models import Model\n",
    "from sklearn.utils import shuffle\n",
    "from keras.utils import plot_model\n",
    "%matplotlib inline"
   ]
  },
  {
   "cell_type": "code",
   "execution_count": 2,
   "id": "838984fd-61a4-42b5-830d-85fbeb6b548e",
   "metadata": {},
   "outputs": [
    {
     "name": "stderr",
     "output_type": "stream",
     "text": [
      "C:\\Users\\lasse\\anaconda3\\lib\\site-packages\\IPython\\core\\interactiveshell.py:3437: DtypeWarning: Columns (0,3) have mixed types.Specify dtype option on import or set low_memory=False.\n",
      "  exec(code_obj, self.user_global_ns, self.user_ns)\n",
      "C:\\Users\\lasse\\anaconda3\\lib\\site-packages\\IPython\\core\\interactiveshell.py:3437: DtypeWarning: Columns (1,2) have mixed types.Specify dtype option on import or set low_memory=False.\n",
      "  exec(code_obj, self.user_global_ns, self.user_ns)\n"
     ]
    }
   ],
   "source": [
    "checkin_cols = ['user_id', 'poi_id', 'timestamp', 'timezone']\n",
    "checkins = pd.read_csv(r'C:\\Users\\lasse\\Desktop\\RecommenderDL\\datasets\\TIST2015_Checkins.csv', sep=',', names=checkin_cols, encoding='latin-1')\n",
    "\n",
    "venue_cols = ['poi_id', 'latitude', 'longitude', 'category', 'country_code']\n",
    "pois = pd.read_csv(r'C:\\Users\\lasse\\Desktop\\RecommenderDL\\datasets\\TIST2015_POIs.csv', sep=',', names=venue_cols, encoding='latin-1')"
   ]
  },
  {
   "cell_type": "code",
   "execution_count": 3,
   "id": "e5ac5aa1-87ae-43c1-b917-f45c9728eb93",
   "metadata": {},
   "outputs": [
    {
     "name": "stdout",
     "output_type": "stream",
     "text": [
      "Number of checkins in denmark\n",
      "Number of unique users in denmark\n"
     ]
    },
    {
     "data": {
      "text/plain": [
       "981"
      ]
     },
     "execution_count": 3,
     "metadata": {},
     "output_type": "execute_result"
    }
   ],
   "source": [
    "country = pd.DataFrame(pois, columns=['poi_id', 'country_code'])\n",
    "countrycode = checkins.merge(country, on='poi_id')\n",
    "\n",
    "denmark = countrycode.where(countrycode['country_code'] == 'DK').dropna()\n",
    "\n",
    "print(\"Number of checkins in denmark\")\n",
    "len(denmark)\n",
    "\n",
    "users_denmark = denmark.copy()\n",
    "users_denmark.drop_duplicates(subset=\"user_id\", keep = 'first', inplace = True)\n",
    "\n",
    "print(\"Number of unique users in denmark\")\n",
    "len(users_denmark)"
   ]
  },
  {
   "cell_type": "code",
   "execution_count": 9,
   "id": "295267f8-69f6-4ea0-b5a8-09384bd930ab",
   "metadata": {},
   "outputs": [
    {
     "name": "stdout",
     "output_type": "stream",
     "text": [
      "         user_id                    poi_id                       timestamp  \\\n",
      "524329    233919  4c2f45da66e40f47aa8ec18b  Tue Apr 03 18:19:44 +0000 2012   \n",
      "731652    190585  4adcdb00f964a520775e21e3  Tue Apr 03 18:30:09 +0000 2012   \n",
      "731653     24779  4adcdb00f964a520775e21e3  Sun Apr 29 11:33:55 +0000 2012   \n",
      "731654     30835  4adcdb00f964a520775e21e3  Wed Jun 27 14:49:26 +0000 2012   \n",
      "731655      3884  4adcdb00f964a520775e21e3  Mon Nov 12 11:53:23 +0000 2012   \n",
      "...          ...                       ...                             ...   \n",
      "33257607   45339  4ae1d14ef964a520ac8721e3  Sat Sep 14 20:42:29 +0000 2013   \n",
      "33257719  241203  5234d16f11d2aa27377c1d6d  Sat Sep 14 21:14:11 +0000 2013   \n",
      "33261149  201974  4c4ec7deea24c9b6e7143a16  Mon Sep 16 09:34:09 +0000 2013   \n",
      "33261538   44648  4adcdafcf964a5205a5d21e3  Mon Sep 16 10:50:16 +0000 2013   \n",
      "33262742  216973  4b48e2c6f964a520be5b26e3  Mon Sep 16 16:52:20 +0000 2013   \n",
      "\n",
      "         timezone country_code  \n",
      "524329        120           DK  \n",
      "731652        120           DK  \n",
      "731653        120           DK  \n",
      "731654        120           DK  \n",
      "731655         60           DK  \n",
      "...           ...          ...  \n",
      "33257607      120           DK  \n",
      "33257719      120           DK  \n",
      "33261149      120           DK  \n",
      "33261538      120           DK  \n",
      "33262742      120           DK  \n",
      "\n",
      "[10473 rows x 5 columns]\n"
     ]
    }
   ],
   "source": [
    "print(denmark)"
   ]
  },
  {
   "cell_type": "code",
   "execution_count": 10,
   "id": "4cb85958-fa19-4a14-9941-0383c58e8ed2",
   "metadata": {},
   "outputs": [],
   "source": [
    "denmarksave = pd.DataFrame(denmark, columns=['user_id', 'poi_id', 'timestamp', 'timezone'])\n",
    "denmarksave.to_csv(r'C:\\Users\\lasse\\Desktop\\RecommenderDL\\datasets\\Den_checkins.csv', sep=',', index=['user_id', 'poi_id', 'timestamp', 'timezone'])\n",
    "poi_id = pd.DataFrame(denmark, columns=['poi_id'])\n",
    "pois_poi_id = pois.merge(poi_id, on='poi_id')\n",
    "pois_poi_id.drop_duplicates(subset=\"poi_id\", keep = 'first', inplace = True)\n",
    "pois_poi_id.to_csv(r'C:\\Users\\lasse\\Desktop\\RecommenderDL\\datasets\\Den_pois.csv', sep=',', index=['poi_id', 'latitude', 'longitude', 'category', 'country_code'])\n"
   ]
  },
  {
   "cell_type": "code",
   "execution_count": 5,
   "id": "03814fee-7c69-4c9d-b43b-3856f01f7e60",
   "metadata": {},
   "outputs": [
    {
     "name": "stdout",
     "output_type": "stream",
     "text": [
      "Number of checkins in Sweden\n",
      "Number of unique users in Sweden\n"
     ]
    },
    {
     "data": {
      "text/plain": [
       "1123"
      ]
     },
     "execution_count": 5,
     "metadata": {},
     "output_type": "execute_result"
    }
   ],
   "source": [
    "country = pd.DataFrame(pois, columns=['poi_id', 'country_code'])\n",
    "countrycode = checkins.merge(country, on='poi_id')\n",
    "\n",
    "sweden = countrycode.where(countrycode['country_code'] == 'SE').dropna()\n",
    "\n",
    "print(\"Number of checkins in Sweden\")\n",
    "len(sweden)\n",
    "\n",
    "users_sweden = sweden.copy()\n",
    "users_sweden.drop_duplicates(subset=\"user_id\", keep = 'first', inplace = True)\n",
    "\n",
    "print(\"Number of unique users in Sweden\")\n",
    "len(users_sweden)"
   ]
  },
  {
   "cell_type": "code",
   "execution_count": 11,
   "id": "8b5f3749-e375-4893-96f8-89839d97cb1f",
   "metadata": {},
   "outputs": [],
   "source": [
    "denswe = pd.concat([denmark, sweden], axis=0)\n",
    "denmarksave = pd.DataFrame(denswe, columns=['user_id', 'poi_id', 'timestamp', 'timezone'])\n",
    "denmarksave.to_csv(r'C:\\Users\\lasse\\Desktop\\RecommenderDL\\datasets\\DenSwe_checkins.csv', sep=',', index=['user_id', 'poi_id', 'timestamp', 'timezone'])\n",
    "poi_id = pd.DataFrame(denswe, columns=['poi_id'])\n",
    "pois_poi_id = pois.merge(poi_id, on='poi_id')\n",
    "pois_poi_id.drop_duplicates(subset=\"poi_id\", keep = 'first', inplace = True)\n",
    "pois_poi_id.to_csv(r'C:\\Users\\lasse\\Desktop\\RecommenderDL\\datasets\\DenSwe_pois.csv', sep=',', index=['poi_id', 'latitude', 'longitude', 'category', 'country_code'])\n"
   ]
  },
  {
   "cell_type": "code",
   "execution_count": 7,
   "id": "2fbb9c3f-ff4a-4c23-b7f6-4712bb37a978",
   "metadata": {},
   "outputs": [
    {
     "name": "stdout",
     "output_type": "stream",
     "text": [
      "Number of checkins in Germany\n",
      "Number of unique users in Germany\n"
     ]
    },
    {
     "data": {
      "text/plain": [
       "7901"
      ]
     },
     "execution_count": 7,
     "metadata": {},
     "output_type": "execute_result"
    }
   ],
   "source": [
    "country = pd.DataFrame(pois, columns=['poi_id', 'country_code'])\n",
    "countrycode = checkins.merge(country, on='poi_id')\n",
    "\n",
    "germany = countrycode.where(countrycode['country_code'] == 'DE').dropna()\n",
    "\n",
    "print(\"Number of checkins in Germany\")\n",
    "len(germany)\n",
    "\n",
    "users_germany = germany.copy()\n",
    "users_germany.drop_duplicates(subset=\"user_id\", keep = 'first', inplace = True)\n",
    "\n",
    "print(\"Number of unique users in Germany\")\n",
    "len(users_germany)"
   ]
  },
  {
   "cell_type": "code",
   "execution_count": 12,
   "id": "5a2c1249-4e71-46f3-9fde-b0aa1b2a844e",
   "metadata": {},
   "outputs": [],
   "source": [
    "densweger = pd.concat([denswe, germany], axis=0)\n",
    "denmarksave = pd.DataFrame(densweger, columns=['user_id', 'poi_id', 'timestamp', 'timezone'])\n",
    "denmarksave.to_csv(r'C:\\Users\\lasse\\Desktop\\RecommenderDL\\datasets\\DenSweGer_checkins.csv', sep=',', index=['user_id', 'poi_id', 'timestamp', 'timezone'])\n",
    "poi_id = pd.DataFrame(densweger, columns=['poi_id'])\n",
    "pois_poi_id = pois.merge(poi_id, on='poi_id')\n",
    "pois_poi_id.drop_duplicates(subset=\"poi_id\", keep = 'first', inplace = True)\n",
    "pois_poi_id.to_csv(r'C:\\Users\\lasse\\Desktop\\RecommenderDL\\datasets\\DenSweGer_pois.csv', sep=',', index=['poi_id', 'latitude', 'longitude', 'category', 'country_code'])\n"
   ]
  },
  {
   "cell_type": "code",
   "execution_count": 9,
   "id": "291f1edf-4077-4890-b1c5-7169a9f0e79b",
   "metadata": {},
   "outputs": [
    {
     "data": {
      "text/plain": [
       "30228"
      ]
     },
     "execution_count": 9,
     "metadata": {},
     "output_type": "execute_result"
    }
   ],
   "source": [
    "densweger.to_csv(r'C:\\Users\\lasse\\Desktop\\RecommenderDL\\datasets\\DenSweGer.csv', sep=',', index=['user_id', 'poi_id', 'timestamp', 'timezone', 'country_code'])"
   ]
  },
  {
   "cell_type": "code",
   "execution_count": 12,
   "id": "658da45b-2d62-47c9-b417-ec9325afc06e",
   "metadata": {},
   "outputs": [],
   "source": [
    "#denmark.join(sweden)\n"
   ]
  },
  {
   "cell_type": "code",
   "execution_count": 15,
   "id": "b0b87800-90af-4b80-8473-214c527c19b1",
   "metadata": {},
   "outputs": [
    {
     "data": {
      "text/plain": [
       "208726"
      ]
     },
     "execution_count": 15,
     "metadata": {},
     "output_type": "execute_result"
    }
   ],
   "source": [
    "len(densweger)"
   ]
  },
  {
   "cell_type": "code",
   "execution_count": 16,
   "id": "8bcf6b3d-2068-4d82-ac5f-7e1998322665",
   "metadata": {},
   "outputs": [
    {
     "name": "stdout",
     "output_type": "stream",
     "text": [
      "         user_id                    poi_id                       timestamp  \\\n",
      "524329    233919  4c2f45da66e40f47aa8ec18b  Tue Apr 03 18:19:44 +0000 2012   \n",
      "731652    190585  4adcdb00f964a520775e21e3  Tue Apr 03 18:30:09 +0000 2012   \n",
      "731653     24779  4adcdb00f964a520775e21e3  Sun Apr 29 11:33:55 +0000 2012   \n",
      "731654     30835  4adcdb00f964a520775e21e3  Wed Jun 27 14:49:26 +0000 2012   \n",
      "731655      3884  4adcdb00f964a520775e21e3  Mon Nov 12 11:53:23 +0000 2012   \n",
      "...          ...                       ...                             ...   \n",
      "33263019  258743  4b4e1154f964a5205ce026e3  Mon Sep 16 18:22:47 +0000 2013   \n",
      "33263227    9437  50c658d3e4b0dbacde326f19  Mon Sep 16 19:50:26 +0000 2013   \n",
      "33263331  128208  4bed1cf250669c74965248fb  Mon Sep 16 20:39:04 +0000 2013   \n",
      "33263405  136828  523776d511d2d88ae9c922cc  Mon Sep 16 21:24:26 +0000 2013   \n",
      "33263628  252648  4fd2309ee4b0362dd3c65ddc  Mon Sep 16 23:22:43 +0000 2013   \n",
      "\n",
      "         timezone country_code  \n",
      "524329        120           DK  \n",
      "731652        120           DK  \n",
      "731653        120           DK  \n",
      "731654        120           DK  \n",
      "731655         60           DK  \n",
      "...           ...          ...  \n",
      "33263019      120           DE  \n",
      "33263227      120           DE  \n",
      "33263331      120           DE  \n",
      "33263405      120           DE  \n",
      "33263628      120           DE  \n",
      "\n",
      "[208726 rows x 5 columns]\n"
     ]
    }
   ],
   "source": [
    "print(densweger)"
   ]
  },
  {
   "cell_type": "code",
   "execution_count": 18,
   "id": "b584abe4-ae28-4f42-bf58-80dfbc0da4b2",
   "metadata": {},
   "outputs": [],
   "source": [
    "densweger.to_csv(r'C:\\Users\\lasse\\Desktop\\RecommenderDL\\datasets\\DenSweGer.csv', sep=',', index=['user_id', 'poi_id', 'timestamp', 'timezone', 'country_code'])"
   ]
  },
  {
   "cell_type": "code",
   "execution_count": 19,
   "id": "e83e8b7a-3fc1-4ae7-bd3f-377e345ec363",
   "metadata": {},
   "outputs": [
    {
     "name": "stdout",
     "output_type": "stream",
     "text": [
      "Number of checkins in Sweden\n",
      "Number of unique users in Sweden\n"
     ]
    },
    {
     "data": {
      "text/plain": [
       "1123"
      ]
     },
     "execution_count": 19,
     "metadata": {},
     "output_type": "execute_result"
    }
   ],
   "source": [
    "country = pd.DataFrame(pois, columns=['poi_id', 'country_code'])\n",
    "countrycode = checkins.merge(country, on='poi_id')\n",
    "\n",
    "netherlands = countrycode.where(countrycode['country_code'] == 'NL').dropna()\n",
    "\n",
    "print(\"Number of checkins in Sweden\")\n",
    "len(netherlands)\n",
    "\n",
    "users_netherlands = sweden.copy()\n",
    "users_netherlands.drop_duplicates(subset=\"user_id\", keep = 'first', inplace = True)\n",
    "\n",
    "print(\"Number of unique users in Sweden\")\n",
    "len(users_netherlands)"
   ]
  },
  {
   "cell_type": "code",
   "execution_count": 25,
   "id": "178d21b4-fbf0-4550-b7ff-aeba240a5d50",
   "metadata": {},
   "outputs": [
    {
     "data": {
      "text/plain": [
       "33263634"
      ]
     },
     "execution_count": 25,
     "metadata": {},
     "output_type": "execute_result"
    }
   ],
   "source": [
    "len(checkins)"
   ]
  },
  {
   "cell_type": "code",
   "execution_count": 21,
   "id": "721a2629-cbbc-483d-beaf-7a4452958ae2",
   "metadata": {},
   "outputs": [],
   "source": [
    "densweger = pd.concat([densweger, netherlands], axis=0)"
   ]
  },
  {
   "cell_type": "code",
   "execution_count": 22,
   "id": "58fe9a95-91fd-4fee-82eb-743326f71178",
   "metadata": {},
   "outputs": [
    {
     "data": {
      "text/plain": [
       "423996"
      ]
     },
     "execution_count": 22,
     "metadata": {},
     "output_type": "execute_result"
    }
   ],
   "source": [
    "len(densweger)"
   ]
  },
  {
   "cell_type": "code",
   "execution_count": 23,
   "id": "e9fb184c-4ab1-4e6e-94d8-dce207e5f256",
   "metadata": {},
   "outputs": [],
   "source": [
    "densweger.to_csv(r'C:\\Users\\lasse\\Desktop\\RecommenderDL\\datasets\\DenSweGerNet.csv', sep=',', index=['user_id', 'poi_id', 'timestamp', 'timezone', 'country_code'])"
   ]
  },
  {
   "cell_type": "code",
   "execution_count": null,
   "id": "abe6a9c5-b07a-41ae-a4ed-8d657a4694ca",
   "metadata": {},
   "outputs": [],
   "source": [
    "country = pd.DataFrame(pois, columns=['poi_id', 'country_code'])\n",
    "countrycode = checkins.merge(country, on='poi_id')\n",
    "\n",
    "netherlands = countrycode.where(countrycode['country_code'] == 'NL').dropna()\n",
    "\n",
    "print(\"Number of checkins in Sweden\")\n",
    "len(netherlands)\n",
    "\n",
    "users_netherlands = sweden.copy()\n",
    "users_netherlands.drop_duplicates(subset=\"user_id\", keep = 'first', inplace = True)\n",
    "\n",
    "print(\"Number of unique users in Sweden\")\n",
    "len(users_netherlands)"
   ]
  },
  {
   "cell_type": "code",
   "execution_count": 6,
   "id": "635d1936-8037-4b71-9163-147238f43760",
   "metadata": {},
   "outputs": [
    {
     "name": "stderr",
     "output_type": "stream",
     "text": [
      "C:\\Users\\lasse\\anaconda3\\lib\\site-packages\\IPython\\core\\interactiveshell.py:3437: DtypeWarning: Columns (1,4) have mixed types.Specify dtype option on import or set low_memory=False.\n",
      "  exec(code_obj, self.user_global_ns, self.user_ns)\n"
     ]
    }
   ],
   "source": [
    "checkin_cols = ['user_id', 'poi_id', 'timestamp', 'timezone', 'country_code']\n",
    "checkins = pd.read_csv(r'C:\\Users\\lasse\\Desktop\\RecommenderDL\\datasets\\DenSweGerNet.csv', sep=',', names=checkin_cols, encoding='latin-1')"
   ]
  },
  {
   "cell_type": "code",
   "execution_count": 7,
   "id": "38b0c5d5-1114-4823-9cae-852854f21de6",
   "metadata": {},
   "outputs": [
    {
     "name": "stdout",
     "output_type": "stream",
     "text": [
      "            user_id                    poi_id                       timestamp  \\\n",
      "NaN         user_id                    poi_id                       timestamp   \n",
      "524329.0     233919  4c2f45da66e40f47aa8ec18b  Tue Apr 03 18:19:44 +0000 2012   \n",
      "731652.0     190585  4adcdb00f964a520775e21e3  Tue Apr 03 18:30:09 +0000 2012   \n",
      "731653.0      24779  4adcdb00f964a520775e21e3  Sun Apr 29 11:33:55 +0000 2012   \n",
      "731654.0      30835  4adcdb00f964a520775e21e3  Wed Jun 27 14:49:26 +0000 2012   \n",
      "...             ...                       ...                             ...   \n",
      "33263060.0    91075  4c9dc0f2d3c2b60cc657c4bc  Mon Sep 16 18:38:55 +0000 2013   \n",
      "33263113.0   185228  4ec4c1df77c8d69510ee11ed  Mon Sep 16 18:59:30 +0000 2013   \n",
      "33263302.0   258948  4cf520ff6195721e82cf55c1  Mon Sep 16 20:26:11 +0000 2013   \n",
      "33263370.0   209871  4bcf2a839854d13a977ef54d  Mon Sep 16 21:03:21 +0000 2013   \n",
      "33263422.0   170216  4a27db7ff964a52024941fe3  Mon Sep 16 21:34:37 +0000 2013   \n",
      "\n",
      "            timezone  country_code  \n",
      "NaN         timezone  country_code  \n",
      "524329.0         120            DK  \n",
      "731652.0         120            DK  \n",
      "731653.0         120            DK  \n",
      "731654.0         120            DK  \n",
      "...              ...           ...  \n",
      "33263060.0       120            NL  \n",
      "33263113.0       120            NL  \n",
      "33263302.0       120            NL  \n",
      "33263370.0       120            NL  \n",
      "33263422.0       120            NL  \n",
      "\n",
      "[423997 rows x 5 columns]\n"
     ]
    }
   ],
   "source": []
  },
  {
   "cell_type": "code",
   "execution_count": 8,
   "id": "6aac0cb7-4fc5-46ba-b40b-019729a30f70",
   "metadata": {},
   "outputs": [
    {
     "name": "stderr",
     "output_type": "stream",
     "text": [
      "C:\\Users\\lasse\\anaconda3\\lib\\site-packages\\IPython\\core\\interactiveshell.py:3437: DtypeWarning: Columns (1,2) have mixed types.Specify dtype option on import or set low_memory=False.\n",
      "  exec(code_obj, self.user_global_ns, self.user_ns)\n"
     ]
    }
   ],
   "source": [
    "venue_cols = ['poi_id', 'latitude', 'longitude', 'category', 'country_code']\n",
    "pois = pd.read_csv(r'C:\\Users\\lasse\\Desktop\\RecommenderDL\\datasets\\TIST2015_POIs.csv', sep=',', names=venue_cols, encoding='latin-1')"
   ]
  },
  {
   "cell_type": "code",
   "execution_count": 19,
   "id": "b4b4dfd9-d482-4229-935c-ea3e87eaa2d0",
   "metadata": {},
   "outputs": [
    {
     "name": "stdout",
     "output_type": "stream",
     "text": [
      "                              poi_id\n",
      "NaN                           poi_id\n",
      "524329.0    4c2f45da66e40f47aa8ec18b\n",
      "731652.0    4adcdb00f964a520775e21e3\n",
      "731653.0    4adcdb00f964a520775e21e3\n",
      "731654.0    4adcdb00f964a520775e21e3\n",
      "...                              ...\n",
      "33263060.0  4c9dc0f2d3c2b60cc657c4bc\n",
      "33263113.0  4ec4c1df77c8d69510ee11ed\n",
      "33263302.0  4cf520ff6195721e82cf55c1\n",
      "33263370.0  4bcf2a839854d13a977ef54d\n",
      "33263422.0  4a27db7ff964a52024941fe3\n",
      "\n",
      "[423997 rows x 1 columns]\n"
     ]
    }
   ],
   "source": [
    "poi_id = pd.DataFrame(checkins, columns=['poi_id'])\n",
    "print(poi_id)"
   ]
  },
  {
   "cell_type": "code",
   "execution_count": 20,
   "id": "d1449676-72c7-4010-898f-4674817a170b",
   "metadata": {},
   "outputs": [],
   "source": [
    "pois_poi_id = pois.merge(poi_id, on='poi_id')"
   ]
  },
  {
   "cell_type": "code",
   "execution_count": 22,
   "id": "f2b22c92-12ad-4c61-9fdb-2c69a3d8b174",
   "metadata": {},
   "outputs": [],
   "source": [
    "pois_poi_id.drop_duplicates(subset=\"poi_id\", keep = 'first', inplace = True)"
   ]
  },
  {
   "cell_type": "code",
   "execution_count": 23,
   "id": "e834d730-7976-4eed-b015-4697925b0cba",
   "metadata": {},
   "outputs": [
    {
     "name": "stdout",
     "output_type": "stream",
     "text": [
      "                          poi_id   latitude  longitude             category  \\\n",
      "0       4a120aa1f964a5206d771fe3  50.948524   6.943284          Event Space   \n",
      "12      4a12fc13f964a520aa771fe3  50.947711   6.921073            Gastropub   \n",
      "27      4a143153f964a52016781fe3  51.035462   7.011976     Department Store   \n",
      "29      4a15ae1bf964a520b5781fe3  50.936197   6.939741           Restaurant   \n",
      "36      4a172db1f964a52039791fe3  50.946437    6.94588                  Bar   \n",
      "...                          ...        ...        ...                  ...   \n",
      "423991  5236ddfc11d211f58f537eeb  53.555296   9.986536  Government Building   \n",
      "423992  523710b211d25d0fa49c397e   51.83181   5.905503               Office   \n",
      "423993  5237350f11d2133b5045fef8  52.508619  13.398192         Tech Startup   \n",
      "423994  52374ad711d2a8703213e9e3  52.355326   4.904294      Assisted Living   \n",
      "423995  523776d511d2d88ae9c922cc  48.681974   9.286265       Home (private)   \n",
      "\n",
      "       country_code  \n",
      "0                DE  \n",
      "12               DE  \n",
      "27               DE  \n",
      "29               DE  \n",
      "36               DE  \n",
      "...             ...  \n",
      "423991           DE  \n",
      "423992           NL  \n",
      "423993           DE  \n",
      "423994           NL  \n",
      "423995           DE  \n",
      "\n",
      "[82373 rows x 5 columns]\n"
     ]
    }
   ],
   "source": [
    "print(pois_poi_id)"
   ]
  },
  {
   "cell_type": "code",
   "execution_count": 30,
   "id": "5f34a911-7ec6-461a-a033-d4adde89416c",
   "metadata": {},
   "outputs": [],
   "source": [
    "save = pd.DataFrame(checkins, columns=['user_id', 'poi_id', 'timestamp', 'timezone'])\n",
    "#save.to_csv(r'C:\\Users\\lasse\\Desktop\\RecommenderDL\\datasets\\DenSweGerNet_checkins.csv', sep=',', index=['user_id', 'poi_id', 'timestamp', 'timezone'])"
   ]
  },
  {
   "cell_type": "code",
   "execution_count": 29,
   "id": "d49ada2c-e601-44dc-af94-868c202a05ae",
   "metadata": {},
   "outputs": [
    {
     "data": {
      "text/plain": [
       "423997"
      ]
     },
     "execution_count": 29,
     "metadata": {},
     "output_type": "execute_result"
    }
   ],
   "source": [
    "#len(checkins)"
   ]
  },
  {
   "cell_type": "code",
   "execution_count": 31,
   "id": "a9b70dc2-1f1e-4811-8d6b-ac5effab3596",
   "metadata": {},
   "outputs": [],
   "source": [
    "save.drop_duplicates(subset=\"user_id\", keep = 'first', inplace = True)"
   ]
  },
  {
   "cell_type": "code",
   "execution_count": 32,
   "id": "e378f6de-8a72-45c9-a354-9ceee81418c6",
   "metadata": {},
   "outputs": [
    {
     "data": {
      "text/plain": [
       "18160"
      ]
     },
     "execution_count": 32,
     "metadata": {},
     "output_type": "execute_result"
    }
   ],
   "source": [
    "len(save)"
   ]
  },
  {
   "cell_type": "code",
   "execution_count": null,
   "id": "990d138b-c7cc-4671-b764-559cf8c3a8f1",
   "metadata": {},
   "outputs": [],
   "source": []
  }
 ],
 "metadata": {
  "kernelspec": {
   "display_name": "Python 3",
   "language": "python",
   "name": "python3"
  },
  "language_info": {
   "codemirror_mode": {
    "name": "ipython",
    "version": 3
   },
   "file_extension": ".py",
   "mimetype": "text/x-python",
   "name": "python",
   "nbconvert_exporter": "python",
   "pygments_lexer": "ipython3",
   "version": "3.8.8"
  }
 },
 "nbformat": 4,
 "nbformat_minor": 5
}
