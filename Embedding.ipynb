{
 "cells": [
  {
   "cell_type": "code",
   "execution_count": 1,
   "id": "aebedcd1-3b4f-4511-80c5-38fc632073a2",
   "metadata": {},
   "outputs": [],
   "source": [
    "from tensorflow import keras\n",
    "from tensorflow.keras import layers\n",
    "from tensorflow.keras import backend as K\n",
    "import tensorflow as tf\n",
    "import pandas as pd\n",
    "import numpy as np\n",
    "from sklearn.impute import SimpleImputer\n",
    "from sklearn.preprocessing import Normalizer , scale\n",
    "from sklearn.model_selection import GridSearchCV , KFold , cross_val_score\n",
    "from sklearn.metrics import mean_squared_log_error,mean_squared_error, r2_score,mean_absolute_error \n",
    "from sklearn.metrics import accuracy_score,precision_score,recall_score,f1_score\n",
    "from sklearn.neighbors import NearestNeighbors\n",
    "from sklearn.model_selection import train_test_split, KFold\n",
    "from sklearn.model_selection import StratifiedKFold\n",
    "from sklearn.model_selection import cross_val_score\n",
    "from sklearn.preprocessing import LabelEncoder\n",
    "from keras.models import Model\n",
    "%matplotlib inline"
   ]
  },
  {
   "cell_type": "code",
   "execution_count": 2,
   "id": "5c2acb48-8b91-453b-a0e1-28b59bbc6703",
   "metadata": {},
   "outputs": [],
   "source": [
    "from IPython.display import SVG\n",
    "from urllib.request import urlretrieve\n",
    "import zipfile\n",
    "import collections"
   ]
  },
  {
   "cell_type": "markdown",
   "id": "4124fa28-fbb1-4246-9c94-37950628ce9e",
   "metadata": {},
   "source": [
    "Loading csv files"
   ]
  },
  {
   "cell_type": "code",
   "execution_count": 11,
   "id": "07288e26-a08b-47c2-bda2-dd9f52d52566",
   "metadata": {},
   "outputs": [
    {
     "name": "stderr",
     "output_type": "stream",
     "text": [
      "C:\\Users\\lasse\\anaconda3\\lib\\site-packages\\IPython\\core\\interactiveshell.py:3437: DtypeWarning: Columns (0,3) have mixed types.Specify dtype option on import or set low_memory=False.\n",
      "  exec(code_obj, self.user_global_ns, self.user_ns)\n",
      "C:\\Users\\lasse\\anaconda3\\lib\\site-packages\\IPython\\core\\interactiveshell.py:3437: DtypeWarning: Columns (1,2) have mixed types.Specify dtype option on import or set low_memory=False.\n",
      "  exec(code_obj, self.user_global_ns, self.user_ns)\n"
     ]
    }
   ],
   "source": [
    "#dataset_TIST2015_Checkins: User ID, Venue ID, UTC time, Time zone\n",
    "#dataset_TIST2015_POIs: Venue ID, Latitude, Longitude, Venue category name, Country code \n",
    "#dataset_TIST2015_Cities: Cityname, Latitude, Longitude, Vanue Category, Country code, Country name, City type\n",
    "#dataset_UbiComp2016_UserProfile_{CITY}: User ID, Gender, Twitter friend count, Twitter follower count\n",
    "\n",
    "#Scenario 1: Checkins og POI locations\n",
    "\n",
    "checkin_cols = ['user_id', 'poi_id', 'timestamp', 'timezone']\n",
    "checkin = pd.read_csv(r'C:\\Users\\lasse\\Desktop\\RecommenderDL\\datasets\\TIST2015_Checkins.csv', sep=',', names=checkin_cols, encoding='latin-1')\n",
    "\n",
    "city_cols = ['city_name', 'citycenter_latitude', 'citycenter_longitude', 'country_code', 'country_name', 'city_type']\n",
    "cities = pd.read_csv(r'C:\\Users\\lasse\\Desktop\\RecommenderDL\\datasets\\TIST2015_Cities.csv', sep=',', names=city_cols, encoding='latin-1')\n",
    "\n",
    "venue_cols = ['poi_id', 'latitude', 'longitude', 'category', 'country_code']\n",
    "pois = pd.read_csv(r'C:\\Users\\lasse\\Desktop\\RecommenderDL\\datasets\\TIST2015_POIs.csv', sep=',', names=venue_cols, encoding='latin-1')\n",
    "\n",
    "\n",
    "#Scenario 2: Users og Checkins\n",
    "\n",
    "# Load each data set (users, movies, and ratings).\n",
    "users_cols = ['user_id', 'gender', 'sex']\n",
    "ratings_cols = ['user_id', 'venue_id', 'latitude', 'longitude', 'category' 'unix_timestamp']\n",
    "\n",
    "#Scenario3: Users, Checkins og POI Locations\n",
    "checkin_cols = ['poi_id', 'gender', 'sex']\n",
    "venue_cols = ['venue_id', 'user_id', 'latitude', 'longitude', 'category' 'unix_timestamp']\n",
    "user_cols = ['user_id', 'gender']\n",
    "\n",
    "\n"
   ]
  },
  {
   "cell_type": "code",
   "execution_count": null,
   "id": "575757c8-4557-4929-86e5-17bcedda1d23",
   "metadata": {},
   "outputs": [],
   "source": [
    "dim1 = cities[['city_name', 'citycenter_longitude', 'citycenter_latitude', 'city_type', 'country_code']].drop(labels=[0], axis=0)"
   ]
  },
  {
   "cell_type": "code",
   "execution_count": 16,
   "id": "6dbb8c22-bad2-4880-bfad-ba88e32a66a7",
   "metadata": {},
   "outputs": [],
   "source": [
    "dim2 = checkin[['user_id', 'poi_id', 'timestamp']].drop(labels=[0], axis=0)"
   ]
  },
  {
   "cell_type": "code",
   "execution_count": 23,
   "id": "311e3032-b813-4e94-8747-f3a0ebd056a1",
   "metadata": {},
   "outputs": [],
   "source": [
    "dim3 = pois[['poi_id', 'latitude', 'longitude', 'category', 'country_code']].drop(labels=[0], axis=0)"
   ]
  },
  {
   "cell_type": "code",
   "execution_count": 25,
   "id": "78ff05e9-4946-42ff-8d25-b3a1420fb172",
   "metadata": {},
   "outputs": [],
   "source": [
    "dataset = dim2.merge(dim3, on='poi_id')#.merge(dim1, on='country_code')"
   ]
  },
  {
   "cell_type": "code",
   "execution_count": null,
   "id": "df7bf439-7166-4587-b130-55581b643c00",
   "metadata": {},
   "outputs": [],
   "source": [
    "# Merge Users and Checkins. \n",
    "# However, our data does not allow us to merge users and checkin, because we only have data for users that have checked in NYC and Tokyo\n",
    "#movielens = ratings.merge(movies, on='movie_id').merge(users, on='user_id')"
   ]
  },
  {
   "cell_type": "code",
   "execution_count": 27,
   "id": "9c203e99-1b95-473f-b48a-7d9d262f4072",
   "metadata": {},
   "outputs": [],
   "source": [
    "#Split into train and test\n",
    "train_, test = train_test_split(dataset, test_size=0.1)"
   ]
  },
  {
   "cell_type": "code",
   "execution_count": 31,
   "id": "9a35fd34-2082-491b-8ac4-e772586adc66",
   "metadata": {},
   "outputs": [],
   "source": [
    "ROW_COUNT = train_.shape[0]"
   ]
  },
  {
   "cell_type": "code",
   "execution_count": null,
   "id": "6cc86265-e948-434b-a18b-55cd67f14309",
   "metadata": {},
   "outputs": [],
   "source": [
    "EMBEDDING_SIZE = 10\n",
    "NUM_USERS = dataset['user_id'].nunique()\n",
    "NUM_POI = dataset['poi_id'].nunique()"
   ]
  },
  {
   "cell_type": "code",
   "execution_count": 29,
   "id": "0ea98359-9bee-4bda-aca6-a723796d9d43",
   "metadata": {},
   "outputs": [
    {
     "data": {
      "text/html": [
       "<div>\n",
       "<style scoped>\n",
       "    .dataframe tbody tr th:only-of-type {\n",
       "        vertical-align: middle;\n",
       "    }\n",
       "\n",
       "    .dataframe tbody tr th {\n",
       "        vertical-align: top;\n",
       "    }\n",
       "\n",
       "    .dataframe thead th {\n",
       "        text-align: right;\n",
       "    }\n",
       "</style>\n",
       "<table border=\"1\" class=\"dataframe\">\n",
       "  <thead>\n",
       "    <tr style=\"text-align: right;\">\n",
       "      <th></th>\n",
       "      <th>user_id</th>\n",
       "      <th>poi_id</th>\n",
       "      <th>timestamp</th>\n",
       "      <th>latitude</th>\n",
       "      <th>longitude</th>\n",
       "      <th>category</th>\n",
       "      <th>country_code</th>\n",
       "    </tr>\n",
       "  </thead>\n",
       "  <tbody>\n",
       "    <tr>\n",
       "      <th>0</th>\n",
       "      <td>50756</td>\n",
       "      <td>4f5e3a72e4b053fd6a4313f6</td>\n",
       "      <td>Tue Apr 03 18:00:06 +0000 2012</td>\n",
       "      <td>55.696132</td>\n",
       "      <td>37.557842</td>\n",
       "      <td>Comedy Club</td>\n",
       "      <td>RU</td>\n",
       "    </tr>\n",
       "    <tr>\n",
       "      <th>1</th>\n",
       "      <td>190571</td>\n",
       "      <td>4b4b87b5f964a5204a9f26e3</td>\n",
       "      <td>Tue Apr 03 18:00:07 +0000 2012</td>\n",
       "      <td>41.029717</td>\n",
       "      <td>28.97442</td>\n",
       "      <td>Other Great Outdoors</td>\n",
       "      <td>TR</td>\n",
       "    </tr>\n",
       "    <tr>\n",
       "      <th>2</th>\n",
       "      <td>212251</td>\n",
       "      <td>4b4b87b5f964a5204a9f26e3</td>\n",
       "      <td>Wed Apr 04 05:49:28 +0000 2012</td>\n",
       "      <td>41.029717</td>\n",
       "      <td>28.97442</td>\n",
       "      <td>Other Great Outdoors</td>\n",
       "      <td>TR</td>\n",
       "    </tr>\n",
       "    <tr>\n",
       "      <th>3</th>\n",
       "      <td>227763</td>\n",
       "      <td>4b4b87b5f964a5204a9f26e3</td>\n",
       "      <td>Wed Apr 04 12:10:31 +0000 2012</td>\n",
       "      <td>41.029717</td>\n",
       "      <td>28.97442</td>\n",
       "      <td>Other Great Outdoors</td>\n",
       "      <td>TR</td>\n",
       "    </tr>\n",
       "    <tr>\n",
       "      <th>4</th>\n",
       "      <td>212251</td>\n",
       "      <td>4b4b87b5f964a5204a9f26e3</td>\n",
       "      <td>Wed Apr 04 12:53:32 +0000 2012</td>\n",
       "      <td>41.029717</td>\n",
       "      <td>28.97442</td>\n",
       "      <td>Other Great Outdoors</td>\n",
       "      <td>TR</td>\n",
       "    </tr>\n",
       "  </tbody>\n",
       "</table>\n",
       "</div>"
      ],
      "text/plain": [
       "  user_id                    poi_id                       timestamp  \\\n",
       "0   50756  4f5e3a72e4b053fd6a4313f6  Tue Apr 03 18:00:06 +0000 2012   \n",
       "1  190571  4b4b87b5f964a5204a9f26e3  Tue Apr 03 18:00:07 +0000 2012   \n",
       "2  212251  4b4b87b5f964a5204a9f26e3  Wed Apr 04 05:49:28 +0000 2012   \n",
       "3  227763  4b4b87b5f964a5204a9f26e3  Wed Apr 04 12:10:31 +0000 2012   \n",
       "4  212251  4b4b87b5f964a5204a9f26e3  Wed Apr 04 12:53:32 +0000 2012   \n",
       "\n",
       "    latitude  longitude              category country_code  \n",
       "0  55.696132  37.557842           Comedy Club           RU  \n",
       "1  41.029717   28.97442  Other Great Outdoors           TR  \n",
       "2  41.029717   28.97442  Other Great Outdoors           TR  \n",
       "3  41.029717   28.97442  Other Great Outdoors           TR  \n",
       "4  41.029717   28.97442  Other Great Outdoors           TR  "
      ]
     },
     "execution_count": 29,
     "metadata": {},
     "output_type": "execute_result"
    }
   ],
   "source": [
    "dataset.head()"
   ]
  },
  {
   "cell_type": "code",
   "execution_count": null,
   "id": "4aab5722-fcad-4031-bf76-70e135783632",
   "metadata": {},
   "outputs": [],
   "source": [
    "UNIQUE_MOVIE_IDS = dataset['movie_id'].unique()"
   ]
  },
  {
   "cell_type": "markdown",
   "id": "9c513afd-13ea-45d2-8d14-a7542907b544",
   "metadata": {},
   "source": [
    "# Create Subset of Dataset"
   ]
  },
  {
   "cell_type": "markdown",
   "id": "c9e7b912-a16b-4fce-8cd1-aeddfc256bd3",
   "metadata": {},
   "source": [
    "## Load in the dataset from csv files"
   ]
  },
  {
   "cell_type": "code",
   "execution_count": 3,
   "id": "f60a8ef0-abfd-496b-b2c8-c391a8893b56",
   "metadata": {},
   "outputs": [
    {
     "name": "stderr",
     "output_type": "stream",
     "text": [
      "C:\\Users\\lasse\\anaconda3\\lib\\site-packages\\IPython\\core\\interactiveshell.py:3437: DtypeWarning: Columns (0,3) have mixed types.Specify dtype option on import or set low_memory=False.\n",
      "  exec(code_obj, self.user_global_ns, self.user_ns)\n",
      "C:\\Users\\lasse\\anaconda3\\lib\\site-packages\\IPython\\core\\interactiveshell.py:3437: DtypeWarning: Columns (1,2) have mixed types.Specify dtype option on import or set low_memory=False.\n",
      "  exec(code_obj, self.user_global_ns, self.user_ns)\n"
     ]
    }
   ],
   "source": [
    "checkin_cols = ['user_id', 'poi_id', 'timestamp', 'timezone']\n",
    "checkins = pd.read_csv(r'C:\\Users\\lasse\\Desktop\\RecommenderDL\\datasets\\TIST2015_Checkins.csv', sep=',', names=checkin_cols, encoding='latin-1')\n",
    "\n",
    "venue_cols = ['poi_id', 'latitude', 'longitude', 'category', 'country_code']\n",
    "pois = pd.read_csv(r'C:\\Users\\lasse\\Desktop\\RecommenderDL\\datasets\\TIST2015_POIs.csv', sep=',', names=venue_cols, encoding='latin-1')"
   ]
  },
  {
   "cell_type": "markdown",
   "id": "c9eb582d-b794-4092-951d-65811c0dc0e8",
   "metadata": {},
   "source": [
    "## Function that extracts a subset"
   ]
  },
  {
   "cell_type": "code",
   "execution_count": 4,
   "id": "81307241-332e-4373-adbc-23c62bfd90f5",
   "metadata": {},
   "outputs": [],
   "source": [
    "# Create a subset of a dataset with size n users\n",
    "def create_checkin_subset(checkins_table, n):\n",
    "    subset = np.array([[0,0,0,0],[0,0,0,0]])\n",
    "    checkins_100_users = checkins_table['user_id'].sample(n=n, random_state=1)\n",
    "    for i in checkins_100_users:\n",
    "        subset = np.append(subset, np.asarray(checkins_table[checkins_table['user_id'] == i].values), 0)\n",
    "    return pd.DataFrame(subset[2::], columns=['user_id', 'poi_id', 'timestamp', 'timezone'])"
   ]
  },
  {
   "cell_type": "markdown",
   "id": "33354896-3b67-4385-ac77-e78e4055fc51",
   "metadata": {},
   "source": [
    "### Calling the function"
   ]
  },
  {
   "cell_type": "code",
   "execution_count": 5,
   "id": "d01f1bcd-57f4-4ef6-beb5-747a4778bde0",
   "metadata": {},
   "outputs": [],
   "source": [
    "# Initialize the subset method\n",
    "checkins_100_users = create_checkin_subset(checkins, 25)\n",
    "checkin_data = checkins_100_users.merge(pois, on='poi_id')\n",
    "df = checkin_data.set_index('user_id').poi_id.str.get_dummies(',')\n",
    "df = df.groupby('user_id').max()"
   ]
  },
  {
   "cell_type": "code",
   "execution_count": null,
   "id": "5b02856a-4a4c-47ea-a41b-ce946dc39f40",
   "metadata": {},
   "outputs": [],
   "source": []
  },
  {
   "cell_type": "markdown",
   "id": "5e98ae34-3640-4281-b8f5-7a3e188199d9",
   "metadata": {},
   "source": [
    "## Extracting all of the users and the pois"
   ]
  },
  {
   "cell_type": "code",
   "execution_count": 6,
   "id": "3f456903-18e7-4ee4-8490-ca4f08cbcbf5",
   "metadata": {},
   "outputs": [],
   "source": [
    "listofusers = pd.DataFrame(checkin_data, columns= ['user_id']).groupby('user_id').max().sample(frac=1)\n",
    "listofpois = pd.DataFrame(checkin_data, columns= ['poi_id', 'latitude', 'longitude']).groupby('poi_id').max().sample(frac=1)"
   ]
  },
  {
   "cell_type": "code",
   "execution_count": 7,
   "id": "bddbe0bb-9b9f-4991-bcbe-f57e1385fd65",
   "metadata": {},
   "outputs": [
    {
     "name": "stdout",
     "output_type": "stream",
     "text": [
      "                           latitude   longitude\n",
      "poi_id                                         \n",
      "517788c4498e66dc9a284e7b   37.75565   29.114521\n",
      "4eb57f05775b544c2752966b -25.451978  -49.243192\n",
      "4bedb3832c082d7f095d2f42 -25.425964  -49.267637\n",
      "4c1f7d15eac020a13d244bc2  50.450482   30.594821\n",
      "4bc50d63ccbcef3ba40fe6d2  35.685588  139.699981\n",
      "...                             ...         ...\n",
      "4c73882bf3279c74a2dfb32d  35.439519  139.644728\n",
      "4b570e89f964a520b22428e3  34.985495  135.758593\n",
      "4d5215769b27721e6f9cbe46  -6.151155  106.892059\n",
      "49d77968f964a520275d1fe3  41.888485  -87.635236\n",
      "4c41836fd691c9b65ade8c0a  35.851371  139.786674\n",
      "\n",
      "[2896 rows x 2 columns]\n"
     ]
    }
   ],
   "source": [
    "print(listofpois)"
   ]
  },
  {
   "cell_type": "code",
   "execution_count": 8,
   "id": "4a271bf9-4931-4620-bc6b-c2b9610d9e3b",
   "metadata": {},
   "outputs": [],
   "source": [
    "userarray = listofusers.index.to_numpy()\n",
    "poiarray = listofpois.index.to_numpy()"
   ]
  },
  {
   "cell_type": "code",
   "execution_count": 9,
   "id": "8fe37fab-93dd-4b3b-8e04-5d553c2aad39",
   "metadata": {},
   "outputs": [],
   "source": [
    "userdataframe = pd.DataFrame(userarray, columns = ['Users'])\n",
    "poidataframe = pd.DataFrame(poiarray, columns = ['Poi'])"
   ]
  },
  {
   "cell_type": "code",
   "execution_count": null,
   "id": "7cfba402-48b1-4486-a1c7-91b710b9382c",
   "metadata": {},
   "outputs": [],
   "source": [
    "#REDUNDANT, i think\n",
    "\n",
    "rows_list = []\n",
    "for i in range(len(poidataframe)):\n",
    "    longitude = listofpois[listofpois.loc[i, \"Poi\"]]\n",
    "    rows_list.append(dict1)\n",
    "\n",
    "latlong = pd.DataFrame(rows_list) \n",
    "    "
   ]
  },
  {
   "cell_type": "code",
   "execution_count": 11,
   "id": "850a4d5d-20e1-4a67-9ed2-f884749961cb",
   "metadata": {},
   "outputs": [],
   "source": [
    "dot = userdataframe.merge(poidataframe, how='cross')"
   ]
  },
  {
   "cell_type": "code",
   "execution_count": 12,
   "id": "969f55e8-98df-46e6-9425-87d920762fb1",
   "metadata": {},
   "outputs": [
    {
     "name": "stdout",
     "output_type": "stream",
     "text": [
      "       Users                       Poi\n",
      "0      10427  517788c4498e66dc9a284e7b\n",
      "1      10427  4eb57f05775b544c2752966b\n",
      "2      10427  4bedb3832c082d7f095d2f42\n",
      "3      10427  4c1f7d15eac020a13d244bc2\n",
      "4      10427  4bc50d63ccbcef3ba40fe6d2\n",
      "...      ...                       ...\n",
      "72395  25408  4c73882bf3279c74a2dfb32d\n",
      "72396  25408  4b570e89f964a520b22428e3\n",
      "72397  25408  4d5215769b27721e6f9cbe46\n",
      "72398  25408  49d77968f964a520275d1fe3\n",
      "72399  25408  4c41836fd691c9b65ade8c0a\n",
      "\n",
      "[72400 rows x 2 columns]\n"
     ]
    }
   ],
   "source": [
    "print(dot)"
   ]
  },
  {
   "cell_type": "markdown",
   "id": "bf0ce37a-d574-450c-b78b-9c82d27f73d0",
   "metadata": {},
   "source": [
    "## Extracting ground_truth from incidence matrix"
   ]
  },
  {
   "cell_type": "code",
   "execution_count": 13,
   "id": "e9fc84c7-d6a4-4357-90b7-301f0d27482b",
   "metadata": {},
   "outputs": [],
   "source": [
    "rows_list = []\n",
    "for i in range(len(dot)):\n",
    "    temp = df[dot.loc[i, \"Poi\"]][dot.loc[i, \"Users\"]]\n",
    "    dict1 = {'ground_truth':temp}\n",
    "    rows_list.append(dict1)\n",
    "\n",
    "groundtruth = pd.DataFrame(rows_list) \n"
   ]
  },
  {
   "cell_type": "code",
   "execution_count": null,
   "id": "a2f25e77-7dac-41b3-81b8-996c125ecfc8",
   "metadata": {},
   "outputs": [],
   "source": [
    "result = pd.concat([dot, groundtruth], axis=1)"
   ]
  },
  {
   "cell_type": "markdown",
   "id": "e9d5c7a8-13e9-4281-bd5e-4874b4888bbf",
   "metadata": {},
   "source": [
    "Define the model"
   ]
  },
  {
   "cell_type": "code",
   "execution_count": 35,
   "id": "a978e995-e5ba-4b42-a003-6f07f6a98d03",
   "metadata": {},
   "outputs": [],
   "source": [
    "class EmbModel(Model):\n",
    "    def __init__(self):\n",
    "        super(EmbModel, self).__init__()\n",
    "        self.model = self.init_model()\n",
    "        self.d_steps = 16\n",
    "        \n",
    "    def call(self, inputs):\n",
    "        return\n",
    "    \n",
    "    def init_model(self):\n",
    "        poi_latitude_input = keras.Input(shape=(1,), name='poi_latitude')\n",
    "        poi_longitude_input = keras.Input(shape=(1,), name='poi_longitude')\n",
    "        poi_concat_input = tf.keras.layers.Concatenate(axis=-1)([poi_latitude_input, poi_longitude_input])\n",
    "        poi_emb = layers.Embedding(output_dim=10, input_dim=1, input_length=1, name='poi_emb')(poi_concat_input)\n",
    "    \n",
    "        user_input = keras.Input(shape=(1,), name='user_id')\n",
    "        user_emb = layers.Embedding(output_dim=10, input_dim=1, input_length=1, name='user_emb')(user_input)\n",
    "        #print(user_emb.shape)\n",
    "    \n",
    "        dot = layers.Dot(axes=(2))([poi_emb, user_emb])\n",
    "        model = Model([poi_latitude_input, poi_longitude_input], poi_emb)\n",
    "        model.summary()\n",
    "        return model\n",
    "    \n",
    "    def compile_model(self, optimizer):\n",
    "        super(EmbModel, self).compile(run_eagerly=True)\n",
    "        self.optimizer = optimizer\n",
    "        \n",
    "    def train_step(self, data):\n",
    "        print(\"Data breakdown: \\n\")\n",
    "        \n",
    "        if len(data) == 3:\n",
    "            print(\"Case: 3\")\n",
    "            real_data, labels, sample_weight = data\n",
    "            print(\"Realdata: \")\n",
    "            print(real_data)\n",
    "            print(\"\\nLabels:\")\n",
    "            print(labels)\n",
    "            print(\"\\n\")\n",
    "        else:\n",
    "            print(\"Case: 2\")\n",
    "            sample_weight = None\n",
    "            real_data, labels = data\n",
    "    \n",
    "            print(\"Realdata: \")\n",
    "            print(real_data)\n",
    "            print(\"\\nLabels:\")\n",
    "            print(labels)\n",
    "            print('\\n')\n",
    "        \n",
    "        batch_size = real_data.get_shape()[0]\n",
    "        print(\"\\nBatch Size:\")\n",
    "        print(batch_size)\n",
    "        print(\"\\n\")\n",
    "        \n",
    "        for i in range(self.d_steps):\n",
    "            \n",
    "            with tf.GradientTape() as tape:\n",
    "                with tf.compat.v1.Session() as sess:  \n",
    "                    print(real_data[0])\n",
    "                    print(real_data[0][1])\n",
    "                    print(real_data[0][2])\n",
    "                dotproduct = self.model([real_data[1], real_data[2]])\n",
    "                print(dotproduct)\n",
    "                \n",
    "                # Loss function = ||S-GroundTruth|| \n",
    "                loss = abs(dotproduct - labels)\n",
    "            d_gradient = tape.gradient(loss, self.model.trainable_variables)\n",
    "            self.optimizer.apply_gradients(zip(d_gradient, self.model.trainable_variables))"
   ]
  },
  {
   "cell_type": "code",
   "execution_count": 36,
   "id": "950bec32-baf7-43b9-9ab1-b3443c46ab4a",
   "metadata": {
    "tags": []
   },
   "outputs": [
    {
     "name": "stdout",
     "output_type": "stream",
     "text": [
      "Model: \"functional_9\"\n",
      "__________________________________________________________________________________________________\n",
      "Layer (type)                    Output Shape         Param #     Connected to                     \n",
      "==================================================================================================\n",
      "poi_latitude (InputLayer)       [(None, 1)]          0                                            \n",
      "__________________________________________________________________________________________________\n",
      "poi_longitude (InputLayer)      [(None, 1)]          0                                            \n",
      "__________________________________________________________________________________________________\n",
      "concatenate_5 (Concatenate)     (None, 2)            0           poi_latitude[0][0]               \n",
      "                                                                 poi_longitude[0][0]              \n",
      "__________________________________________________________________________________________________\n",
      "poi_emb (Embedding)             (None, 2, 10)        10          concatenate_5[0][0]              \n",
      "==================================================================================================\n",
      "Total params: 10\n",
      "Trainable params: 10\n",
      "Non-trainable params: 0\n",
      "__________________________________________________________________________________________________\n"
     ]
    }
   ],
   "source": [
    "model = EmbModel()"
   ]
  },
  {
   "cell_type": "code",
   "execution_count": 16,
   "id": "821d7533-e32d-4b02-aedf-d63d80e967d3",
   "metadata": {
    "tags": []
   },
   "outputs": [
    {
     "name": "stdout",
     "output_type": "stream",
     "text": [
      "                           latitude   longitude\n",
      "poi_id                                         \n",
      "517788c4498e66dc9a284e7b   37.75565   29.114521\n",
      "4eb57f05775b544c2752966b -25.451978  -49.243192\n",
      "4bedb3832c082d7f095d2f42 -25.425964  -49.267637\n",
      "4c1f7d15eac020a13d244bc2  50.450482   30.594821\n",
      "4bc50d63ccbcef3ba40fe6d2  35.685588  139.699981\n",
      "...                             ...         ...\n",
      "4c73882bf3279c74a2dfb32d  35.439519  139.644728\n",
      "4b570e89f964a520b22428e3  34.985495  135.758593\n",
      "4d5215769b27721e6f9cbe46  -6.151155  106.892059\n",
      "49d77968f964a520275d1fe3  41.888485  -87.635236\n",
      "4c41836fd691c9b65ade8c0a  35.851371  139.786674\n",
      "\n",
      "[2896 rows x 2 columns]\n"
     ]
    }
   ],
   "source": [
    "print(listofpois)"
   ]
  },
  {
   "cell_type": "code",
   "execution_count": 17,
   "id": "8830ef42-101c-404c-805c-1d334220ded1",
   "metadata": {
    "tags": []
   },
   "outputs": [
    {
     "name": "stdout",
     "output_type": "stream",
     "text": [
      "['517788c4498e66dc9a284e7b']\n",
      "37.843275\n"
     ]
    }
   ],
   "source": [
    "print([poidataframe.loc[0, \"Poi\"]])\n",
    "print(listofpois.loc['4c576c0ccc96c9b6a70f792e']['latitude'])"
   ]
  },
  {
   "cell_type": "code",
   "execution_count": 18,
   "id": "26deb392-8e1b-450e-985d-02b37cce35a7",
   "metadata": {
    "tags": []
   },
   "outputs": [],
   "source": [
    "rows_list = []\n",
    "for i in range(len(dot)):\n",
    "    temp = dot.loc[i, \"Poi\"]\n",
    "    latitude = listofpois.loc[temp]['latitude']\n",
    "    longitude = listofpois.loc[temp]['longitude']\n",
    "    dict1 = {'latitude':latitude, 'longitude':longitude}\n",
    "    rows_list.append(dict1)\n",
    "    #latitude = poiarray[i]\n",
    "latlong = pd.DataFrame(rows_list) "
   ]
  },
  {
   "cell_type": "markdown",
   "id": "9e5c4b1f-fed4-42d4-8a13-e50f41b2473c",
   "metadata": {
    "tags": []
   },
   "source": [
    "## Creating dataset"
   ]
  },
  {
   "cell_type": "code",
   "execution_count": 19,
   "id": "76b97c63-6540-41be-8200-b7abf1a4b55d",
   "metadata": {
    "tags": []
   },
   "outputs": [
    {
     "name": "stdout",
     "output_type": "stream",
     "text": [
      "Users          int64\n",
      "latitude     float64\n",
      "longitude    float64\n",
      "dtype: object\n"
     ]
    }
   ],
   "source": [
    "userdot = pd.DataFrame(dot, columns= ['Users'])\n",
    "latlong['latitude'] = pd.to_numeric(latlong['latitude'])\n",
    "latlong['longitude'] = pd.to_numeric(latlong['longitude'])\n",
    "dataset = pd.concat([userdot, latlong], axis=1)\n",
    "print(dataset.dtypes)"
   ]
  },
  {
   "cell_type": "code",
   "execution_count": 20,
   "id": "763eceef-a5a8-41a6-afa0-acb08a33ffc2",
   "metadata": {
    "tags": []
   },
   "outputs": [],
   "source": [
    "dataset_numpy = dataset.to_numpy()\n",
    "labels_numpy = groundtruth.to_numpy()"
   ]
  },
  {
   "cell_type": "code",
   "execution_count": 21,
   "id": "f499510c-7a11-40be-b4f0-96f5df4263a2",
   "metadata": {
    "tags": []
   },
   "outputs": [
    {
     "name": "stdout",
     "output_type": "stream",
     "text": [
      "10427.0\n",
      "<class 'numpy.float64'>\n",
      "<class 'numpy.float64'>\n",
      "<class 'numpy.float64'>\n"
     ]
    }
   ],
   "source": [
    "#print(dataset_numpy)\n",
    "print(dataset_numpy[0][0])\n",
    "print(type(dataset_numpy[0][0]))\n",
    "print(type(dataset_numpy[0][1]))\n",
    "print(type(dataset_numpy[0][2]))\n",
    "#print(labels_numpy)"
   ]
  },
  {
   "cell_type": "code",
   "execution_count": 22,
   "id": "44dce8f5-e86c-4fd2-b5e2-9ccca00caee2",
   "metadata": {
    "tags": []
   },
   "outputs": [],
   "source": [
    "dataset = tf.convert_to_tensor(\n",
    "    dataset_numpy, dtype=None, dtype_hint=None, name=None)\n",
    "labels = tf.convert_to_tensor(\n",
    "    labels_numpy, dtype=None, dtype_hint=None, name=None)"
   ]
  },
  {
   "cell_type": "code",
   "execution_count": 34,
   "id": "8dc98d15-f5c8-48b7-a161-b0562c684ebb",
   "metadata": {
    "tags": []
   },
   "outputs": [
    {
     "name": "stdout",
     "output_type": "stream",
     "text": [
      "Epoch 1/50\n",
      "Data breakdown: \n",
      "\n",
      "Case: 2\n",
      "Realdata: \n",
      "Tensor(\"IteratorGetNext:0\", shape=(None, 3), dtype=float64)\n",
      "\n",
      "Labels:\n",
      "Tensor(\"IteratorGetNext:1\", shape=(None, 1), dtype=int64)\n",
      "\n",
      "\n",
      "\n",
      "Batch Size:\n",
      "None\n",
      "\n",
      "\n",
      "Tensor(\"strided_slice:0\", shape=(3,), dtype=float64)\n",
      "Tensor(\"strided_slice_2:0\", shape=(), dtype=float64)\n",
      "Tensor(\"strided_slice_4:0\", shape=(), dtype=float64)\n",
      "Tensor(\"functional_7/poi_emb/embedding_lookup/Identity_1:0\", shape=(3, 2, 10), dtype=float32)\n"
     ]
    },
    {
     "ename": "TypeError",
     "evalue": "in user code:\n\n    C:\\Users\\lasse\\anaconda3\\lib\\site-packages\\tensorflow\\python\\keras\\engine\\training.py:806 train_function  *\n        return step_function(self, iterator)\n    C:\\Users\\lasse\\anaconda3\\lib\\site-packages\\tensorflow\\python\\keras\\engine\\training.py:796 step_function  **\n        outputs = model.distribute_strategy.run(run_step, args=(data,))\n    C:\\Users\\lasse\\anaconda3\\lib\\site-packages\\tensorflow\\python\\distribute\\distribute_lib.py:1211 run\n        return self._extended.call_for_each_replica(fn, args=args, kwargs=kwargs)\n    C:\\Users\\lasse\\anaconda3\\lib\\site-packages\\tensorflow\\python\\distribute\\distribute_lib.py:2585 call_for_each_replica\n        return self._call_for_each_replica(fn, args, kwargs)\n    C:\\Users\\lasse\\anaconda3\\lib\\site-packages\\tensorflow\\python\\distribute\\distribute_lib.py:2945 _call_for_each_replica\n        return fn(*args, **kwargs)\n    C:\\Users\\lasse\\anaconda3\\lib\\site-packages\\tensorflow\\python\\keras\\engine\\training.py:789 run_step  **\n        outputs = model.train_step(data)\n    <ipython-input-32-db73c84beff9>:67 train_step\n        loss = abs(dotproduct - labels)\n    C:\\Users\\lasse\\anaconda3\\lib\\site-packages\\tensorflow\\python\\ops\\math_ops.py:1140 binary_op_wrapper\n        raise e\n    C:\\Users\\lasse\\anaconda3\\lib\\site-packages\\tensorflow\\python\\ops\\math_ops.py:1124 binary_op_wrapper\n        return func(x, y, name=name)\n    C:\\Users\\lasse\\anaconda3\\lib\\site-packages\\tensorflow\\python\\util\\dispatch.py:201 wrapper\n        return target(*args, **kwargs)\n    C:\\Users\\lasse\\anaconda3\\lib\\site-packages\\tensorflow\\python\\ops\\math_ops.py:526 subtract\n        return gen_math_ops.sub(x, y, name)\n    C:\\Users\\lasse\\anaconda3\\lib\\site-packages\\tensorflow\\python\\ops\\gen_math_ops.py:10465 sub\n        _, _, _op, _outputs = _op_def_library._apply_op_helper(\n    C:\\Users\\lasse\\anaconda3\\lib\\site-packages\\tensorflow\\python\\framework\\op_def_library.py:503 _apply_op_helper\n        raise TypeError(\n\n    TypeError: Input 'y' of 'Sub' Op has type int64 that does not match type float32 of argument 'x'.\n",
     "output_type": "error",
     "traceback": [
      "\u001b[1;31m---------------------------------------------------------------------------\u001b[0m",
      "\u001b[1;31mTypeError\u001b[0m                                 Traceback (most recent call last)",
      "\u001b[1;32m<ipython-input-34-b4c41756627c>\u001b[0m in \u001b[0;36m<module>\u001b[1;34m\u001b[0m\n\u001b[0;32m      7\u001b[0m \u001b[1;33m\u001b[0m\u001b[0m\n\u001b[0;32m      8\u001b[0m \u001b[1;31m#Train_data, [dataset.user_id, dataset.poi_id]. Label: ground_truth\u001b[0m\u001b[1;33m\u001b[0m\u001b[1;33m\u001b[0m\u001b[1;33m\u001b[0m\u001b[0m\n\u001b[1;32m----> 9\u001b[1;33m \u001b[0mmodel\u001b[0m\u001b[1;33m.\u001b[0m\u001b[0mfit\u001b[0m\u001b[1;33m(\u001b[0m\u001b[0mdataset\u001b[0m\u001b[1;33m,\u001b[0m \u001b[0mlabels\u001b[0m\u001b[1;33m,\u001b[0m \u001b[0mepochs\u001b[0m \u001b[1;33m=\u001b[0m \u001b[1;36m50\u001b[0m\u001b[1;33m)\u001b[0m\u001b[1;33m\u001b[0m\u001b[1;33m\u001b[0m\u001b[0m\n\u001b[0m",
      "\u001b[1;32m~\\anaconda3\\lib\\site-packages\\tensorflow\\python\\keras\\engine\\training.py\u001b[0m in \u001b[0;36m_method_wrapper\u001b[1;34m(self, *args, **kwargs)\u001b[0m\n\u001b[0;32m    106\u001b[0m   \u001b[1;32mdef\u001b[0m \u001b[0m_method_wrapper\u001b[0m\u001b[1;33m(\u001b[0m\u001b[0mself\u001b[0m\u001b[1;33m,\u001b[0m \u001b[1;33m*\u001b[0m\u001b[0margs\u001b[0m\u001b[1;33m,\u001b[0m \u001b[1;33m**\u001b[0m\u001b[0mkwargs\u001b[0m\u001b[1;33m)\u001b[0m\u001b[1;33m:\u001b[0m\u001b[1;33m\u001b[0m\u001b[1;33m\u001b[0m\u001b[0m\n\u001b[0;32m    107\u001b[0m     \u001b[1;32mif\u001b[0m \u001b[1;32mnot\u001b[0m \u001b[0mself\u001b[0m\u001b[1;33m.\u001b[0m\u001b[0m_in_multi_worker_mode\u001b[0m\u001b[1;33m(\u001b[0m\u001b[1;33m)\u001b[0m\u001b[1;33m:\u001b[0m  \u001b[1;31m# pylint: disable=protected-access\u001b[0m\u001b[1;33m\u001b[0m\u001b[1;33m\u001b[0m\u001b[0m\n\u001b[1;32m--> 108\u001b[1;33m       \u001b[1;32mreturn\u001b[0m \u001b[0mmethod\u001b[0m\u001b[1;33m(\u001b[0m\u001b[0mself\u001b[0m\u001b[1;33m,\u001b[0m \u001b[1;33m*\u001b[0m\u001b[0margs\u001b[0m\u001b[1;33m,\u001b[0m \u001b[1;33m**\u001b[0m\u001b[0mkwargs\u001b[0m\u001b[1;33m)\u001b[0m\u001b[1;33m\u001b[0m\u001b[1;33m\u001b[0m\u001b[0m\n\u001b[0m\u001b[0;32m    109\u001b[0m \u001b[1;33m\u001b[0m\u001b[0m\n\u001b[0;32m    110\u001b[0m     \u001b[1;31m# Running inside `run_distribute_coordinator` already.\u001b[0m\u001b[1;33m\u001b[0m\u001b[1;33m\u001b[0m\u001b[1;33m\u001b[0m\u001b[0m\n",
      "\u001b[1;32m~\\anaconda3\\lib\\site-packages\\tensorflow\\python\\keras\\engine\\training.py\u001b[0m in \u001b[0;36mfit\u001b[1;34m(self, x, y, batch_size, epochs, verbose, callbacks, validation_split, validation_data, shuffle, class_weight, sample_weight, initial_epoch, steps_per_epoch, validation_steps, validation_batch_size, validation_freq, max_queue_size, workers, use_multiprocessing)\u001b[0m\n\u001b[0;32m   1096\u001b[0m                 batch_size=batch_size):\n\u001b[0;32m   1097\u001b[0m               \u001b[0mcallbacks\u001b[0m\u001b[1;33m.\u001b[0m\u001b[0mon_train_batch_begin\u001b[0m\u001b[1;33m(\u001b[0m\u001b[0mstep\u001b[0m\u001b[1;33m)\u001b[0m\u001b[1;33m\u001b[0m\u001b[1;33m\u001b[0m\u001b[0m\n\u001b[1;32m-> 1098\u001b[1;33m               \u001b[0mtmp_logs\u001b[0m \u001b[1;33m=\u001b[0m \u001b[0mtrain_function\u001b[0m\u001b[1;33m(\u001b[0m\u001b[0miterator\u001b[0m\u001b[1;33m)\u001b[0m\u001b[1;33m\u001b[0m\u001b[1;33m\u001b[0m\u001b[0m\n\u001b[0m\u001b[0;32m   1099\u001b[0m               \u001b[1;32mif\u001b[0m \u001b[0mdata_handler\u001b[0m\u001b[1;33m.\u001b[0m\u001b[0mshould_sync\u001b[0m\u001b[1;33m:\u001b[0m\u001b[1;33m\u001b[0m\u001b[1;33m\u001b[0m\u001b[0m\n\u001b[0;32m   1100\u001b[0m                 \u001b[0mcontext\u001b[0m\u001b[1;33m.\u001b[0m\u001b[0masync_wait\u001b[0m\u001b[1;33m(\u001b[0m\u001b[1;33m)\u001b[0m\u001b[1;33m\u001b[0m\u001b[1;33m\u001b[0m\u001b[0m\n",
      "\u001b[1;32m~\\anaconda3\\lib\\site-packages\\tensorflow\\python\\eager\\def_function.py\u001b[0m in \u001b[0;36m__call__\u001b[1;34m(self, *args, **kwds)\u001b[0m\n\u001b[0;32m    778\u001b[0m       \u001b[1;32melse\u001b[0m\u001b[1;33m:\u001b[0m\u001b[1;33m\u001b[0m\u001b[1;33m\u001b[0m\u001b[0m\n\u001b[0;32m    779\u001b[0m         \u001b[0mcompiler\u001b[0m \u001b[1;33m=\u001b[0m \u001b[1;34m\"nonXla\"\u001b[0m\u001b[1;33m\u001b[0m\u001b[1;33m\u001b[0m\u001b[0m\n\u001b[1;32m--> 780\u001b[1;33m         \u001b[0mresult\u001b[0m \u001b[1;33m=\u001b[0m \u001b[0mself\u001b[0m\u001b[1;33m.\u001b[0m\u001b[0m_call\u001b[0m\u001b[1;33m(\u001b[0m\u001b[1;33m*\u001b[0m\u001b[0margs\u001b[0m\u001b[1;33m,\u001b[0m \u001b[1;33m**\u001b[0m\u001b[0mkwds\u001b[0m\u001b[1;33m)\u001b[0m\u001b[1;33m\u001b[0m\u001b[1;33m\u001b[0m\u001b[0m\n\u001b[0m\u001b[0;32m    781\u001b[0m \u001b[1;33m\u001b[0m\u001b[0m\n\u001b[0;32m    782\u001b[0m       \u001b[0mnew_tracing_count\u001b[0m \u001b[1;33m=\u001b[0m \u001b[0mself\u001b[0m\u001b[1;33m.\u001b[0m\u001b[0m_get_tracing_count\u001b[0m\u001b[1;33m(\u001b[0m\u001b[1;33m)\u001b[0m\u001b[1;33m\u001b[0m\u001b[1;33m\u001b[0m\u001b[0m\n",
      "\u001b[1;32m~\\anaconda3\\lib\\site-packages\\tensorflow\\python\\eager\\def_function.py\u001b[0m in \u001b[0;36m_call\u001b[1;34m(self, *args, **kwds)\u001b[0m\n\u001b[0;32m    821\u001b[0m       \u001b[1;31m# This is the first call of __call__, so we have to initialize.\u001b[0m\u001b[1;33m\u001b[0m\u001b[1;33m\u001b[0m\u001b[1;33m\u001b[0m\u001b[0m\n\u001b[0;32m    822\u001b[0m       \u001b[0minitializers\u001b[0m \u001b[1;33m=\u001b[0m \u001b[1;33m[\u001b[0m\u001b[1;33m]\u001b[0m\u001b[1;33m\u001b[0m\u001b[1;33m\u001b[0m\u001b[0m\n\u001b[1;32m--> 823\u001b[1;33m       \u001b[0mself\u001b[0m\u001b[1;33m.\u001b[0m\u001b[0m_initialize\u001b[0m\u001b[1;33m(\u001b[0m\u001b[0margs\u001b[0m\u001b[1;33m,\u001b[0m \u001b[0mkwds\u001b[0m\u001b[1;33m,\u001b[0m \u001b[0madd_initializers_to\u001b[0m\u001b[1;33m=\u001b[0m\u001b[0minitializers\u001b[0m\u001b[1;33m)\u001b[0m\u001b[1;33m\u001b[0m\u001b[1;33m\u001b[0m\u001b[0m\n\u001b[0m\u001b[0;32m    824\u001b[0m     \u001b[1;32mfinally\u001b[0m\u001b[1;33m:\u001b[0m\u001b[1;33m\u001b[0m\u001b[1;33m\u001b[0m\u001b[0m\n\u001b[0;32m    825\u001b[0m       \u001b[1;31m# At this point we know that the initialization is complete (or less\u001b[0m\u001b[1;33m\u001b[0m\u001b[1;33m\u001b[0m\u001b[1;33m\u001b[0m\u001b[0m\n",
      "\u001b[1;32m~\\anaconda3\\lib\\site-packages\\tensorflow\\python\\eager\\def_function.py\u001b[0m in \u001b[0;36m_initialize\u001b[1;34m(self, args, kwds, add_initializers_to)\u001b[0m\n\u001b[0;32m    694\u001b[0m     \u001b[0mself\u001b[0m\u001b[1;33m.\u001b[0m\u001b[0m_graph_deleter\u001b[0m \u001b[1;33m=\u001b[0m \u001b[0mFunctionDeleter\u001b[0m\u001b[1;33m(\u001b[0m\u001b[0mself\u001b[0m\u001b[1;33m.\u001b[0m\u001b[0m_lifted_initializer_graph\u001b[0m\u001b[1;33m)\u001b[0m\u001b[1;33m\u001b[0m\u001b[1;33m\u001b[0m\u001b[0m\n\u001b[0;32m    695\u001b[0m     self._concrete_stateful_fn = (\n\u001b[1;32m--> 696\u001b[1;33m         self._stateful_fn._get_concrete_function_internal_garbage_collected(  # pylint: disable=protected-access\n\u001b[0m\u001b[0;32m    697\u001b[0m             *args, **kwds))\n\u001b[0;32m    698\u001b[0m \u001b[1;33m\u001b[0m\u001b[0m\n",
      "\u001b[1;32m~\\anaconda3\\lib\\site-packages\\tensorflow\\python\\eager\\function.py\u001b[0m in \u001b[0;36m_get_concrete_function_internal_garbage_collected\u001b[1;34m(self, *args, **kwargs)\u001b[0m\n\u001b[0;32m   2853\u001b[0m       \u001b[0margs\u001b[0m\u001b[1;33m,\u001b[0m \u001b[0mkwargs\u001b[0m \u001b[1;33m=\u001b[0m \u001b[1;32mNone\u001b[0m\u001b[1;33m,\u001b[0m \u001b[1;32mNone\u001b[0m\u001b[1;33m\u001b[0m\u001b[1;33m\u001b[0m\u001b[0m\n\u001b[0;32m   2854\u001b[0m     \u001b[1;32mwith\u001b[0m \u001b[0mself\u001b[0m\u001b[1;33m.\u001b[0m\u001b[0m_lock\u001b[0m\u001b[1;33m:\u001b[0m\u001b[1;33m\u001b[0m\u001b[1;33m\u001b[0m\u001b[0m\n\u001b[1;32m-> 2855\u001b[1;33m       \u001b[0mgraph_function\u001b[0m\u001b[1;33m,\u001b[0m \u001b[0m_\u001b[0m\u001b[1;33m,\u001b[0m \u001b[0m_\u001b[0m \u001b[1;33m=\u001b[0m \u001b[0mself\u001b[0m\u001b[1;33m.\u001b[0m\u001b[0m_maybe_define_function\u001b[0m\u001b[1;33m(\u001b[0m\u001b[0margs\u001b[0m\u001b[1;33m,\u001b[0m \u001b[0mkwargs\u001b[0m\u001b[1;33m)\u001b[0m\u001b[1;33m\u001b[0m\u001b[1;33m\u001b[0m\u001b[0m\n\u001b[0m\u001b[0;32m   2856\u001b[0m     \u001b[1;32mreturn\u001b[0m \u001b[0mgraph_function\u001b[0m\u001b[1;33m\u001b[0m\u001b[1;33m\u001b[0m\u001b[0m\n\u001b[0;32m   2857\u001b[0m \u001b[1;33m\u001b[0m\u001b[0m\n",
      "\u001b[1;32m~\\anaconda3\\lib\\site-packages\\tensorflow\\python\\eager\\function.py\u001b[0m in \u001b[0;36m_maybe_define_function\u001b[1;34m(self, args, kwargs)\u001b[0m\n\u001b[0;32m   3211\u001b[0m \u001b[1;33m\u001b[0m\u001b[0m\n\u001b[0;32m   3212\u001b[0m       \u001b[0mself\u001b[0m\u001b[1;33m.\u001b[0m\u001b[0m_function_cache\u001b[0m\u001b[1;33m.\u001b[0m\u001b[0mmissed\u001b[0m\u001b[1;33m.\u001b[0m\u001b[0madd\u001b[0m\u001b[1;33m(\u001b[0m\u001b[0mcall_context_key\u001b[0m\u001b[1;33m)\u001b[0m\u001b[1;33m\u001b[0m\u001b[1;33m\u001b[0m\u001b[0m\n\u001b[1;32m-> 3213\u001b[1;33m       \u001b[0mgraph_function\u001b[0m \u001b[1;33m=\u001b[0m \u001b[0mself\u001b[0m\u001b[1;33m.\u001b[0m\u001b[0m_create_graph_function\u001b[0m\u001b[1;33m(\u001b[0m\u001b[0margs\u001b[0m\u001b[1;33m,\u001b[0m \u001b[0mkwargs\u001b[0m\u001b[1;33m)\u001b[0m\u001b[1;33m\u001b[0m\u001b[1;33m\u001b[0m\u001b[0m\n\u001b[0m\u001b[0;32m   3214\u001b[0m       \u001b[0mself\u001b[0m\u001b[1;33m.\u001b[0m\u001b[0m_function_cache\u001b[0m\u001b[1;33m.\u001b[0m\u001b[0mprimary\u001b[0m\u001b[1;33m[\u001b[0m\u001b[0mcache_key\u001b[0m\u001b[1;33m]\u001b[0m \u001b[1;33m=\u001b[0m \u001b[0mgraph_function\u001b[0m\u001b[1;33m\u001b[0m\u001b[1;33m\u001b[0m\u001b[0m\n\u001b[0;32m   3215\u001b[0m       \u001b[1;32mreturn\u001b[0m \u001b[0mgraph_function\u001b[0m\u001b[1;33m,\u001b[0m \u001b[0margs\u001b[0m\u001b[1;33m,\u001b[0m \u001b[0mkwargs\u001b[0m\u001b[1;33m\u001b[0m\u001b[1;33m\u001b[0m\u001b[0m\n",
      "\u001b[1;32m~\\anaconda3\\lib\\site-packages\\tensorflow\\python\\eager\\function.py\u001b[0m in \u001b[0;36m_create_graph_function\u001b[1;34m(self, args, kwargs, override_flat_arg_shapes)\u001b[0m\n\u001b[0;32m   3063\u001b[0m     \u001b[0marg_names\u001b[0m \u001b[1;33m=\u001b[0m \u001b[0mbase_arg_names\u001b[0m \u001b[1;33m+\u001b[0m \u001b[0mmissing_arg_names\u001b[0m\u001b[1;33m\u001b[0m\u001b[1;33m\u001b[0m\u001b[0m\n\u001b[0;32m   3064\u001b[0m     graph_function = ConcreteFunction(\n\u001b[1;32m-> 3065\u001b[1;33m         func_graph_module.func_graph_from_py_func(\n\u001b[0m\u001b[0;32m   3066\u001b[0m             \u001b[0mself\u001b[0m\u001b[1;33m.\u001b[0m\u001b[0m_name\u001b[0m\u001b[1;33m,\u001b[0m\u001b[1;33m\u001b[0m\u001b[1;33m\u001b[0m\u001b[0m\n\u001b[0;32m   3067\u001b[0m             \u001b[0mself\u001b[0m\u001b[1;33m.\u001b[0m\u001b[0m_python_function\u001b[0m\u001b[1;33m,\u001b[0m\u001b[1;33m\u001b[0m\u001b[1;33m\u001b[0m\u001b[0m\n",
      "\u001b[1;32m~\\anaconda3\\lib\\site-packages\\tensorflow\\python\\framework\\func_graph.py\u001b[0m in \u001b[0;36mfunc_graph_from_py_func\u001b[1;34m(name, python_func, args, kwargs, signature, func_graph, autograph, autograph_options, add_control_dependencies, arg_names, op_return_value, collections, capture_by_value, override_flat_arg_shapes)\u001b[0m\n\u001b[0;32m    984\u001b[0m         \u001b[0m_\u001b[0m\u001b[1;33m,\u001b[0m \u001b[0moriginal_func\u001b[0m \u001b[1;33m=\u001b[0m \u001b[0mtf_decorator\u001b[0m\u001b[1;33m.\u001b[0m\u001b[0munwrap\u001b[0m\u001b[1;33m(\u001b[0m\u001b[0mpython_func\u001b[0m\u001b[1;33m)\u001b[0m\u001b[1;33m\u001b[0m\u001b[1;33m\u001b[0m\u001b[0m\n\u001b[0;32m    985\u001b[0m \u001b[1;33m\u001b[0m\u001b[0m\n\u001b[1;32m--> 986\u001b[1;33m       \u001b[0mfunc_outputs\u001b[0m \u001b[1;33m=\u001b[0m \u001b[0mpython_func\u001b[0m\u001b[1;33m(\u001b[0m\u001b[1;33m*\u001b[0m\u001b[0mfunc_args\u001b[0m\u001b[1;33m,\u001b[0m \u001b[1;33m**\u001b[0m\u001b[0mfunc_kwargs\u001b[0m\u001b[1;33m)\u001b[0m\u001b[1;33m\u001b[0m\u001b[1;33m\u001b[0m\u001b[0m\n\u001b[0m\u001b[0;32m    987\u001b[0m \u001b[1;33m\u001b[0m\u001b[0m\n\u001b[0;32m    988\u001b[0m       \u001b[1;31m# invariant: `func_outputs` contains only Tensors, CompositeTensors,\u001b[0m\u001b[1;33m\u001b[0m\u001b[1;33m\u001b[0m\u001b[1;33m\u001b[0m\u001b[0m\n",
      "\u001b[1;32m~\\anaconda3\\lib\\site-packages\\tensorflow\\python\\eager\\def_function.py\u001b[0m in \u001b[0;36mwrapped_fn\u001b[1;34m(*args, **kwds)\u001b[0m\n\u001b[0;32m    598\u001b[0m         \u001b[1;31m# __wrapped__ allows AutoGraph to swap in a converted function. We give\u001b[0m\u001b[1;33m\u001b[0m\u001b[1;33m\u001b[0m\u001b[1;33m\u001b[0m\u001b[0m\n\u001b[0;32m    599\u001b[0m         \u001b[1;31m# the function a weak reference to itself to avoid a reference cycle.\u001b[0m\u001b[1;33m\u001b[0m\u001b[1;33m\u001b[0m\u001b[1;33m\u001b[0m\u001b[0m\n\u001b[1;32m--> 600\u001b[1;33m         \u001b[1;32mreturn\u001b[0m \u001b[0mweak_wrapped_fn\u001b[0m\u001b[1;33m(\u001b[0m\u001b[1;33m)\u001b[0m\u001b[1;33m.\u001b[0m\u001b[0m__wrapped__\u001b[0m\u001b[1;33m(\u001b[0m\u001b[1;33m*\u001b[0m\u001b[0margs\u001b[0m\u001b[1;33m,\u001b[0m \u001b[1;33m**\u001b[0m\u001b[0mkwds\u001b[0m\u001b[1;33m)\u001b[0m\u001b[1;33m\u001b[0m\u001b[1;33m\u001b[0m\u001b[0m\n\u001b[0m\u001b[0;32m    601\u001b[0m     \u001b[0mweak_wrapped_fn\u001b[0m \u001b[1;33m=\u001b[0m \u001b[0mweakref\u001b[0m\u001b[1;33m.\u001b[0m\u001b[0mref\u001b[0m\u001b[1;33m(\u001b[0m\u001b[0mwrapped_fn\u001b[0m\u001b[1;33m)\u001b[0m\u001b[1;33m\u001b[0m\u001b[1;33m\u001b[0m\u001b[0m\n\u001b[0;32m    602\u001b[0m \u001b[1;33m\u001b[0m\u001b[0m\n",
      "\u001b[1;32m~\\anaconda3\\lib\\site-packages\\tensorflow\\python\\framework\\func_graph.py\u001b[0m in \u001b[0;36mwrapper\u001b[1;34m(*args, **kwargs)\u001b[0m\n\u001b[0;32m    971\u001b[0m           \u001b[1;32mexcept\u001b[0m \u001b[0mException\u001b[0m \u001b[1;32mas\u001b[0m \u001b[0me\u001b[0m\u001b[1;33m:\u001b[0m  \u001b[1;31m# pylint:disable=broad-except\u001b[0m\u001b[1;33m\u001b[0m\u001b[1;33m\u001b[0m\u001b[0m\n\u001b[0;32m    972\u001b[0m             \u001b[1;32mif\u001b[0m \u001b[0mhasattr\u001b[0m\u001b[1;33m(\u001b[0m\u001b[0me\u001b[0m\u001b[1;33m,\u001b[0m \u001b[1;34m\"ag_error_metadata\"\u001b[0m\u001b[1;33m)\u001b[0m\u001b[1;33m:\u001b[0m\u001b[1;33m\u001b[0m\u001b[1;33m\u001b[0m\u001b[0m\n\u001b[1;32m--> 973\u001b[1;33m               \u001b[1;32mraise\u001b[0m \u001b[0me\u001b[0m\u001b[1;33m.\u001b[0m\u001b[0mag_error_metadata\u001b[0m\u001b[1;33m.\u001b[0m\u001b[0mto_exception\u001b[0m\u001b[1;33m(\u001b[0m\u001b[0me\u001b[0m\u001b[1;33m)\u001b[0m\u001b[1;33m\u001b[0m\u001b[1;33m\u001b[0m\u001b[0m\n\u001b[0m\u001b[0;32m    974\u001b[0m             \u001b[1;32melse\u001b[0m\u001b[1;33m:\u001b[0m\u001b[1;33m\u001b[0m\u001b[1;33m\u001b[0m\u001b[0m\n\u001b[0;32m    975\u001b[0m               \u001b[1;32mraise\u001b[0m\u001b[1;33m\u001b[0m\u001b[1;33m\u001b[0m\u001b[0m\n",
      "\u001b[1;31mTypeError\u001b[0m: in user code:\n\n    C:\\Users\\lasse\\anaconda3\\lib\\site-packages\\tensorflow\\python\\keras\\engine\\training.py:806 train_function  *\n        return step_function(self, iterator)\n    C:\\Users\\lasse\\anaconda3\\lib\\site-packages\\tensorflow\\python\\keras\\engine\\training.py:796 step_function  **\n        outputs = model.distribute_strategy.run(run_step, args=(data,))\n    C:\\Users\\lasse\\anaconda3\\lib\\site-packages\\tensorflow\\python\\distribute\\distribute_lib.py:1211 run\n        return self._extended.call_for_each_replica(fn, args=args, kwargs=kwargs)\n    C:\\Users\\lasse\\anaconda3\\lib\\site-packages\\tensorflow\\python\\distribute\\distribute_lib.py:2585 call_for_each_replica\n        return self._call_for_each_replica(fn, args, kwargs)\n    C:\\Users\\lasse\\anaconda3\\lib\\site-packages\\tensorflow\\python\\distribute\\distribute_lib.py:2945 _call_for_each_replica\n        return fn(*args, **kwargs)\n    C:\\Users\\lasse\\anaconda3\\lib\\site-packages\\tensorflow\\python\\keras\\engine\\training.py:789 run_step  **\n        outputs = model.train_step(data)\n    <ipython-input-32-db73c84beff9>:67 train_step\n        loss = abs(dotproduct - labels)\n    C:\\Users\\lasse\\anaconda3\\lib\\site-packages\\tensorflow\\python\\ops\\math_ops.py:1140 binary_op_wrapper\n        raise e\n    C:\\Users\\lasse\\anaconda3\\lib\\site-packages\\tensorflow\\python\\ops\\math_ops.py:1124 binary_op_wrapper\n        return func(x, y, name=name)\n    C:\\Users\\lasse\\anaconda3\\lib\\site-packages\\tensorflow\\python\\util\\dispatch.py:201 wrapper\n        return target(*args, **kwargs)\n    C:\\Users\\lasse\\anaconda3\\lib\\site-packages\\tensorflow\\python\\ops\\math_ops.py:526 subtract\n        return gen_math_ops.sub(x, y, name)\n    C:\\Users\\lasse\\anaconda3\\lib\\site-packages\\tensorflow\\python\\ops\\gen_math_ops.py:10465 sub\n        _, _, _op, _outputs = _op_def_library._apply_op_helper(\n    C:\\Users\\lasse\\anaconda3\\lib\\site-packages\\tensorflow\\python\\framework\\op_def_library.py:503 _apply_op_helper\n        raise TypeError(\n\n    TypeError: Input 'y' of 'Sub' Op has type int64 that does not match type float32 of argument 'x'.\n"
     ]
    }
   ],
   "source": [
    "import sys\n",
    "optimizer = keras.optimizers.Adam(learning_rate=0.001, beta_1=0.0, beta_2=0.99, epsilon=1e-8)\n",
    "\n",
    "model.compile(\n",
    "    optimizer\n",
    ")\n",
    "\n",
    "#Train_data, [dataset.user_id, dataset.poi_id]. Label: ground_truth\n",
    "model.fit(dataset, labels, epochs = 50)"
   ]
  },
  {
   "cell_type": "markdown",
   "id": "26f05cf4-af5b-4eeb-a93f-5e1dcbbeca3a",
   "metadata": {},
   "source": [
    "Train the model"
   ]
  },
  {
   "cell_type": "code",
   "execution_count": null,
   "id": "96bb3542-c0f4-4747-b1c7-87b295f5899e",
   "metadata": {},
   "outputs": [],
   "source": [
    "callbacks = [keras.callbacks.EarlyStopping('val_loss', patience=10),\n",
    "             keras.callbacks.ModelCheckpoint('besttest.h5', save_best_only=True)]\n",
    "\n",
    "history = model.fit([train.movie_id, train.user_id],train.rating, batch_size=100,\n",
    "                              epochs =50, validation_data = ([test.movie_id, test.user_id],test.rating),\n",
    "                              verbose = 1, \n",
    "                              callbacks = callbacks)"
   ]
  },
  {
   "cell_type": "code",
   "execution_count": null,
   "id": "4a948067-4323-4a57-88f2-c00bdf3e0e00",
   "metadata": {},
   "outputs": [],
   "source": [
    "user_model.predict([np.array([10]), np.array([3])])"
   ]
  },
  {
   "cell_type": "code",
   "execution_count": null,
   "id": "64bb22e6-1597-4b83-bfbe-6e4e7014e8c2",
   "metadata": {},
   "outputs": [],
   "source": [
    "model.summary()"
   ]
  },
  {
   "cell_type": "code",
   "execution_count": null,
   "id": "4c60b823-9e89-44af-91a1-40126b89c1a7",
   "metadata": {},
   "outputs": [],
   "source": [
    "keras.utils.plot_model(model, show_shapes=True)"
   ]
  },
  {
   "cell_type": "code",
   "execution_count": null,
   "id": "93d73178-458e-4599-aefd-3ecd46ac0b76",
   "metadata": {},
   "outputs": [],
   "source": [
    "from pylab import rcParams\n",
    "rcParams['figure.figsize'] = 10, 5\n",
    "import matplotlib.pyplot as plt\n",
    "plt.plot(history.history['loss'] , 'g')\n",
    "plt.title('model loss')\n",
    "plt.ylabel('loss')\n",
    "plt.xlabel('epochs')\n",
    "plt.legend(['train'], loc='upper right')\n",
    "plt.grid(True)\n",
    "plt.show()"
   ]
  },
  {
   "cell_type": "code",
   "execution_count": null,
   "id": "92761a14-e18e-4171-bdb4-32e5063d607e",
   "metadata": {},
   "outputs": [],
   "source": [
    "print('test')"
   ]
  },
  {
   "cell_type": "code",
   "execution_count": 9,
   "id": "152340e9-2082-477a-95ec-9accebd15fcf",
   "metadata": {},
   "outputs": [
    {
     "name": "stdout",
     "output_type": "stream",
     "text": [
      "test\n"
     ]
    }
   ],
   "source": [
    "print('test')"
   ]
  },
  {
   "cell_type": "code",
   "execution_count": null,
   "id": "2d6b9ead-7f6f-41a1-921d-c06a83112311",
   "metadata": {},
   "outputs": [],
   "source": []
  }
 ],
 "metadata": {
  "kernelspec": {
   "display_name": "Python 3",
   "language": "python",
   "name": "python3"
  },
  "language_info": {
   "codemirror_mode": {
    "name": "ipython",
    "version": 3
   },
   "file_extension": ".py",
   "mimetype": "text/x-python",
   "name": "python",
   "nbconvert_exporter": "python",
   "pygments_lexer": "ipython3",
   "version": "3.8.8"
  }
 },
 "nbformat": 4,
 "nbformat_minor": 5
}
