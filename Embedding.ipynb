{
 "cells": [
  {
   "cell_type": "code",
   "execution_count": 1,
   "id": "aebedcd1-3b4f-4511-80c5-38fc632073a2",
   "metadata": {},
   "outputs": [],
   "source": [
    "from tensorflow import keras\n",
    "from tensorflow.keras import layers\n",
    "from tensorflow.keras import backend as K\n",
    "import tensorflow as tf\n",
    "import pandas as pd\n",
    "import numpy as np\n",
    "from sklearn.impute import SimpleImputer\n",
    "from sklearn.preprocessing import Normalizer , scale\n",
    "from sklearn.model_selection import GridSearchCV , KFold , cross_val_score\n",
    "from sklearn.metrics import mean_squared_log_error,mean_squared_error, r2_score,mean_absolute_error \n",
    "from sklearn.metrics import accuracy_score,precision_score,recall_score,f1_score\n",
    "from sklearn.neighbors import NearestNeighbors\n",
    "from sklearn.model_selection import train_test_split, KFold\n",
    "from sklearn.model_selection import StratifiedKFold\n",
    "from sklearn.model_selection import cross_val_score\n",
    "from sklearn.preprocessing import LabelEncoder\n",
    "from keras.models import Model\n",
    "%matplotlib inline"
   ]
  },
  {
   "cell_type": "code",
   "execution_count": 3,
   "id": "5c2acb48-8b91-453b-a0e1-28b59bbc6703",
   "metadata": {},
   "outputs": [],
   "source": [
    "from IPython.display import SVG\n",
    "from urllib.request import urlretrieve\n",
    "import zipfile\n",
    "import collections"
   ]
  },
  {
   "cell_type": "code",
   "execution_count": null,
   "id": "999d8a70-86f2-49cb-bae7-a346e7cf024c",
   "metadata": {},
   "outputs": [],
   "source": [
    "Loading csv files"
   ]
  },
  {
   "cell_type": "code",
   "execution_count": null,
   "id": "6a6731ff-eb8e-44dc-92c0-65acd6fe16f5",
   "metadata": {},
   "outputs": [],
   "source": [
    "users = pd.read_csv('')\n",
    "pois = pd.read_csv('C:\\Users\\lasse\\Desktop\\RecommenderDL\\TIST2015_POIs.csv')"
   ]
  },
  {
   "cell_type": "code",
   "execution_count": null,
   "id": "07288e26-a08b-47c2-bda2-dd9f52d52566",
   "metadata": {},
   "outputs": [],
   "source": [
    "#dataset_TIST2015_Checkins: User ID, Venue ID, UTC time, Time zone\n",
    "#dataset_TIST2015_POIs: Venue ID, Latitude, Longitude, Venue category name, Country code \n",
    "#dataset_TIST2015_Cities: Cityname, Latitude, Longitude, Vanue Category, Country code, Country name, City type\n",
    "#dataset_UbiComp2016_UserProfile_{CITY}: User ID, Gender, Twitter friend count, Twitter follower count\n",
    "\n",
    "#Scenario 1: Checkins og POI locations\n",
    "\n",
    "checkin_cols = ['poi_id', 'timestamp', 'latitude', 'longitude']\n",
    "venue_cols = ['venue_id', 'latitude', 'longitude', 'category' 'unix_timestamp']\n",
    "\n",
    "#Scenario 2: Users og Checkins\n",
    "\n",
    "# Load each data set (users, movies, and ratings).\n",
    "users_cols = ['user_id', 'gender', 'sex']\n",
    "ratings_cols = ['user_id', 'venue_id', 'latitude', 'longitude', 'category' 'unix_timestamp']\n",
    "\n",
    "#Scenario3: Users, Checkins og POI Locations\n",
    "checkin_cols = ['poi_id', 'gender', 'sex']\n",
    "venue_cols = ['venue_id', 'user_id', 'latitude', 'longitude', 'category' 'unix_timestamp']\n",
    "user_cols = ['user_id', 'gender']\n",
    "\n",
    "\n"
   ]
  }
 ],
 "metadata": {
  "kernelspec": {
   "display_name": "Python 3",
   "language": "python",
   "name": "python3"
  },
  "language_info": {
   "codemirror_mode": {
    "name": "ipython",
    "version": 3
   },
   "file_extension": ".py",
   "mimetype": "text/x-python",
   "name": "python",
   "nbconvert_exporter": "python",
   "pygments_lexer": "ipython3",
   "version": "3.8.8"
  }
 },
 "nbformat": 4,
 "nbformat_minor": 5
}
