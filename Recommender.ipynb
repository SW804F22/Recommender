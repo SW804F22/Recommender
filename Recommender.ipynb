{
 "cells": [
  {
   "cell_type": "code",
   "execution_count": 52,
   "outputs": [],
   "source": [
    "from pathlib import Path\n",
    "import matplotlib.pyplot as plt\n",
    "import pandas as pd\n",
    "import numpy as np"
   ],
   "metadata": {
    "collapsed": false,
    "pycharm": {
     "name": "#%%\n"
    }
   }
  },
  {
   "cell_type": "code",
   "execution_count": null,
   "metadata": {
    "collapsed": true,
    "pycharm": {
     "name": "#%%\n"
    }
   },
   "outputs": [],
   "source": [
    "\n",
    "\n",
    "read_file = pd.read_csv (r'C:\\Users\\Johan\\Downloads\\dataset_TIST2015\\dataset_TIST2015_POIs.txt', names=[\"Pid\", \"Latitude\", \"Longtitude\", \"Category\", \"Country\"], sep='\\t')\n",
    "read_file.to_csv (r'C:\\Users\\Johan\\Documents\\POI_dataset\\TIST2015_POIs.csv', index=None)"
   ]
  },
  {
   "cell_type": "code",
   "execution_count": 4,
   "outputs": [],
   "source": [
    "\n",
    "\n",
    "read_file = pd.read_csv (r'C:\\Users\\Johan\\Downloads\\dataset_TIST2015\\dataset_TIST2015_Checkins.txt', names=[\"Uid\",\"Pid\",\"Timestamp\", \"TimezoneOffset\"], sep='\\t')\n",
    "read_file.to_csv (r'C:\\Users\\Johan\\Documents\\POI_dataset\\TIST2015_Checkins.csv', index=None)"
   ],
   "metadata": {
    "collapsed": false,
    "pycharm": {
     "name": "#%%\n"
    }
   }
  },
  {
   "cell_type": "code",
   "execution_count": 14,
   "outputs": [],
   "source": [
    "def read_data(path):\n",
    "    files = {}\n",
    "    for filename in path.glob('*'):\n",
    "        if filename.suffix == '.csv':\n",
    "            files[filename.stem] = pd.read_csv(filename)\n",
    "        elif filename.suffix == '.txt':\n",
    "            if filename.stem == \"TIST2015_POIs\":\n",
    "                columns = [\"Pid\", \"Latitude\", \"Longtitude\", \"Category\", \"Country\"]\n",
    "            elif filename.stem == \"TIST2015_POIs_Checkins\":\n",
    "                columns = [\"Uid\",\"Pid\",\"Timestamp\", \"TimezoneOffset\"]\n",
    "            else:\n",
    "                continue\n",
    "            data = pd.read_csv(filename, names=columns, engine='python')\n",
    "            files[filename.stem] = data\n",
    "\n",
    "    return files['TIST2015_POIs'], files['TIST2015_Checkins']"
   ],
   "metadata": {
    "collapsed": false,
    "pycharm": {
     "name": "#%%\n"
    }
   }
  },
  {
   "cell_type": "code",
   "execution_count": 15,
   "outputs": [],
   "source": [
    "# pick one of the available folders\n",
    "pois, checkins = read_data(Path(r'C:\\Users\\Johan\\Documents\\POI_dataset'))"
   ],
   "metadata": {
    "collapsed": false,
    "pycharm": {
     "name": "#%%\n"
    }
   }
  },
  {
   "cell_type": "code",
   "execution_count": 16,
   "outputs": [
    {
     "data": {
      "text/plain": "      Uid                       Pid                       Timestamp  \\\n0   50756  4f5e3a72e4b053fd6a4313f6  Tue Apr 03 18:00:06 +0000 2012   \n1  190571  4b4b87b5f964a5204a9f26e3  Tue Apr 03 18:00:07 +0000 2012   \n2  221021  4a85b1b3f964a520eefe1fe3  Tue Apr 03 18:00:08 +0000 2012   \n3   66981  4b4606f2f964a520751426e3  Tue Apr 03 18:00:08 +0000 2012   \n4   21010  4c2b4e8a9a559c74832f0de2  Tue Apr 03 18:00:09 +0000 2012   \n\n   TimezoneOffset  \n0             240  \n1             180  \n2            -240  \n3            -300  \n4             240  ",
      "text/html": "<div>\n<style scoped>\n    .dataframe tbody tr th:only-of-type {\n        vertical-align: middle;\n    }\n\n    .dataframe tbody tr th {\n        vertical-align: top;\n    }\n\n    .dataframe thead th {\n        text-align: right;\n    }\n</style>\n<table border=\"1\" class=\"dataframe\">\n  <thead>\n    <tr style=\"text-align: right;\">\n      <th></th>\n      <th>Uid</th>\n      <th>Pid</th>\n      <th>Timestamp</th>\n      <th>TimezoneOffset</th>\n    </tr>\n  </thead>\n  <tbody>\n    <tr>\n      <th>0</th>\n      <td>50756</td>\n      <td>4f5e3a72e4b053fd6a4313f6</td>\n      <td>Tue Apr 03 18:00:06 +0000 2012</td>\n      <td>240</td>\n    </tr>\n    <tr>\n      <th>1</th>\n      <td>190571</td>\n      <td>4b4b87b5f964a5204a9f26e3</td>\n      <td>Tue Apr 03 18:00:07 +0000 2012</td>\n      <td>180</td>\n    </tr>\n    <tr>\n      <th>2</th>\n      <td>221021</td>\n      <td>4a85b1b3f964a520eefe1fe3</td>\n      <td>Tue Apr 03 18:00:08 +0000 2012</td>\n      <td>-240</td>\n    </tr>\n    <tr>\n      <th>3</th>\n      <td>66981</td>\n      <td>4b4606f2f964a520751426e3</td>\n      <td>Tue Apr 03 18:00:08 +0000 2012</td>\n      <td>-300</td>\n    </tr>\n    <tr>\n      <th>4</th>\n      <td>21010</td>\n      <td>4c2b4e8a9a559c74832f0de2</td>\n      <td>Tue Apr 03 18:00:09 +0000 2012</td>\n      <td>240</td>\n    </tr>\n  </tbody>\n</table>\n</div>"
     },
     "execution_count": 16,
     "metadata": {},
     "output_type": "execute_result"
    }
   ],
   "source": [
    "\n",
    "checkins.head()"
   ],
   "metadata": {
    "collapsed": false,
    "pycharm": {
     "name": "#%%\n"
    }
   }
  },
  {
   "cell_type": "code",
   "execution_count": 21,
   "outputs": [
    {
     "data": {
      "text/plain": "<AxesSubplot:ylabel='Frequency'>"
     },
     "execution_count": 21,
     "metadata": {},
     "output_type": "execute_result"
    },
    {
     "data": {
      "text/plain": "<Figure size 432x288 with 1 Axes>",
      "image/png": "[encoded data removed]"
     },
     "metadata": {
      "needs_background": "light"
     },
     "output_type": "display_data"
    }
   ],
   "source": [
    "checkins[\"Uid\"].plot(kind='hist')\n"
   ],
   "metadata": {
    "collapsed": false,
    "pycharm": {
     "name": "#%%\n"
    }
   }
  },
  {
   "cell_type": "code",
   "execution_count": 25,
   "outputs": [
    {
     "data": {
      "text/plain": "                             Pid                       Timestamp\ncount                   33263633                        33263633\nunique                   3680126                        17831682\ntop     4b49cb0ff964a520b67326e3  Tue Jun 12 06:32:06 +0000 2012\nfreq                       34509                              33",
      "text/html": "<div>\n<style scoped>\n    .dataframe tbody tr th:only-of-type {\n        vertical-align: middle;\n    }\n\n    .dataframe tbody tr th {\n        vertical-align: top;\n    }\n\n    .dataframe thead th {\n        text-align: right;\n    }\n</style>\n<table border=\"1\" class=\"dataframe\">\n  <thead>\n    <tr style=\"text-align: right;\">\n      <th></th>\n      <th>Pid</th>\n      <th>Timestamp</th>\n    </tr>\n  </thead>\n  <tbody>\n    <tr>\n      <th>count</th>\n      <td>33263633</td>\n      <td>33263633</td>\n    </tr>\n    <tr>\n      <th>unique</th>\n      <td>3680126</td>\n      <td>17831682</td>\n    </tr>\n    <tr>\n      <th>top</th>\n      <td>4b49cb0ff964a520b67326e3</td>\n      <td>Tue Jun 12 06:32:06 +0000 2012</td>\n    </tr>\n    <tr>\n      <th>freq</th>\n      <td>34509</td>\n      <td>33</td>\n    </tr>\n  </tbody>\n</table>\n</div>"
     },
     "execution_count": 25,
     "metadata": {},
     "output_type": "execute_result"
    }
   ],
   "source": [
    "checkins.describe(include=object)"
   ],
   "metadata": {
    "collapsed": false,
    "pycharm": {
     "name": "#%%\n"
    }
   }
  },
  {
   "cell_type": "code",
   "execution_count": 23,
   "outputs": [
    {
     "data": {
      "text/plain": "2         5430\n3         4822\n7         4284\n10        4104\n4         4024\n          ... \n226915       1\n179          1\n168384       1\n142677       1\n70957        1\nName: Uid, Length: 266909, dtype: int64"
     },
     "execution_count": 23,
     "metadata": {},
     "output_type": "execute_result"
    }
   ],
   "source": [
    "checkins[\"Uid\"].value_counts()\n"
   ],
   "metadata": {
    "collapsed": false,
    "pycharm": {
     "name": "#%%\n"
    }
   }
  },
  {
   "cell_type": "code",
   "execution_count": 38,
   "outputs": [],
   "source": [
    "user_checkins_counts = checkins.groupby('Uid')['Pid'].count()\n",
    "\n",
    "##points_checkins_counts = checkins.groupby('Pid')['Uid'].count()"
   ],
   "metadata": {
    "collapsed": false,
    "pycharm": {
     "name": "#%%\n"
    }
   }
  },
  {
   "cell_type": "code",
   "execution_count": 58,
   "outputs": [
    {
     "name": "stdout",
     "output_type": "stream",
     "text": [
      "266907\n"
     ]
    },
    {
     "ename": "ValueError",
     "evalue": "('Lengths must match to compare', (33263633,), (266907,))",
     "output_type": "error",
     "traceback": [
      "\u001B[1;31m---------------------------------------------------------------------------\u001B[0m",
      "\u001B[1;31mValueError\u001B[0m                                Traceback (most recent call last)",
      "Input \u001B[1;32mIn [58]\u001B[0m, in \u001B[0;36m<cell line: 4>\u001B[1;34m()\u001B[0m\n\u001B[0;32m      3\u001B[0m Ncheckins \u001B[38;5;241m=\u001B[39m np\u001B[38;5;241m.\u001B[39mzeros(\u001B[38;5;28mlen\u001B[39m(Users))\n\u001B[0;32m      4\u001B[0m \u001B[38;5;28;01mfor\u001B[39;00m user,i \u001B[38;5;129;01min\u001B[39;00m \u001B[38;5;28mzip\u001B[39m(Users, \u001B[38;5;28mrange\u001B[39m(\u001B[38;5;28mlen\u001B[39m(Users))):\n\u001B[1;32m----> 5\u001B[0m     Ncheckins[i] \u001B[38;5;241m=\u001B[39m np\u001B[38;5;241m.\u001B[39mwhere(\u001B[43mcheckins\u001B[49m\u001B[43m[\u001B[49m\u001B[38;5;124;43m'\u001B[39;49m\u001B[38;5;124;43mUid\u001B[39;49m\u001B[38;5;124;43m'\u001B[39;49m\u001B[43m]\u001B[49m\u001B[43m \u001B[49m\u001B[38;5;241;43m==\u001B[39;49m\u001B[43m \u001B[49m\u001B[43mUsers\u001B[49m)\n",
      "File \u001B[1;32m~\\Dropbox\\Mobility_project\\venv\\lib\\site-packages\\pandas\\core\\ops\\common.py:70\u001B[0m, in \u001B[0;36m_unpack_zerodim_and_defer.<locals>.new_method\u001B[1;34m(self, other)\u001B[0m\n\u001B[0;32m     66\u001B[0m             \u001B[38;5;28;01mreturn\u001B[39;00m \u001B[38;5;28mNotImplemented\u001B[39m\n\u001B[0;32m     68\u001B[0m other \u001B[38;5;241m=\u001B[39m item_from_zerodim(other)\n\u001B[1;32m---> 70\u001B[0m \u001B[38;5;28;01mreturn\u001B[39;00m \u001B[43mmethod\u001B[49m\u001B[43m(\u001B[49m\u001B[38;5;28;43mself\u001B[39;49m\u001B[43m,\u001B[49m\u001B[43m \u001B[49m\u001B[43mother\u001B[49m\u001B[43m)\u001B[49m\n",
      "File \u001B[1;32m~\\Dropbox\\Mobility_project\\venv\\lib\\site-packages\\pandas\\core\\arraylike.py:40\u001B[0m, in \u001B[0;36mOpsMixin.__eq__\u001B[1;34m(self, other)\u001B[0m\n\u001B[0;32m     38\u001B[0m \u001B[38;5;129m@unpack_zerodim_and_defer\u001B[39m(\u001B[38;5;124m\"\u001B[39m\u001B[38;5;124m__eq__\u001B[39m\u001B[38;5;124m\"\u001B[39m)\n\u001B[0;32m     39\u001B[0m \u001B[38;5;28;01mdef\u001B[39;00m \u001B[38;5;21m__eq__\u001B[39m(\u001B[38;5;28mself\u001B[39m, other):\n\u001B[1;32m---> 40\u001B[0m     \u001B[38;5;28;01mreturn\u001B[39;00m \u001B[38;5;28;43mself\u001B[39;49m\u001B[38;5;241;43m.\u001B[39;49m\u001B[43m_cmp_method\u001B[49m\u001B[43m(\u001B[49m\u001B[43mother\u001B[49m\u001B[43m,\u001B[49m\u001B[43m \u001B[49m\u001B[43moperator\u001B[49m\u001B[38;5;241;43m.\u001B[39;49m\u001B[43meq\u001B[49m\u001B[43m)\u001B[49m\n",
      "File \u001B[1;32m~\\Dropbox\\Mobility_project\\venv\\lib\\site-packages\\pandas\\core\\series.py:5623\u001B[0m, in \u001B[0;36mSeries._cmp_method\u001B[1;34m(self, other, op)\u001B[0m\n\u001B[0;32m   5620\u001B[0m rvalues \u001B[38;5;241m=\u001B[39m extract_array(other, extract_numpy\u001B[38;5;241m=\u001B[39m\u001B[38;5;28;01mTrue\u001B[39;00m, extract_range\u001B[38;5;241m=\u001B[39m\u001B[38;5;28;01mTrue\u001B[39;00m)\n\u001B[0;32m   5622\u001B[0m \u001B[38;5;28;01mwith\u001B[39;00m np\u001B[38;5;241m.\u001B[39merrstate(\u001B[38;5;28mall\u001B[39m\u001B[38;5;241m=\u001B[39m\u001B[38;5;124m\"\u001B[39m\u001B[38;5;124mignore\u001B[39m\u001B[38;5;124m\"\u001B[39m):\n\u001B[1;32m-> 5623\u001B[0m     res_values \u001B[38;5;241m=\u001B[39m \u001B[43mops\u001B[49m\u001B[38;5;241;43m.\u001B[39;49m\u001B[43mcomparison_op\u001B[49m\u001B[43m(\u001B[49m\u001B[43mlvalues\u001B[49m\u001B[43m,\u001B[49m\u001B[43m \u001B[49m\u001B[43mrvalues\u001B[49m\u001B[43m,\u001B[49m\u001B[43m \u001B[49m\u001B[43mop\u001B[49m\u001B[43m)\u001B[49m\n\u001B[0;32m   5625\u001B[0m \u001B[38;5;28;01mreturn\u001B[39;00m \u001B[38;5;28mself\u001B[39m\u001B[38;5;241m.\u001B[39m_construct_result(res_values, name\u001B[38;5;241m=\u001B[39mres_name)\n",
      "File \u001B[1;32m~\\Dropbox\\Mobility_project\\venv\\lib\\site-packages\\pandas\\core\\ops\\array_ops.py:260\u001B[0m, in \u001B[0;36mcomparison_op\u001B[1;34m(left, right, op)\u001B[0m\n\u001B[0;32m    255\u001B[0m \u001B[38;5;28;01mif\u001B[39;00m \u001B[38;5;28misinstance\u001B[39m(rvalues, (np\u001B[38;5;241m.\u001B[39mndarray, ABCExtensionArray)):\n\u001B[0;32m    256\u001B[0m     \u001B[38;5;66;03m# TODO: make this treatment consistent across ops and classes.\u001B[39;00m\n\u001B[0;32m    257\u001B[0m     \u001B[38;5;66;03m#  We are not catching all listlikes here (e.g. frozenset, tuple)\u001B[39;00m\n\u001B[0;32m    258\u001B[0m     \u001B[38;5;66;03m#  The ambiguous case is object-dtype.  See GH#27803\u001B[39;00m\n\u001B[0;32m    259\u001B[0m     \u001B[38;5;28;01mif\u001B[39;00m \u001B[38;5;28mlen\u001B[39m(lvalues) \u001B[38;5;241m!=\u001B[39m \u001B[38;5;28mlen\u001B[39m(rvalues):\n\u001B[1;32m--> 260\u001B[0m         \u001B[38;5;28;01mraise\u001B[39;00m \u001B[38;5;167;01mValueError\u001B[39;00m(\n\u001B[0;32m    261\u001B[0m             \u001B[38;5;124m\"\u001B[39m\u001B[38;5;124mLengths must match to compare\u001B[39m\u001B[38;5;124m\"\u001B[39m, lvalues\u001B[38;5;241m.\u001B[39mshape, rvalues\u001B[38;5;241m.\u001B[39mshape\n\u001B[0;32m    262\u001B[0m         )\n\u001B[0;32m    264\u001B[0m \u001B[38;5;28;01mif\u001B[39;00m should_extension_dispatch(lvalues, rvalues) \u001B[38;5;129;01mor\u001B[39;00m (\n\u001B[0;32m    265\u001B[0m     (\u001B[38;5;28misinstance\u001B[39m(rvalues, (Timedelta, BaseOffset, Timestamp)) \u001B[38;5;129;01mor\u001B[39;00m right \u001B[38;5;129;01mis\u001B[39;00m NaT)\n\u001B[0;32m    266\u001B[0m     \u001B[38;5;129;01mand\u001B[39;00m \u001B[38;5;129;01mnot\u001B[39;00m is_object_dtype(lvalues\u001B[38;5;241m.\u001B[39mdtype)\n\u001B[0;32m    267\u001B[0m ):\n\u001B[0;32m    268\u001B[0m     \u001B[38;5;66;03m# Call the method on lvalues\u001B[39;00m\n\u001B[0;32m    269\u001B[0m     res_values \u001B[38;5;241m=\u001B[39m op(lvalues, rvalues)\n",
      "\u001B[1;31mValueError\u001B[0m: ('Lengths must match to compare', (33263633,), (266907,))"
     ]
    }
   ],
   "source": [
    "Users = checkins['Uid'].unique()\n",
    "print(len(Users))\n",
    "Ncheckins = np.zeros(len(Users))\n",
    "for user,i in zip(Users, range(len(Users))):\n",
    "    Ncheckins[i] = np.where(checkins['Uid'] == Users)"
   ],
   "metadata": {
    "collapsed": false,
    "pycharm": {
     "name": "#%%\n"
    }
   }
  },
  {
   "cell_type": "code",
   "execution_count": null,
   "outputs": [],
   "source": [
    "plt.hist(user_checkins_counts)\n",
    "plt.show()\n",
    "##user_checkins_counts.plot(kind='hist', x=user_checkins_counts, y=points_checkins_counts)"
   ],
   "metadata": {
    "collapsed": false,
    "pycharm": {
     "name": "#%%\n"
    }
   }
  },
  {
   "cell_type": "code",
   "execution_count": 61,
   "outputs": [],
   "source": [
    "def tabular_preview(checkins, n=15):\n",
    "    \"\"\"Creates a cross-tabular view of users vs movies.\"\"\"\n",
    "\n",
    "    user_groups = checkins.groupby('Uid')['Pid'].count()\n",
    "    top_users = user_groups.sort_values(ascending=False)[:15]\n",
    "\n",
    "    poi_groups = checkins.groupby('Pid')['Uid'].count()\n",
    "    top_pois = poi_groups.sort_values(ascending=False)[:15]\n",
    "\n",
    "    top = (\n",
    "        checkins.\n",
    "        join(top_users, rsuffix='_r', how='inner', on='Uid').\n",
    "        join(top_pois, rsuffix='_r', how='inner', on='Pid'))\n",
    "\n",
    "    plt.hist(top)\n",
    "    plt.show()"
   ],
   "metadata": {
    "collapsed": false,
    "pycharm": {
     "name": "#%%\n"
    }
   }
  },
  {
   "cell_type": "code",
   "execution_count": 62,
   "outputs": [
    {
     "ename": "ConversionError",
     "evalue": "Failed to convert value(s) to axis units: array(['4b684c69f964a5204f702be3', '4c25ea28905a0f4787466260',\n       '4c25ea28905a0f4787466260', '4c25ea28905a0f4787466260',\n       '4c25ea28905a0f4787466260', '4c25ea28905a0f4787466260',\n       '4b50966af964a520632827e3', '4b50966af964a520632827e3',\n       '4b49cb0ff964a520b67326e3', '4d8cce87cb9b224bb19c5d41',\n       '4be139c2c1732d7f797c5b9a', '4be139c2c1732d7f797c5b9a',\n       '4be139c2c1732d7f797c5b9a', '4be139c2c1732d7f797c5b9a',\n       '4be139c2c1732d7f797c5b9a', '4be139c2c1732d7f797c5b9a',\n       '4b8669acf964a5201a8931e3', '4b8669acf964a5201a8931e3',\n       '4b8669acf964a5201a8931e3', '4b8669acf964a5201a8931e3',\n       '4b8669acf964a5201a8931e3', '4b4f537ef964a5206d0127e3',\n       '4b19f917f964a520abe623e3', '4b19f917f964a520abe623e3',\n       '4b19f917f964a520abe623e3', '4b19f917f964a520abe623e3',\n       '4b19f917f964a520abe623e3', '4b19f917f964a520abe623e3',\n       '4b19f917f964a520abe623e3', '4b19f917f964a520abe623e3',\n       '4b19f917f964a520abe623e3', '4b19f917f964a520abe623e3',\n       '4b19f917f964a520abe623e3', '4b19f917f964a520abe623e3',\n       '4b19f917f964a520abe623e3', '4b19f917f964a520abe623e3',\n       '4b19f917f964a520abe623e3', '4b19f917f964a520abe623e3',\n       '4b19f917f964a520abe623e3', '4b19f917f964a520abe623e3',\n       '4b19f917f964a520abe623e3', '4b19f917f964a520abe623e3',\n       '4b19f917f964a520abe623e3', '4b19f917f964a520abe623e3',\n       '4b19f917f964a520abe623e3', '4b19f917f964a520abe623e3',\n       '4b19f917f964a520abe623e3', '4b19f917f964a520abe623e3',\n       '4b19f917f964a520abe623e3', '4b19f917f964a520abe623e3',\n       '4b19f917f964a520abe623e3', '4b19f917f964a520abe623e3',\n       '4b19f917f964a520abe623e3', '4b0587a6f964a5203d9e22e3',\n       '4b0587a6f964a5203d9e22e3', '4b0587a6f964a5203d9e22e3',\n       '4b0587a6f964a5203d9e22e3', '4b0587a6f964a5203d9e22e3',\n       '4b0587a6f964a5203d9e22e3', '4b0587a6f964a5203d9e22e3',\n       '4b0587a6f964a5203d9e22e3', '4b0587a6f964a5203d9e22e3',\n       '4b0587a6f964a5203d9e22e3', '4b243a7df964a520356424e3',\n       '4b243a7df964a520356424e3', '4b243a7df964a520356424e3',\n       '4b243a7df964a520356424e3', '4b243a7df964a520356424e3',\n       '4b243a7df964a520356424e3', '4b243a7df964a520356424e3',\n       '4b243a7df964a520356424e3', '4b243a7df964a520356424e3',\n       '4b243a7df964a520356424e3', '4b0587fdf964a52034ab22e3'],\n      dtype=object)",
     "output_type": "error",
     "traceback": [
      "\u001B[1;31m---------------------------------------------------------------------------\u001B[0m",
      "\u001B[1;31mValueError\u001B[0m                                Traceback (most recent call last)",
      "File \u001B[1;32m~\\Dropbox\\Mobility_project\\venv\\lib\\site-packages\\matplotlib\\axis.py:1506\u001B[0m, in \u001B[0;36mAxis.convert_units\u001B[1;34m(self, x)\u001B[0m\n\u001B[0;32m   1505\u001B[0m \u001B[38;5;28;01mtry\u001B[39;00m:\n\u001B[1;32m-> 1506\u001B[0m     ret \u001B[38;5;241m=\u001B[39m \u001B[38;5;28;43mself\u001B[39;49m\u001B[38;5;241;43m.\u001B[39;49m\u001B[43mconverter\u001B[49m\u001B[38;5;241;43m.\u001B[39;49m\u001B[43mconvert\u001B[49m\u001B[43m(\u001B[49m\u001B[43mx\u001B[49m\u001B[43m,\u001B[49m\u001B[43m \u001B[49m\u001B[38;5;28;43mself\u001B[39;49m\u001B[38;5;241;43m.\u001B[39;49m\u001B[43munits\u001B[49m\u001B[43m,\u001B[49m\u001B[43m \u001B[49m\u001B[38;5;28;43mself\u001B[39;49m\u001B[43m)\u001B[49m\n\u001B[0;32m   1507\u001B[0m \u001B[38;5;28;01mexcept\u001B[39;00m \u001B[38;5;167;01mException\u001B[39;00m \u001B[38;5;28;01mas\u001B[39;00m e:\n",
      "File \u001B[1;32m~\\Dropbox\\Mobility_project\\venv\\lib\\site-packages\\matplotlib\\category.py:49\u001B[0m, in \u001B[0;36mStrCategoryConverter.convert\u001B[1;34m(value, unit, axis)\u001B[0m\n\u001B[0;32m     48\u001B[0m \u001B[38;5;28;01mif\u001B[39;00m unit \u001B[38;5;129;01mis\u001B[39;00m \u001B[38;5;28;01mNone\u001B[39;00m:\n\u001B[1;32m---> 49\u001B[0m     \u001B[38;5;28;01mraise\u001B[39;00m \u001B[38;5;167;01mValueError\u001B[39;00m(\n\u001B[0;32m     50\u001B[0m         \u001B[38;5;124m'\u001B[39m\u001B[38;5;124mMissing category information for StrCategoryConverter; \u001B[39m\u001B[38;5;124m'\u001B[39m\n\u001B[0;32m     51\u001B[0m         \u001B[38;5;124m'\u001B[39m\u001B[38;5;124mthis might be caused by unintendedly mixing categorical and \u001B[39m\u001B[38;5;124m'\u001B[39m\n\u001B[0;32m     52\u001B[0m         \u001B[38;5;124m'\u001B[39m\u001B[38;5;124mnumeric data\u001B[39m\u001B[38;5;124m'\u001B[39m)\n\u001B[0;32m     53\u001B[0m StrCategoryConverter\u001B[38;5;241m.\u001B[39m_validate_unit(unit)\n",
      "\u001B[1;31mValueError\u001B[0m: Missing category information for StrCategoryConverter; this might be caused by unintendedly mixing categorical and numeric data",
      "\nThe above exception was the direct cause of the following exception:\n",
      "\u001B[1;31mConversionError\u001B[0m                           Traceback (most recent call last)",
      "Input \u001B[1;32mIn [62]\u001B[0m, in \u001B[0;36m<cell line: 1>\u001B[1;34m()\u001B[0m\n\u001B[1;32m----> 1\u001B[0m \u001B[43mtabular_preview\u001B[49m\u001B[43m(\u001B[49m\u001B[43mcheckins\u001B[49m\u001B[43m)\u001B[49m\n",
      "Input \u001B[1;32mIn [61]\u001B[0m, in \u001B[0;36mtabular_preview\u001B[1;34m(checkins, n)\u001B[0m\n\u001B[0;32m      8\u001B[0m top_pois \u001B[38;5;241m=\u001B[39m poi_groups\u001B[38;5;241m.\u001B[39msort_values(ascending\u001B[38;5;241m=\u001B[39m\u001B[38;5;28;01mFalse\u001B[39;00m)[:\u001B[38;5;241m15\u001B[39m]\n\u001B[0;32m     10\u001B[0m top \u001B[38;5;241m=\u001B[39m (\n\u001B[0;32m     11\u001B[0m     checkins\u001B[38;5;241m.\u001B[39m\n\u001B[0;32m     12\u001B[0m     join(top_users, rsuffix\u001B[38;5;241m=\u001B[39m\u001B[38;5;124m'\u001B[39m\u001B[38;5;124m_r\u001B[39m\u001B[38;5;124m'\u001B[39m, how\u001B[38;5;241m=\u001B[39m\u001B[38;5;124m'\u001B[39m\u001B[38;5;124minner\u001B[39m\u001B[38;5;124m'\u001B[39m, on\u001B[38;5;241m=\u001B[39m\u001B[38;5;124m'\u001B[39m\u001B[38;5;124mUid\u001B[39m\u001B[38;5;124m'\u001B[39m)\u001B[38;5;241m.\u001B[39m\n\u001B[0;32m     13\u001B[0m     join(top_pois, rsuffix\u001B[38;5;241m=\u001B[39m\u001B[38;5;124m'\u001B[39m\u001B[38;5;124m_r\u001B[39m\u001B[38;5;124m'\u001B[39m, how\u001B[38;5;241m=\u001B[39m\u001B[38;5;124m'\u001B[39m\u001B[38;5;124minner\u001B[39m\u001B[38;5;124m'\u001B[39m, on\u001B[38;5;241m=\u001B[39m\u001B[38;5;124m'\u001B[39m\u001B[38;5;124mPid\u001B[39m\u001B[38;5;124m'\u001B[39m))\n\u001B[1;32m---> 15\u001B[0m \u001B[43mplt\u001B[49m\u001B[38;5;241;43m.\u001B[39;49m\u001B[43mhist\u001B[49m\u001B[43m(\u001B[49m\u001B[43mtop\u001B[49m\u001B[43m)\u001B[49m\n\u001B[0;32m     16\u001B[0m plt\u001B[38;5;241m.\u001B[39mshow()\n",
      "File \u001B[1;32m~\\Dropbox\\Mobility_project\\venv\\lib\\site-packages\\matplotlib\\pyplot.py:2590\u001B[0m, in \u001B[0;36mhist\u001B[1;34m(x, bins, range, density, weights, cumulative, bottom, histtype, align, orientation, rwidth, log, color, label, stacked, data, **kwargs)\u001B[0m\n\u001B[0;32m   2584\u001B[0m \u001B[38;5;129m@_copy_docstring_and_deprecators\u001B[39m(Axes\u001B[38;5;241m.\u001B[39mhist)\n\u001B[0;32m   2585\u001B[0m \u001B[38;5;28;01mdef\u001B[39;00m \u001B[38;5;21mhist\u001B[39m(\n\u001B[0;32m   2586\u001B[0m         x, bins\u001B[38;5;241m=\u001B[39m\u001B[38;5;28;01mNone\u001B[39;00m, \u001B[38;5;28mrange\u001B[39m\u001B[38;5;241m=\u001B[39m\u001B[38;5;28;01mNone\u001B[39;00m, density\u001B[38;5;241m=\u001B[39m\u001B[38;5;28;01mFalse\u001B[39;00m, weights\u001B[38;5;241m=\u001B[39m\u001B[38;5;28;01mNone\u001B[39;00m,\n\u001B[0;32m   2587\u001B[0m         cumulative\u001B[38;5;241m=\u001B[39m\u001B[38;5;28;01mFalse\u001B[39;00m, bottom\u001B[38;5;241m=\u001B[39m\u001B[38;5;28;01mNone\u001B[39;00m, histtype\u001B[38;5;241m=\u001B[39m\u001B[38;5;124m'\u001B[39m\u001B[38;5;124mbar\u001B[39m\u001B[38;5;124m'\u001B[39m, align\u001B[38;5;241m=\u001B[39m\u001B[38;5;124m'\u001B[39m\u001B[38;5;124mmid\u001B[39m\u001B[38;5;124m'\u001B[39m,\n\u001B[0;32m   2588\u001B[0m         orientation\u001B[38;5;241m=\u001B[39m\u001B[38;5;124m'\u001B[39m\u001B[38;5;124mvertical\u001B[39m\u001B[38;5;124m'\u001B[39m, rwidth\u001B[38;5;241m=\u001B[39m\u001B[38;5;28;01mNone\u001B[39;00m, log\u001B[38;5;241m=\u001B[39m\u001B[38;5;28;01mFalse\u001B[39;00m, color\u001B[38;5;241m=\u001B[39m\u001B[38;5;28;01mNone\u001B[39;00m,\n\u001B[0;32m   2589\u001B[0m         label\u001B[38;5;241m=\u001B[39m\u001B[38;5;28;01mNone\u001B[39;00m, stacked\u001B[38;5;241m=\u001B[39m\u001B[38;5;28;01mFalse\u001B[39;00m, \u001B[38;5;241m*\u001B[39m, data\u001B[38;5;241m=\u001B[39m\u001B[38;5;28;01mNone\u001B[39;00m, \u001B[38;5;241m*\u001B[39m\u001B[38;5;241m*\u001B[39mkwargs):\n\u001B[1;32m-> 2590\u001B[0m     \u001B[38;5;28;01mreturn\u001B[39;00m gca()\u001B[38;5;241m.\u001B[39mhist(\n\u001B[0;32m   2591\u001B[0m         x, bins\u001B[38;5;241m=\u001B[39mbins, \u001B[38;5;28mrange\u001B[39m\u001B[38;5;241m=\u001B[39m\u001B[38;5;28mrange\u001B[39m, density\u001B[38;5;241m=\u001B[39mdensity, weights\u001B[38;5;241m=\u001B[39mweights,\n\u001B[0;32m   2592\u001B[0m         cumulative\u001B[38;5;241m=\u001B[39mcumulative, bottom\u001B[38;5;241m=\u001B[39mbottom, histtype\u001B[38;5;241m=\u001B[39mhisttype,\n\u001B[0;32m   2593\u001B[0m         align\u001B[38;5;241m=\u001B[39malign, orientation\u001B[38;5;241m=\u001B[39morientation, rwidth\u001B[38;5;241m=\u001B[39mrwidth, log\u001B[38;5;241m=\u001B[39mlog,\n\u001B[0;32m   2594\u001B[0m         color\u001B[38;5;241m=\u001B[39mcolor, label\u001B[38;5;241m=\u001B[39mlabel, stacked\u001B[38;5;241m=\u001B[39mstacked,\n\u001B[0;32m   2595\u001B[0m         \u001B[38;5;241m*\u001B[39m\u001B[38;5;241m*\u001B[39m({\u001B[38;5;124m\"\u001B[39m\u001B[38;5;124mdata\u001B[39m\u001B[38;5;124m\"\u001B[39m: data} \u001B[38;5;28;01mif\u001B[39;00m data \u001B[38;5;129;01mis\u001B[39;00m \u001B[38;5;129;01mnot\u001B[39;00m \u001B[38;5;28;01mNone\u001B[39;00m \u001B[38;5;28;01melse\u001B[39;00m {}), \u001B[38;5;241m*\u001B[39m\u001B[38;5;241m*\u001B[39mkwargs)\n",
      "File \u001B[1;32m~\\Dropbox\\Mobility_project\\venv\\lib\\site-packages\\matplotlib\\__init__.py:1412\u001B[0m, in \u001B[0;36m_preprocess_data.<locals>.inner\u001B[1;34m(ax, data, *args, **kwargs)\u001B[0m\n\u001B[0;32m   1409\u001B[0m \u001B[38;5;129m@functools\u001B[39m\u001B[38;5;241m.\u001B[39mwraps(func)\n\u001B[0;32m   1410\u001B[0m \u001B[38;5;28;01mdef\u001B[39;00m \u001B[38;5;21minner\u001B[39m(ax, \u001B[38;5;241m*\u001B[39margs, data\u001B[38;5;241m=\u001B[39m\u001B[38;5;28;01mNone\u001B[39;00m, \u001B[38;5;241m*\u001B[39m\u001B[38;5;241m*\u001B[39mkwargs):\n\u001B[0;32m   1411\u001B[0m     \u001B[38;5;28;01mif\u001B[39;00m data \u001B[38;5;129;01mis\u001B[39;00m \u001B[38;5;28;01mNone\u001B[39;00m:\n\u001B[1;32m-> 1412\u001B[0m         \u001B[38;5;28;01mreturn\u001B[39;00m func(ax, \u001B[38;5;241m*\u001B[39m\u001B[38;5;28mmap\u001B[39m(sanitize_sequence, args), \u001B[38;5;241m*\u001B[39m\u001B[38;5;241m*\u001B[39mkwargs)\n\u001B[0;32m   1414\u001B[0m     bound \u001B[38;5;241m=\u001B[39m new_sig\u001B[38;5;241m.\u001B[39mbind(ax, \u001B[38;5;241m*\u001B[39margs, \u001B[38;5;241m*\u001B[39m\u001B[38;5;241m*\u001B[39mkwargs)\n\u001B[0;32m   1415\u001B[0m     auto_label \u001B[38;5;241m=\u001B[39m (bound\u001B[38;5;241m.\u001B[39marguments\u001B[38;5;241m.\u001B[39mget(label_namer)\n\u001B[0;32m   1416\u001B[0m                   \u001B[38;5;129;01mor\u001B[39;00m bound\u001B[38;5;241m.\u001B[39mkwargs\u001B[38;5;241m.\u001B[39mget(label_namer))\n",
      "File \u001B[1;32m~\\Dropbox\\Mobility_project\\venv\\lib\\site-packages\\matplotlib\\axes\\_axes.py:6560\u001B[0m, in \u001B[0;36mAxes.hist\u001B[1;34m(self, x, bins, range, density, weights, cumulative, bottom, histtype, align, orientation, rwidth, log, color, label, stacked, **kwargs)\u001B[0m\n\u001B[0;32m   6558\u001B[0m \u001B[38;5;28;01mif\u001B[39;00m orientation \u001B[38;5;241m==\u001B[39m \u001B[38;5;124m\"\u001B[39m\u001B[38;5;124mvertical\u001B[39m\u001B[38;5;124m\"\u001B[39m:\n\u001B[0;32m   6559\u001B[0m     convert_units \u001B[38;5;241m=\u001B[39m \u001B[38;5;28mself\u001B[39m\u001B[38;5;241m.\u001B[39mconvert_xunits\n\u001B[1;32m-> 6560\u001B[0m     x \u001B[38;5;241m=\u001B[39m [\u001B[38;5;241m*\u001B[39m\u001B[38;5;28mself\u001B[39m\u001B[38;5;241m.\u001B[39m_process_unit_info([(\u001B[38;5;124m\"\u001B[39m\u001B[38;5;124mx\u001B[39m\u001B[38;5;124m\"\u001B[39m, x[\u001B[38;5;241m0\u001B[39m])], kwargs),\n\u001B[0;32m   6561\u001B[0m          \u001B[38;5;241m*\u001B[39m\u001B[38;5;28mmap\u001B[39m(convert_units, x[\u001B[38;5;241m1\u001B[39m:])]\n\u001B[0;32m   6562\u001B[0m \u001B[38;5;28;01melse\u001B[39;00m:  \u001B[38;5;66;03m# horizontal\u001B[39;00m\n\u001B[0;32m   6563\u001B[0m     convert_units \u001B[38;5;241m=\u001B[39m \u001B[38;5;28mself\u001B[39m\u001B[38;5;241m.\u001B[39mconvert_yunits\n",
      "File \u001B[1;32m~\\Dropbox\\Mobility_project\\venv\\lib\\site-packages\\matplotlib\\artist.py:252\u001B[0m, in \u001B[0;36mArtist.convert_xunits\u001B[1;34m(self, x)\u001B[0m\n\u001B[0;32m    250\u001B[0m \u001B[38;5;28;01mif\u001B[39;00m ax \u001B[38;5;129;01mis\u001B[39;00m \u001B[38;5;28;01mNone\u001B[39;00m \u001B[38;5;129;01mor\u001B[39;00m ax\u001B[38;5;241m.\u001B[39mxaxis \u001B[38;5;129;01mis\u001B[39;00m \u001B[38;5;28;01mNone\u001B[39;00m:\n\u001B[0;32m    251\u001B[0m     \u001B[38;5;28;01mreturn\u001B[39;00m x\n\u001B[1;32m--> 252\u001B[0m \u001B[38;5;28;01mreturn\u001B[39;00m \u001B[43max\u001B[49m\u001B[38;5;241;43m.\u001B[39;49m\u001B[43mxaxis\u001B[49m\u001B[38;5;241;43m.\u001B[39;49m\u001B[43mconvert_units\u001B[49m\u001B[43m(\u001B[49m\u001B[43mx\u001B[49m\u001B[43m)\u001B[49m\n",
      "File \u001B[1;32m~\\Dropbox\\Mobility_project\\venv\\lib\\site-packages\\matplotlib\\axis.py:1508\u001B[0m, in \u001B[0;36mAxis.convert_units\u001B[1;34m(self, x)\u001B[0m\n\u001B[0;32m   1506\u001B[0m     ret \u001B[38;5;241m=\u001B[39m \u001B[38;5;28mself\u001B[39m\u001B[38;5;241m.\u001B[39mconverter\u001B[38;5;241m.\u001B[39mconvert(x, \u001B[38;5;28mself\u001B[39m\u001B[38;5;241m.\u001B[39munits, \u001B[38;5;28mself\u001B[39m)\n\u001B[0;32m   1507\u001B[0m \u001B[38;5;28;01mexcept\u001B[39;00m \u001B[38;5;167;01mException\u001B[39;00m \u001B[38;5;28;01mas\u001B[39;00m e:\n\u001B[1;32m-> 1508\u001B[0m     \u001B[38;5;28;01mraise\u001B[39;00m munits\u001B[38;5;241m.\u001B[39mConversionError(\u001B[38;5;124m'\u001B[39m\u001B[38;5;124mFailed to convert value(s) to axis \u001B[39m\u001B[38;5;124m'\u001B[39m\n\u001B[0;32m   1509\u001B[0m                                  \u001B[38;5;124mf\u001B[39m\u001B[38;5;124m'\u001B[39m\u001B[38;5;124munits: \u001B[39m\u001B[38;5;132;01m{\u001B[39;00mx\u001B[38;5;132;01m!r}\u001B[39;00m\u001B[38;5;124m'\u001B[39m) \u001B[38;5;28;01mfrom\u001B[39;00m \u001B[38;5;21;01me\u001B[39;00m\n\u001B[0;32m   1510\u001B[0m \u001B[38;5;28;01mreturn\u001B[39;00m ret\n",
      "\u001B[1;31mConversionError\u001B[0m: Failed to convert value(s) to axis units: array(['4b684c69f964a5204f702be3', '4c25ea28905a0f4787466260',\n       '4c25ea28905a0f4787466260', '4c25ea28905a0f4787466260',\n       '4c25ea28905a0f4787466260', '4c25ea28905a0f4787466260',\n       '4b50966af964a520632827e3', '4b50966af964a520632827e3',\n       '4b49cb0ff964a520b67326e3', '4d8cce87cb9b224bb19c5d41',\n       '4be139c2c1732d7f797c5b9a', '4be139c2c1732d7f797c5b9a',\n       '4be139c2c1732d7f797c5b9a', '4be139c2c1732d7f797c5b9a',\n       '4be139c2c1732d7f797c5b9a', '4be139c2c1732d7f797c5b9a',\n       '4b8669acf964a5201a8931e3', '4b8669acf964a5201a8931e3',\n       '4b8669acf964a5201a8931e3', '4b8669acf964a5201a8931e3',\n       '4b8669acf964a5201a8931e3', '4b4f537ef964a5206d0127e3',\n       '4b19f917f964a520abe623e3', '4b19f917f964a520abe623e3',\n       '4b19f917f964a520abe623e3', '4b19f917f964a520abe623e3',\n       '4b19f917f964a520abe623e3', '4b19f917f964a520abe623e3',\n       '4b19f917f964a520abe623e3', '4b19f917f964a520abe623e3',\n       '4b19f917f964a520abe623e3', '4b19f917f964a520abe623e3',\n       '4b19f917f964a520abe623e3', '4b19f917f964a520abe623e3',\n       '4b19f917f964a520abe623e3', '4b19f917f964a520abe623e3',\n       '4b19f917f964a520abe623e3', '4b19f917f964a520abe623e3',\n       '4b19f917f964a520abe623e3', '4b19f917f964a520abe623e3',\n       '4b19f917f964a520abe623e3', '4b19f917f964a520abe623e3',\n       '4b19f917f964a520abe623e3', '4b19f917f964a520abe623e3',\n       '4b19f917f964a520abe623e3', '4b19f917f964a520abe623e3',\n       '4b19f917f964a520abe623e3', '4b19f917f964a520abe623e3',\n       '4b19f917f964a520abe623e3', '4b19f917f964a520abe623e3',\n       '4b19f917f964a520abe623e3', '4b19f917f964a520abe623e3',\n       '4b19f917f964a520abe623e3', '4b0587a6f964a5203d9e22e3',\n       '4b0587a6f964a5203d9e22e3', '4b0587a6f964a5203d9e22e3',\n       '4b0587a6f964a5203d9e22e3', '4b0587a6f964a5203d9e22e3',\n       '4b0587a6f964a5203d9e22e3', '4b0587a6f964a5203d9e22e3',\n       '4b0587a6f964a5203d9e22e3', '4b0587a6f964a5203d9e22e3',\n       '4b0587a6f964a5203d9e22e3', '4b243a7df964a520356424e3',\n       '4b243a7df964a520356424e3', '4b243a7df964a520356424e3',\n       '4b243a7df964a520356424e3', '4b243a7df964a520356424e3',\n       '4b243a7df964a520356424e3', '4b243a7df964a520356424e3',\n       '4b243a7df964a520356424e3', '4b243a7df964a520356424e3',\n       '4b243a7df964a520356424e3', '4b0587fdf964a52034ab22e3'],\n      dtype=object)"
     ]
    },
    {
     "data": {
      "text/plain": "<Figure size 432x288 with 1 Axes>",
      "image/png": "[encoded data removed]"
     },
     "metadata": {
      "needs_background": "light"
     },
     "output_type": "display_data"
    }
   ],
   "source": [
    "tabular_preview(checkins)\n"
   ],
   "metadata": {
    "collapsed": false,
    "pycharm": {
     "name": "#%%\n"
    }
   }
  }
 ],
 "metadata": {
  "kernelspec": {
   "display_name": "Python 3",
   "language": "python",
   "name": "python3"
  },
  "language_info": {
   "codemirror_mode": {
    "name": "ipython",
    "version": 2
   },
   "file_extension": ".py",
   "mimetype": "text/x-python",
   "name": "python",
   "nbconvert_exporter": "python",
   "pygments_lexer": "ipython2",
   "version": "2.7.6"
  }
 },
 "nbformat": 4,
 "nbformat_minor": 0
}