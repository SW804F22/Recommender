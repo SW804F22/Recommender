{
 "cells": [
  {
   "cell_type": "code",
   "execution_count": 79,
   "outputs": [],
   "source": [
    "from pathlib import Path\n",
    "import matplotlib.pyplot as plt\n",
    "import pandas as pd\n",
    "import numpy as np\n",
    "import scipy as sp\n",
    "from implicit.als import AlternatingLeastSquares\n",
    "import scipy.sparse as sparse\n"
   ],
   "metadata": {
    "collapsed": false,
    "pycharm": {
     "name": "#%%\n"
    }
   }
  },
  {
   "cell_type": "code",
   "execution_count": 43,
   "outputs": [],
   "source": [
    "read_file = pd.read_csv (r'C:\\Users\\Johan\\Downloads\\dataset_TIST2015\\dataset_TIST2015_POIs.txt', names=[\"Pid\", \"Latitude\", \"Longitude\", \"Category\", \"Country\"], sep='\\t')\n",
    "read_file.to_csv (r'C:\\Users\\Johan\\Documents\\POI_dataset\\TIST2015_POIs.csv', index=None)"
   ],
   "metadata": {
    "collapsed": false,
    "pycharm": {
     "name": "#%%\n"
    }
   }
  },
  {
   "cell_type": "code",
   "execution_count": null,
   "outputs": [],
   "source": [
    "read_file = pd.read_csv (r'C:\\Users\\Johan\\Downloads\\dataset_TIST2015\\dataset_TIST2015_Checkins.txt', names=[\"Uid\",\"Pid\",\"Timestamp\", \"TimezoneOffset\"], sep='\\t')\n",
    "read_file.to_csv (r'C:\\Users\\Johan\\Documents\\POI_dataset\\TIST2015_Checkins.csv', index=None)"
   ],
   "metadata": {
    "collapsed": false,
    "pycharm": {
     "name": "#%%\n"
    }
   }
  },
  {
   "cell_type": "code",
   "execution_count": 44,
   "outputs": [],
   "source": [
    "def read_data(path):\n",
    "    files = {}\n",
    "    for filename in path.glob('*'):\n",
    "        if filename.suffix == '.csv':\n",
    "            files[filename.stem] = pd.read_csv(filename)\n",
    "        elif filename.suffix == '.txt':\n",
    "            if filename.stem == \"TIST2015_POIs\":\n",
    "                columns = [\"Pid\", \"Latitude\", \"Longtitude\", \"Category\", \"Country\"]\n",
    "            elif filename.stem == \"TIST2015_POIs_Checkins\":\n",
    "                columns = [\"Uid\",\"Pid\",\"Timestamp\", \"TimezoneOffset\"]\n",
    "            else:\n",
    "                continue\n",
    "            data = pd.read_csv(filename, names=columns, engine='python')\n",
    "            files[filename.stem] = data\n",
    "\n",
    "    return files['TIST2015_POIs'], files['TIST2015_Checkins']"
   ],
   "metadata": {
    "collapsed": false,
    "pycharm": {
     "name": "#%%\n"
    }
   }
  },
  {
   "cell_type": "code",
   "execution_count": 132,
   "outputs": [
    {
     "ename": "ParserError",
     "evalue": "Error tokenizing data. C error: Calling read(nbytes) on source failed. Try engine='python'.",
     "output_type": "error",
     "traceback": [
      "\u001B[1;31m---------------------------------------------------------------------------\u001B[0m",
      "\u001B[1;31mParserError\u001B[0m                               Traceback (most recent call last)",
      "\u001B[1;32m~\\AppData\\Local\\Temp/ipykernel_14796/2139701487.py\u001B[0m in \u001B[0;36m<module>\u001B[1;34m\u001B[0m\n\u001B[0;32m      1\u001B[0m \u001B[1;31m# pick one of the available folders\u001B[0m\u001B[1;33m\u001B[0m\u001B[1;33m\u001B[0m\u001B[0m\n\u001B[1;32m----> 2\u001B[1;33m \u001B[0mpois\u001B[0m\u001B[1;33m,\u001B[0m \u001B[0mcheckins\u001B[0m \u001B[1;33m=\u001B[0m \u001B[0mread_data\u001B[0m\u001B[1;33m(\u001B[0m\u001B[0mPath\u001B[0m\u001B[1;33m(\u001B[0m\u001B[1;34mr'C:\\Users\\Johan\\Documents\\POI_dataset'\u001B[0m\u001B[1;33m)\u001B[0m\u001B[1;33m)\u001B[0m\u001B[1;33m\u001B[0m\u001B[1;33m\u001B[0m\u001B[0m\n\u001B[0m\u001B[0;32m      3\u001B[0m \u001B[1;33m\u001B[0m\u001B[0m\n",
      "\u001B[1;32m~\\AppData\\Local\\Temp/ipykernel_14796/3002296045.py\u001B[0m in \u001B[0;36mread_data\u001B[1;34m(path)\u001B[0m\n\u001B[0;32m      3\u001B[0m     \u001B[1;32mfor\u001B[0m \u001B[0mfilename\u001B[0m \u001B[1;32min\u001B[0m \u001B[0mpath\u001B[0m\u001B[1;33m.\u001B[0m\u001B[0mglob\u001B[0m\u001B[1;33m(\u001B[0m\u001B[1;34m'*'\u001B[0m\u001B[1;33m)\u001B[0m\u001B[1;33m:\u001B[0m\u001B[1;33m\u001B[0m\u001B[1;33m\u001B[0m\u001B[0m\n\u001B[0;32m      4\u001B[0m         \u001B[1;32mif\u001B[0m \u001B[0mfilename\u001B[0m\u001B[1;33m.\u001B[0m\u001B[0msuffix\u001B[0m \u001B[1;33m==\u001B[0m \u001B[1;34m'.csv'\u001B[0m\u001B[1;33m:\u001B[0m\u001B[1;33m\u001B[0m\u001B[1;33m\u001B[0m\u001B[0m\n\u001B[1;32m----> 5\u001B[1;33m             \u001B[0mfiles\u001B[0m\u001B[1;33m[\u001B[0m\u001B[0mfilename\u001B[0m\u001B[1;33m.\u001B[0m\u001B[0mstem\u001B[0m\u001B[1;33m]\u001B[0m \u001B[1;33m=\u001B[0m \u001B[0mpd\u001B[0m\u001B[1;33m.\u001B[0m\u001B[0mread_csv\u001B[0m\u001B[1;33m(\u001B[0m\u001B[0mfilename\u001B[0m\u001B[1;33m)\u001B[0m\u001B[1;33m\u001B[0m\u001B[1;33m\u001B[0m\u001B[0m\n\u001B[0m\u001B[0;32m      6\u001B[0m         \u001B[1;32melif\u001B[0m \u001B[0mfilename\u001B[0m\u001B[1;33m.\u001B[0m\u001B[0msuffix\u001B[0m \u001B[1;33m==\u001B[0m \u001B[1;34m'.txt'\u001B[0m\u001B[1;33m:\u001B[0m\u001B[1;33m\u001B[0m\u001B[1;33m\u001B[0m\u001B[0m\n\u001B[0;32m      7\u001B[0m             \u001B[1;32mif\u001B[0m \u001B[0mfilename\u001B[0m\u001B[1;33m.\u001B[0m\u001B[0mstem\u001B[0m \u001B[1;33m==\u001B[0m \u001B[1;34m\"TIST2015_POIs\"\u001B[0m\u001B[1;33m:\u001B[0m\u001B[1;33m\u001B[0m\u001B[1;33m\u001B[0m\u001B[0m\n",
      "\u001B[1;32m~\\AppData\\Local\\Programs\\Python\\Python39\\lib\\site-packages\\pandas\\util\\_decorators.py\u001B[0m in \u001B[0;36mwrapper\u001B[1;34m(*args, **kwargs)\u001B[0m\n\u001B[0;32m    309\u001B[0m                     \u001B[0mstacklevel\u001B[0m\u001B[1;33m=\u001B[0m\u001B[0mstacklevel\u001B[0m\u001B[1;33m,\u001B[0m\u001B[1;33m\u001B[0m\u001B[1;33m\u001B[0m\u001B[0m\n\u001B[0;32m    310\u001B[0m                 )\n\u001B[1;32m--> 311\u001B[1;33m             \u001B[1;32mreturn\u001B[0m \u001B[0mfunc\u001B[0m\u001B[1;33m(\u001B[0m\u001B[1;33m*\u001B[0m\u001B[0margs\u001B[0m\u001B[1;33m,\u001B[0m \u001B[1;33m**\u001B[0m\u001B[0mkwargs\u001B[0m\u001B[1;33m)\u001B[0m\u001B[1;33m\u001B[0m\u001B[1;33m\u001B[0m\u001B[0m\n\u001B[0m\u001B[0;32m    312\u001B[0m \u001B[1;33m\u001B[0m\u001B[0m\n\u001B[0;32m    313\u001B[0m         \u001B[1;32mreturn\u001B[0m \u001B[0mwrapper\u001B[0m\u001B[1;33m\u001B[0m\u001B[1;33m\u001B[0m\u001B[0m\n",
      "\u001B[1;32m~\\AppData\\Local\\Programs\\Python\\Python39\\lib\\site-packages\\pandas\\io\\parsers\\readers.py\u001B[0m in \u001B[0;36mread_csv\u001B[1;34m(filepath_or_buffer, sep, delimiter, header, names, index_col, usecols, squeeze, prefix, mangle_dupe_cols, dtype, engine, converters, true_values, false_values, skipinitialspace, skiprows, skipfooter, nrows, na_values, keep_default_na, na_filter, verbose, skip_blank_lines, parse_dates, infer_datetime_format, keep_date_col, date_parser, dayfirst, cache_dates, iterator, chunksize, compression, thousands, decimal, lineterminator, quotechar, quoting, doublequote, escapechar, comment, encoding, encoding_errors, dialect, error_bad_lines, warn_bad_lines, on_bad_lines, delim_whitespace, low_memory, memory_map, float_precision, storage_options)\u001B[0m\n\u001B[0;32m    584\u001B[0m     \u001B[0mkwds\u001B[0m\u001B[1;33m.\u001B[0m\u001B[0mupdate\u001B[0m\u001B[1;33m(\u001B[0m\u001B[0mkwds_defaults\u001B[0m\u001B[1;33m)\u001B[0m\u001B[1;33m\u001B[0m\u001B[1;33m\u001B[0m\u001B[0m\n\u001B[0;32m    585\u001B[0m \u001B[1;33m\u001B[0m\u001B[0m\n\u001B[1;32m--> 586\u001B[1;33m     \u001B[1;32mreturn\u001B[0m \u001B[0m_read\u001B[0m\u001B[1;33m(\u001B[0m\u001B[0mfilepath_or_buffer\u001B[0m\u001B[1;33m,\u001B[0m \u001B[0mkwds\u001B[0m\u001B[1;33m)\u001B[0m\u001B[1;33m\u001B[0m\u001B[1;33m\u001B[0m\u001B[0m\n\u001B[0m\u001B[0;32m    587\u001B[0m \u001B[1;33m\u001B[0m\u001B[0m\n\u001B[0;32m    588\u001B[0m \u001B[1;33m\u001B[0m\u001B[0m\n",
      "\u001B[1;32m~\\AppData\\Local\\Programs\\Python\\Python39\\lib\\site-packages\\pandas\\io\\parsers\\readers.py\u001B[0m in \u001B[0;36m_read\u001B[1;34m(filepath_or_buffer, kwds)\u001B[0m\n\u001B[0;32m    486\u001B[0m \u001B[1;33m\u001B[0m\u001B[0m\n\u001B[0;32m    487\u001B[0m     \u001B[1;32mwith\u001B[0m \u001B[0mparser\u001B[0m\u001B[1;33m:\u001B[0m\u001B[1;33m\u001B[0m\u001B[1;33m\u001B[0m\u001B[0m\n\u001B[1;32m--> 488\u001B[1;33m         \u001B[1;32mreturn\u001B[0m \u001B[0mparser\u001B[0m\u001B[1;33m.\u001B[0m\u001B[0mread\u001B[0m\u001B[1;33m(\u001B[0m\u001B[0mnrows\u001B[0m\u001B[1;33m)\u001B[0m\u001B[1;33m\u001B[0m\u001B[1;33m\u001B[0m\u001B[0m\n\u001B[0m\u001B[0;32m    489\u001B[0m \u001B[1;33m\u001B[0m\u001B[0m\n\u001B[0;32m    490\u001B[0m \u001B[1;33m\u001B[0m\u001B[0m\n",
      "\u001B[1;32m~\\AppData\\Local\\Programs\\Python\\Python39\\lib\\site-packages\\pandas\\io\\parsers\\readers.py\u001B[0m in \u001B[0;36mread\u001B[1;34m(self, nrows)\u001B[0m\n\u001B[0;32m   1045\u001B[0m     \u001B[1;32mdef\u001B[0m \u001B[0mread\u001B[0m\u001B[1;33m(\u001B[0m\u001B[0mself\u001B[0m\u001B[1;33m,\u001B[0m \u001B[0mnrows\u001B[0m\u001B[1;33m=\u001B[0m\u001B[1;32mNone\u001B[0m\u001B[1;33m)\u001B[0m\u001B[1;33m:\u001B[0m\u001B[1;33m\u001B[0m\u001B[1;33m\u001B[0m\u001B[0m\n\u001B[0;32m   1046\u001B[0m         \u001B[0mnrows\u001B[0m \u001B[1;33m=\u001B[0m \u001B[0mvalidate_integer\u001B[0m\u001B[1;33m(\u001B[0m\u001B[1;34m\"nrows\"\u001B[0m\u001B[1;33m,\u001B[0m \u001B[0mnrows\u001B[0m\u001B[1;33m)\u001B[0m\u001B[1;33m\u001B[0m\u001B[1;33m\u001B[0m\u001B[0m\n\u001B[1;32m-> 1047\u001B[1;33m         \u001B[0mindex\u001B[0m\u001B[1;33m,\u001B[0m \u001B[0mcolumns\u001B[0m\u001B[1;33m,\u001B[0m \u001B[0mcol_dict\u001B[0m \u001B[1;33m=\u001B[0m \u001B[0mself\u001B[0m\u001B[1;33m.\u001B[0m\u001B[0m_engine\u001B[0m\u001B[1;33m.\u001B[0m\u001B[0mread\u001B[0m\u001B[1;33m(\u001B[0m\u001B[0mnrows\u001B[0m\u001B[1;33m)\u001B[0m\u001B[1;33m\u001B[0m\u001B[1;33m\u001B[0m\u001B[0m\n\u001B[0m\u001B[0;32m   1048\u001B[0m \u001B[1;33m\u001B[0m\u001B[0m\n\u001B[0;32m   1049\u001B[0m         \u001B[1;32mif\u001B[0m \u001B[0mindex\u001B[0m \u001B[1;32mis\u001B[0m \u001B[1;32mNone\u001B[0m\u001B[1;33m:\u001B[0m\u001B[1;33m\u001B[0m\u001B[1;33m\u001B[0m\u001B[0m\n",
      "\u001B[1;32m~\\AppData\\Local\\Programs\\Python\\Python39\\lib\\site-packages\\pandas\\io\\parsers\\c_parser_wrapper.py\u001B[0m in \u001B[0;36mread\u001B[1;34m(self, nrows)\u001B[0m\n\u001B[0;32m    221\u001B[0m         \u001B[1;32mtry\u001B[0m\u001B[1;33m:\u001B[0m\u001B[1;33m\u001B[0m\u001B[1;33m\u001B[0m\u001B[0m\n\u001B[0;32m    222\u001B[0m             \u001B[1;32mif\u001B[0m \u001B[0mself\u001B[0m\u001B[1;33m.\u001B[0m\u001B[0mlow_memory\u001B[0m\u001B[1;33m:\u001B[0m\u001B[1;33m\u001B[0m\u001B[1;33m\u001B[0m\u001B[0m\n\u001B[1;32m--> 223\u001B[1;33m                 \u001B[0mchunks\u001B[0m \u001B[1;33m=\u001B[0m \u001B[0mself\u001B[0m\u001B[1;33m.\u001B[0m\u001B[0m_reader\u001B[0m\u001B[1;33m.\u001B[0m\u001B[0mread_low_memory\u001B[0m\u001B[1;33m(\u001B[0m\u001B[0mnrows\u001B[0m\u001B[1;33m)\u001B[0m\u001B[1;33m\u001B[0m\u001B[1;33m\u001B[0m\u001B[0m\n\u001B[0m\u001B[0;32m    224\u001B[0m                 \u001B[1;31m# destructive to chunks\u001B[0m\u001B[1;33m\u001B[0m\u001B[1;33m\u001B[0m\u001B[0m\n\u001B[0;32m    225\u001B[0m                 \u001B[0mdata\u001B[0m \u001B[1;33m=\u001B[0m \u001B[0m_concatenate_chunks\u001B[0m\u001B[1;33m(\u001B[0m\u001B[0mchunks\u001B[0m\u001B[1;33m)\u001B[0m\u001B[1;33m\u001B[0m\u001B[1;33m\u001B[0m\u001B[0m\n",
      "\u001B[1;32m~\\AppData\\Local\\Programs\\Python\\Python39\\lib\\site-packages\\pandas\\_libs\\parsers.pyx\u001B[0m in \u001B[0;36mpandas._libs.parsers.TextReader.read_low_memory\u001B[1;34m()\u001B[0m\n",
      "\u001B[1;32m~\\AppData\\Local\\Programs\\Python\\Python39\\lib\\site-packages\\pandas\\_libs\\parsers.pyx\u001B[0m in \u001B[0;36mpandas._libs.parsers.TextReader._read_rows\u001B[1;34m()\u001B[0m\n",
      "\u001B[1;32m~\\AppData\\Local\\Programs\\Python\\Python39\\lib\\site-packages\\pandas\\_libs\\parsers.pyx\u001B[0m in \u001B[0;36mpandas._libs.parsers.TextReader._tokenize_rows\u001B[1;34m()\u001B[0m\n",
      "\u001B[1;32m~\\AppData\\Local\\Programs\\Python\\Python39\\lib\\site-packages\\pandas\\_libs\\parsers.pyx\u001B[0m in \u001B[0;36mpandas._libs.parsers.raise_parser_error\u001B[1;34m()\u001B[0m\n",
      "\u001B[1;31mParserError\u001B[0m: Error tokenizing data. C error: Calling read(nbytes) on source failed. Try engine='python'."
     ]
    }
   ],
   "source": [
    "# pick one of the available folders\n",
    "pois, checkins = read_data(Path(r'C:\\Users\\Johan\\Documents\\POI_dataset'))"
   ],
   "metadata": {
    "collapsed": false,
    "pycharm": {
     "name": "#%%\n"
    }
   }
  },
  {
   "cell_type": "code",
   "execution_count": 131,
   "outputs": [
    {
     "data": {
      "text/plain": "                              Pid   Latitude   Longitude           Category  \\\n0        3fd66200f964a52000e71ee3  40.733596  -74.003139          Jazz Club   \n1        3fd66200f964a52000e81ee3  40.758102  -73.975734                Gym   \n2        3fd66200f964a52000ea1ee3  40.732456  -74.003755  Indian Restaurant   \n3        3fd66200f964a52000ec1ee3  42.345907  -71.087001  Indian Restaurant   \n4        3fd66200f964a52000ee1ee3  39.933178  -75.159262     Sandwich Place   \n...                           ...        ...         ...                ...   \n3680121  5237865c498e89110c1d03e7  40.154444   26.410847        Comedy Club   \n3680122  5237867411d2a1e910744c81  35.340099   33.309328     Home (private)   \n3680123  5237879111d216bab10e9e09  -1.404065  -48.453742     Home (private)   \n3680124  52378c24498ea9502baf2716   3.425155  -76.545010     Sandwich Place   \n3680125  5237920a11d2173b20b50d4b  -6.129426  106.650974              Plane   \n\n        Country                       pid  \n0            US  3fd66200f964a52019ec1ee3  \n1            US  3fd66200f964a52019ec1ee3  \n2            US  3fd66200f964a52019ec1ee3  \n3            US  3fd66200f964a52019ec1ee3  \n4            US  3fd66200f964a52019ec1ee3  \n...         ...                       ...  \n3680121      TR  3fd66200f964a52019ec1ee3  \n3680122      CY  3fd66200f964a52019ec1ee3  \n3680123      BR  3fd66200f964a52019ec1ee3  \n3680124      CO  3fd66200f964a52019ec1ee3  \n3680125      ID  3fd66200f964a52019ec1ee3  \n\n[3680126 rows x 6 columns]",
      "text/html": "<div>\n<style scoped>\n    .dataframe tbody tr th:only-of-type {\n        vertical-align: middle;\n    }\n\n    .dataframe tbody tr th {\n        vertical-align: top;\n    }\n\n    .dataframe thead th {\n        text-align: right;\n    }\n</style>\n<table border=\"1\" class=\"dataframe\">\n  <thead>\n    <tr style=\"text-align: right;\">\n      <th></th>\n      <th>Pid</th>\n      <th>Latitude</th>\n      <th>Longitude</th>\n      <th>Category</th>\n      <th>Country</th>\n      <th>pid</th>\n    </tr>\n  </thead>\n  <tbody>\n    <tr>\n      <th>0</th>\n      <td>3fd66200f964a52000e71ee3</td>\n      <td>40.733596</td>\n      <td>-74.003139</td>\n      <td>Jazz Club</td>\n      <td>US</td>\n      <td>3fd66200f964a52019ec1ee3</td>\n    </tr>\n    <tr>\n      <th>1</th>\n      <td>3fd66200f964a52000e81ee3</td>\n      <td>40.758102</td>\n      <td>-73.975734</td>\n      <td>Gym</td>\n      <td>US</td>\n      <td>3fd66200f964a52019ec1ee3</td>\n    </tr>\n    <tr>\n      <th>2</th>\n      <td>3fd66200f964a52000ea1ee3</td>\n      <td>40.732456</td>\n      <td>-74.003755</td>\n      <td>Indian Restaurant</td>\n      <td>US</td>\n      <td>3fd66200f964a52019ec1ee3</td>\n    </tr>\n    <tr>\n      <th>3</th>\n      <td>3fd66200f964a52000ec1ee3</td>\n      <td>42.345907</td>\n      <td>-71.087001</td>\n      <td>Indian Restaurant</td>\n      <td>US</td>\n      <td>3fd66200f964a52019ec1ee3</td>\n    </tr>\n    <tr>\n      <th>4</th>\n      <td>3fd66200f964a52000ee1ee3</td>\n      <td>39.933178</td>\n      <td>-75.159262</td>\n      <td>Sandwich Place</td>\n      <td>US</td>\n      <td>3fd66200f964a52019ec1ee3</td>\n    </tr>\n    <tr>\n      <th>...</th>\n      <td>...</td>\n      <td>...</td>\n      <td>...</td>\n      <td>...</td>\n      <td>...</td>\n      <td>...</td>\n    </tr>\n    <tr>\n      <th>3680121</th>\n      <td>5237865c498e89110c1d03e7</td>\n      <td>40.154444</td>\n      <td>26.410847</td>\n      <td>Comedy Club</td>\n      <td>TR</td>\n      <td>3fd66200f964a52019ec1ee3</td>\n    </tr>\n    <tr>\n      <th>3680122</th>\n      <td>5237867411d2a1e910744c81</td>\n      <td>35.340099</td>\n      <td>33.309328</td>\n      <td>Home (private)</td>\n      <td>CY</td>\n      <td>3fd66200f964a52019ec1ee3</td>\n    </tr>\n    <tr>\n      <th>3680123</th>\n      <td>5237879111d216bab10e9e09</td>\n      <td>-1.404065</td>\n      <td>-48.453742</td>\n      <td>Home (private)</td>\n      <td>BR</td>\n      <td>3fd66200f964a52019ec1ee3</td>\n    </tr>\n    <tr>\n      <th>3680124</th>\n      <td>52378c24498ea9502baf2716</td>\n      <td>3.425155</td>\n      <td>-76.545010</td>\n      <td>Sandwich Place</td>\n      <td>CO</td>\n      <td>3fd66200f964a52019ec1ee3</td>\n    </tr>\n    <tr>\n      <th>3680125</th>\n      <td>5237920a11d2173b20b50d4b</td>\n      <td>-6.129426</td>\n      <td>106.650974</td>\n      <td>Plane</td>\n      <td>ID</td>\n      <td>3fd66200f964a52019ec1ee3</td>\n    </tr>\n  </tbody>\n</table>\n<p>3680126 rows × 6 columns</p>\n</div>"
     },
     "execution_count": 131,
     "metadata": {},
     "output_type": "execute_result"
    }
   ],
   "source": [
    "pois"
   ],
   "metadata": {
    "collapsed": false,
    "pycharm": {
     "name": "#%%\n"
    }
   }
  },
  {
   "cell_type": "code",
   "execution_count": null,
   "outputs": [],
   "source": [
    "users_subset = user_checkins_counts['Uid'].unique()\n",
    "len(users_subset)\n",
    "checkins.sample(users_subset, 1000)\n",
    "##users_subset=checkins.loc[checkins['Uid'] <= 1000, 'Pid']\n",
    "##users_subset\n",
    "\n",
    "\n",
    "##checkins.head()"
   ],
   "metadata": {
    "collapsed": false,
    "pycharm": {
     "name": "#%%\n"
    }
   }
  },
  {
   "cell_type": "code",
   "execution_count": null,
   "outputs": [],
   "source": [
    "checkins[\"Uid\"].plot(kind='hist')\n"
   ],
   "metadata": {
    "collapsed": false,
    "pycharm": {
     "name": "#%%\n"
    }
   }
  },
  {
   "cell_type": "code",
   "execution_count": null,
   "outputs": [],
   "source": [
    "checkins.describe(include=object)"
   ],
   "metadata": {
    "collapsed": false,
    "pycharm": {
     "name": "#%%\n"
    }
   }
  },
  {
   "cell_type": "code",
   "execution_count": null,
   "outputs": [],
   "source": [
    "checkins[\"Uid\"].value_counts()\n"
   ],
   "metadata": {
    "collapsed": false,
    "pycharm": {
     "name": "#%%\n"
    }
   }
  },
  {
   "cell_type": "code",
   "execution_count": null,
   "outputs": [],
   "source": [
    "user_checkins_counts = checkins.groupby('Uid')['Pid'].count()"
   ],
   "metadata": {
    "collapsed": false,
    "pycharm": {
     "name": "#%%\n"
    }
   }
  },
  {
   "cell_type": "code",
   "execution_count": null,
   "outputs": [],
   "source": [],
   "metadata": {
    "collapsed": false,
    "pycharm": {
     "name": "#%%\n"
    }
   }
  },
  {
   "cell_type": "code",
   "execution_count": 46,
   "outputs": [],
   "source": [
    "# Create a subset of a dataset with size n users\n",
    "def create_checkin_subset(checkins_table, n):\n",
    "    subset = np.array([[0,0,0,0],[0,0,0,0]])\n",
    "    checkins_100_users = checkins_table['Uid'].sample(n=n, random_state=1)\n",
    "    for i in checkins_100_users:\n",
    "        subset = np.append(subset, np.asarray(checkins_table[checkins_table['Uid'] == i].values), 0)\n",
    "    return pd.DataFrame(subset[2::], columns=['Uid', 'Pid', 'Timestamp', 'TimezoneOffset'])"
   ],
   "metadata": {
    "collapsed": false,
    "pycharm": {
     "name": "#%%\n"
    }
   }
  },
  {
   "cell_type": "code",
   "execution_count": 83,
   "outputs": [],
   "source": [
    "# Initialize the subset method\n",
    "checkins_100_users = create_checkin_subset(checkins, 50)"
   ],
   "metadata": {
    "collapsed": false,
    "pycharm": {
     "name": "#%%\n"
    }
   }
  },
  {
   "cell_type": "code",
   "execution_count": null,
   "outputs": [],
   "source": [
    "read_file = pd.DataFrame(checkins_100_users)\n",
    "read_file.to_csv (r'C:\\Users\\Johan\\Documents\\POI_dataset\\TIST2015_Checkins_50.csv', index=None)"
   ],
   "metadata": {
    "collapsed": false,
    "pycharm": {
     "name": "#%%\n"
    }
   }
  },
  {
   "cell_type": "code",
   "execution_count": null,
   "outputs": [],
   "source": [],
   "metadata": {
    "collapsed": false,
    "pycharm": {
     "name": "#%%\n"
    }
   }
  },
  {
   "cell_type": "code",
   "execution_count": 84,
   "outputs": [
    {
     "data": {
      "text/plain": "          Uid                       Pid                       Timestamp  \\\n0       33634  4ef5d479f9ab2e6680a7fdda  Sun Feb 17 09:58:34 +0000 2013   \n1       33634  4e621c8d62e13e3bce7bb58d  Sun Feb 17 11:17:48 +0000 2013   \n2       33634  4cb0fb5af2dbef3b6aae79e5  Mon Feb 18 06:34:41 +0000 2013   \n3       33634  5110b08de4b0d12c384d4e0b  Mon Feb 18 06:38:31 +0000 2013   \n4       33634  4d446c883616b60c0435e4c2  Mon Feb 18 06:50:21 +0000 2013   \n...       ...                       ...                             ...   \n15092  147721  4fdca198e4b0598b20b0040e  Mon May 13 10:30:44 +0000 2013   \n15093  147721  50fa70f4e4b022d513e5ea45  Sun May 19 10:01:05 +0000 2013   \n15094  147721  4e76935dfa76059701857f95  Thu May 30 11:16:06 +0000 2013   \n15095  147721  512c9a39e4b0c161e0b39cc0  Wed Jun 26 07:45:26 +0000 2013   \n15096  147721  50d5505ee4b0feaa44176f75  Fri Jul 05 08:59:15 +0000 2013   \n\n      TimezoneOffset  \n0                120  \n1                120  \n2                120  \n3                120  \n4                120  \n...              ...  \n15092            420  \n15093            420  \n15094            420  \n15095            420  \n15096            420  \n\n[15097 rows x 4 columns]",
      "text/html": "<div>\n<style scoped>\n    .dataframe tbody tr th:only-of-type {\n        vertical-align: middle;\n    }\n\n    .dataframe tbody tr th {\n        vertical-align: top;\n    }\n\n    .dataframe thead th {\n        text-align: right;\n    }\n</style>\n<table border=\"1\" class=\"dataframe\">\n  <thead>\n    <tr style=\"text-align: right;\">\n      <th></th>\n      <th>Uid</th>\n      <th>Pid</th>\n      <th>Timestamp</th>\n      <th>TimezoneOffset</th>\n    </tr>\n  </thead>\n  <tbody>\n    <tr>\n      <th>0</th>\n      <td>33634</td>\n      <td>4ef5d479f9ab2e6680a7fdda</td>\n      <td>Sun Feb 17 09:58:34 +0000 2013</td>\n      <td>120</td>\n    </tr>\n    <tr>\n      <th>1</th>\n      <td>33634</td>\n      <td>4e621c8d62e13e3bce7bb58d</td>\n      <td>Sun Feb 17 11:17:48 +0000 2013</td>\n      <td>120</td>\n    </tr>\n    <tr>\n      <th>2</th>\n      <td>33634</td>\n      <td>4cb0fb5af2dbef3b6aae79e5</td>\n      <td>Mon Feb 18 06:34:41 +0000 2013</td>\n      <td>120</td>\n    </tr>\n    <tr>\n      <th>3</th>\n      <td>33634</td>\n      <td>5110b08de4b0d12c384d4e0b</td>\n      <td>Mon Feb 18 06:38:31 +0000 2013</td>\n      <td>120</td>\n    </tr>\n    <tr>\n      <th>4</th>\n      <td>33634</td>\n      <td>4d446c883616b60c0435e4c2</td>\n      <td>Mon Feb 18 06:50:21 +0000 2013</td>\n      <td>120</td>\n    </tr>\n    <tr>\n      <th>...</th>\n      <td>...</td>\n      <td>...</td>\n      <td>...</td>\n      <td>...</td>\n    </tr>\n    <tr>\n      <th>15092</th>\n      <td>147721</td>\n      <td>4fdca198e4b0598b20b0040e</td>\n      <td>Mon May 13 10:30:44 +0000 2013</td>\n      <td>420</td>\n    </tr>\n    <tr>\n      <th>15093</th>\n      <td>147721</td>\n      <td>50fa70f4e4b022d513e5ea45</td>\n      <td>Sun May 19 10:01:05 +0000 2013</td>\n      <td>420</td>\n    </tr>\n    <tr>\n      <th>15094</th>\n      <td>147721</td>\n      <td>4e76935dfa76059701857f95</td>\n      <td>Thu May 30 11:16:06 +0000 2013</td>\n      <td>420</td>\n    </tr>\n    <tr>\n      <th>15095</th>\n      <td>147721</td>\n      <td>512c9a39e4b0c161e0b39cc0</td>\n      <td>Wed Jun 26 07:45:26 +0000 2013</td>\n      <td>420</td>\n    </tr>\n    <tr>\n      <th>15096</th>\n      <td>147721</td>\n      <td>50d5505ee4b0feaa44176f75</td>\n      <td>Fri Jul 05 08:59:15 +0000 2013</td>\n      <td>420</td>\n    </tr>\n  </tbody>\n</table>\n<p>15097 rows × 4 columns</p>\n</div>"
     },
     "execution_count": 84,
     "metadata": {},
     "output_type": "execute_result"
    }
   ],
   "source": [
    "checkins_100_users\n",
    "##points_checkins_counts = checkins.groupby('Pid')['Uid'].count()"
   ],
   "metadata": {
    "collapsed": false,
    "pycharm": {
     "name": "#%%\n"
    }
   }
  },
  {
   "cell_type": "code",
   "execution_count": 86,
   "outputs": [
    {
     "ename": "TypeError",
     "evalue": "'str' object cannot be interpreted as an integer",
     "output_type": "error",
     "traceback": [
      "\u001B[1;31m---------------------------------------------------------------------------\u001B[0m",
      "\u001B[1;31mTypeError\u001B[0m                                 Traceback (most recent call last)",
      "\u001B[1;32m~\\AppData\\Local\\Temp/ipykernel_14796/2305949721.py\u001B[0m in \u001B[0;36m<module>\u001B[1;34m\u001B[0m\n\u001B[1;32m----> 1\u001B[1;33m \u001B[0msparse_item_user\u001B[0m \u001B[1;33m=\u001B[0m \u001B[0msparse\u001B[0m\u001B[1;33m.\u001B[0m\u001B[0mcsr_matrix\u001B[0m\u001B[1;33m(\u001B[0m\u001B[1;33m(\u001B[0m\u001B[0mcheckins_100_users\u001B[0m\u001B[1;33m[\u001B[0m\u001B[1;34m'TimezoneOffset'\u001B[0m\u001B[1;33m]\u001B[0m\u001B[1;33m,\u001B[0m \u001B[1;33m(\u001B[0m\u001B[0mcheckins_100_users\u001B[0m\u001B[1;33m[\u001B[0m\u001B[1;34m'Pid'\u001B[0m\u001B[1;33m]\u001B[0m\u001B[1;33m,\u001B[0m \u001B[0mcheckins_100_users\u001B[0m\u001B[1;33m[\u001B[0m\u001B[1;34m'Uid'\u001B[0m\u001B[1;33m]\u001B[0m\u001B[1;33m)\u001B[0m\u001B[1;33m)\u001B[0m\u001B[1;33m)\u001B[0m\u001B[1;33m\u001B[0m\u001B[1;33m\u001B[0m\u001B[0m\n\u001B[0m\u001B[0;32m      2\u001B[0m \u001B[0msparse_user_item\u001B[0m \u001B[1;33m=\u001B[0m \u001B[0msparse\u001B[0m\u001B[1;33m.\u001B[0m\u001B[0mcsr_matrix\u001B[0m\u001B[1;33m(\u001B[0m\u001B[1;33m(\u001B[0m\u001B[0mcheckins_100_users\u001B[0m\u001B[1;33m[\u001B[0m\u001B[1;34m'TimezoneOffset'\u001B[0m\u001B[1;33m]\u001B[0m\u001B[1;33m,\u001B[0m \u001B[1;33m(\u001B[0m\u001B[0mcheckins_100_users\u001B[0m\u001B[1;33m[\u001B[0m\u001B[1;34m'Uid'\u001B[0m\u001B[1;33m]\u001B[0m\u001B[1;33m,\u001B[0m \u001B[0mcheckins_100_users\u001B[0m\u001B[1;33m[\u001B[0m\u001B[1;34m'Pid'\u001B[0m\u001B[1;33m]\u001B[0m\u001B[1;33m)\u001B[0m\u001B[1;33m)\u001B[0m\u001B[1;33m)\u001B[0m\u001B[1;33m\u001B[0m\u001B[1;33m\u001B[0m\u001B[0m\n\u001B[0;32m      3\u001B[0m \u001B[1;33m\u001B[0m\u001B[0m\n",
      "\u001B[1;32m~\\AppData\\Local\\Programs\\Python\\Python39\\lib\\site-packages\\scipy\\sparse\\compressed.py\u001B[0m in \u001B[0;36m__init__\u001B[1;34m(self, arg1, shape, dtype, copy)\u001B[0m\n\u001B[0;32m     52\u001B[0m                     \u001B[1;31m# (data, ij) format\u001B[0m\u001B[1;33m\u001B[0m\u001B[1;33m\u001B[0m\u001B[0m\n\u001B[0;32m     53\u001B[0m                     \u001B[1;32mfrom\u001B[0m \u001B[1;33m.\u001B[0m\u001B[0mcoo\u001B[0m \u001B[1;32mimport\u001B[0m \u001B[0mcoo_matrix\u001B[0m\u001B[1;33m\u001B[0m\u001B[1;33m\u001B[0m\u001B[0m\n\u001B[1;32m---> 54\u001B[1;33m                     other = self.__class__(coo_matrix(arg1, shape=shape,\n\u001B[0m\u001B[0;32m     55\u001B[0m                                                       dtype=dtype))\n\u001B[0;32m     56\u001B[0m                     \u001B[0mself\u001B[0m\u001B[1;33m.\u001B[0m\u001B[0m_set_self\u001B[0m\u001B[1;33m(\u001B[0m\u001B[0mother\u001B[0m\u001B[1;33m)\u001B[0m\u001B[1;33m\u001B[0m\u001B[1;33m\u001B[0m\u001B[0m\n",
      "\u001B[1;32m~\\AppData\\Local\\Programs\\Python\\Python39\\lib\\site-packages\\scipy\\sparse\\coo.py\u001B[0m in \u001B[0;36m__init__\u001B[1;34m(self, arg1, shape, dtype, copy)\u001B[0m\n\u001B[0;32m    147\u001B[0m                         raise ValueError('cannot infer dimensions from zero '\n\u001B[0;32m    148\u001B[0m                                          'sized index arrays')\n\u001B[1;32m--> 149\u001B[1;33m                     \u001B[0mM\u001B[0m \u001B[1;33m=\u001B[0m \u001B[0moperator\u001B[0m\u001B[1;33m.\u001B[0m\u001B[0mindex\u001B[0m\u001B[1;33m(\u001B[0m\u001B[0mnp\u001B[0m\u001B[1;33m.\u001B[0m\u001B[0mmax\u001B[0m\u001B[1;33m(\u001B[0m\u001B[0mrow\u001B[0m\u001B[1;33m)\u001B[0m\u001B[1;33m)\u001B[0m \u001B[1;33m+\u001B[0m \u001B[1;36m1\u001B[0m\u001B[1;33m\u001B[0m\u001B[1;33m\u001B[0m\u001B[0m\n\u001B[0m\u001B[0;32m    150\u001B[0m                     \u001B[0mN\u001B[0m \u001B[1;33m=\u001B[0m \u001B[0moperator\u001B[0m\u001B[1;33m.\u001B[0m\u001B[0mindex\u001B[0m\u001B[1;33m(\u001B[0m\u001B[0mnp\u001B[0m\u001B[1;33m.\u001B[0m\u001B[0mmax\u001B[0m\u001B[1;33m(\u001B[0m\u001B[0mcol\u001B[0m\u001B[1;33m)\u001B[0m\u001B[1;33m)\u001B[0m \u001B[1;33m+\u001B[0m \u001B[1;36m1\u001B[0m\u001B[1;33m\u001B[0m\u001B[1;33m\u001B[0m\u001B[0m\n\u001B[0;32m    151\u001B[0m                     \u001B[0mself\u001B[0m\u001B[1;33m.\u001B[0m\u001B[0m_shape\u001B[0m \u001B[1;33m=\u001B[0m \u001B[0mcheck_shape\u001B[0m\u001B[1;33m(\u001B[0m\u001B[1;33m(\u001B[0m\u001B[0mM\u001B[0m\u001B[1;33m,\u001B[0m \u001B[0mN\u001B[0m\u001B[1;33m)\u001B[0m\u001B[1;33m)\u001B[0m\u001B[1;33m\u001B[0m\u001B[1;33m\u001B[0m\u001B[0m\n",
      "\u001B[1;31mTypeError\u001B[0m: 'str' object cannot be interpreted as an integer"
     ]
    }
   ],
   "source": [
    "sparse_item_user = sparse.csr_matrix((checkins_100_users['TimezoneOffset'], (checkins_100_users['Pid'], checkins_100_users['Uid'])))\n",
    "sparse_user_item = sparse.csr_matrix((checkins_100_users['TimezoneOffset'], (checkins_100_users['Uid'], checkins_100_users['Pid'])))"
   ],
   "metadata": {
    "collapsed": false,
    "pycharm": {
     "name": "#%%\n"
    }
   }
  },
  {
   "cell_type": "code",
   "execution_count": 87,
   "outputs": [],
   "source": [
    "# Merge pois and checkins to one Dataframe\n",
    "checkin_data = checkins_100_users.merge(pois, on='Pid')"
   ],
   "metadata": {
    "collapsed": false,
    "pycharm": {
     "name": "#%%\n"
    }
   }
  },
  {
   "cell_type": "code",
   "execution_count": 88,
   "outputs": [],
   "source": [
    "# create a matrix of Uid and Pid\n",
    "df = checkin_data.set_index('Uid').Pid.str.get_dummies(',')\n",
    "df = df.groupby('Uid').max()\n"
   ],
   "metadata": {
    "collapsed": false,
    "pycharm": {
     "name": "#%%\n"
    }
   }
  },
  {
   "cell_type": "code",
   "execution_count": 50,
   "outputs": [],
   "source": [
    "listofusers = pd.DataFrame(checkin_data, columns= ['Uid']).groupby('Uid').max().sample(frac=1)\n",
    "listofpois = pd.DataFrame(checkin_data, columns= ['Pid', 'Latitude', 'Longitude']).groupby('Pid').max().sample(frac=1)\n",
    "\n",
    "userarray = listofusers.index.to_numpy()\n",
    "poiarray = listofpois.index.to_numpy()\n",
    "\n",
    "userdataframe = pd.DataFrame(userarray, columns = ['Users'])\n",
    "poidataframe = pd.DataFrame(poiarray, columns = ['Poi'])"
   ],
   "metadata": {
    "collapsed": false,
    "pycharm": {
     "name": "#%%\n"
    }
   }
  },
  {
   "cell_type": "code",
   "execution_count": 42,
   "outputs": [
    {
     "data": {
      "text/plain": "                           Latitude  Longitude\nPid                                           \n4c6aff4f23971b8df85d998a  -6.905679        NaN\n510e4428e4b0f2f1ac068c23  -6.175188        NaN\n4f47639fe4b08df2fa50958c  55.782112        NaN\n441130a9f964a520c6301fe3  30.391664        NaN\n50fad1cae4b011742849fd89  41.085380        NaN\n...                             ...        ...\n4b7d0095f964a5209fab2fe3  -6.912624        NaN\n4ebf52cbc2ee23891e42f852  -6.137852        NaN\n4ba9c796f964a520c5373ae3  55.692064        NaN\n501a6c26e4b09a651c5ded6b  41.289239        NaN\n4b8c926df964a5200bd732e3   3.148801        NaN\n\n[5086 rows x 2 columns]",
      "text/html": "<div>\n<style scoped>\n    .dataframe tbody tr th:only-of-type {\n        vertical-align: middle;\n    }\n\n    .dataframe tbody tr th {\n        vertical-align: top;\n    }\n\n    .dataframe thead th {\n        text-align: right;\n    }\n</style>\n<table border=\"1\" class=\"dataframe\">\n  <thead>\n    <tr style=\"text-align: right;\">\n      <th></th>\n      <th>Latitude</th>\n      <th>Longitude</th>\n    </tr>\n    <tr>\n      <th>Pid</th>\n      <th></th>\n      <th></th>\n    </tr>\n  </thead>\n  <tbody>\n    <tr>\n      <th>4c6aff4f23971b8df85d998a</th>\n      <td>-6.905679</td>\n      <td>NaN</td>\n    </tr>\n    <tr>\n      <th>510e4428e4b0f2f1ac068c23</th>\n      <td>-6.175188</td>\n      <td>NaN</td>\n    </tr>\n    <tr>\n      <th>4f47639fe4b08df2fa50958c</th>\n      <td>55.782112</td>\n      <td>NaN</td>\n    </tr>\n    <tr>\n      <th>441130a9f964a520c6301fe3</th>\n      <td>30.391664</td>\n      <td>NaN</td>\n    </tr>\n    <tr>\n      <th>50fad1cae4b011742849fd89</th>\n      <td>41.085380</td>\n      <td>NaN</td>\n    </tr>\n    <tr>\n      <th>...</th>\n      <td>...</td>\n      <td>...</td>\n    </tr>\n    <tr>\n      <th>4b7d0095f964a5209fab2fe3</th>\n      <td>-6.912624</td>\n      <td>NaN</td>\n    </tr>\n    <tr>\n      <th>4ebf52cbc2ee23891e42f852</th>\n      <td>-6.137852</td>\n      <td>NaN</td>\n    </tr>\n    <tr>\n      <th>4ba9c796f964a520c5373ae3</th>\n      <td>55.692064</td>\n      <td>NaN</td>\n    </tr>\n    <tr>\n      <th>501a6c26e4b09a651c5ded6b</th>\n      <td>41.289239</td>\n      <td>NaN</td>\n    </tr>\n    <tr>\n      <th>4b8c926df964a5200bd732e3</th>\n      <td>3.148801</td>\n      <td>NaN</td>\n    </tr>\n  </tbody>\n</table>\n<p>5086 rows × 2 columns</p>\n</div>"
     },
     "execution_count": 42,
     "metadata": {},
     "output_type": "execute_result"
    }
   ],
   "source": [
    "listofpois"
   ],
   "metadata": {
    "collapsed": false,
    "pycharm": {
     "name": "#%%\n"
    }
   }
  },
  {
   "cell_type": "code",
   "execution_count": 51,
   "outputs": [],
   "source": [
    "dot = userdataframe.merge(poidataframe, how='cross')"
   ],
   "metadata": {
    "collapsed": false,
    "pycharm": {
     "name": "#%%\n"
    }
   }
  },
  {
   "cell_type": "code",
   "execution_count": 52,
   "outputs": [
    {
     "data": {
      "text/plain": "         Users                       Poi\n0        71607  4a32df52f964a520ad9a1fe3\n1        71607  4f38bb68e4b0b0eb8e887ec8\n2        71607  4d84e9860a0d1456c7a307cc\n3        71607  4b70652af964a520b7172de3\n4        71607  4cd53da467adf04d77de2b91\n...        ...                       ...\n254295  220716  4e208d05c65b2b5e353d4c53\n254296  220716  4e640e7a62e13e3bcf5895dc\n254297  220716  4b16d1e2f964a520e9bd23e3\n254298  220716  4b6cb20cf964a520ea4c2ce3\n254299  220716  514edceee4b09cb0bed5e123\n\n[254300 rows x 2 columns]",
      "text/html": "<div>\n<style scoped>\n    .dataframe tbody tr th:only-of-type {\n        vertical-align: middle;\n    }\n\n    .dataframe tbody tr th {\n        vertical-align: top;\n    }\n\n    .dataframe thead th {\n        text-align: right;\n    }\n</style>\n<table border=\"1\" class=\"dataframe\">\n  <thead>\n    <tr style=\"text-align: right;\">\n      <th></th>\n      <th>Users</th>\n      <th>Poi</th>\n    </tr>\n  </thead>\n  <tbody>\n    <tr>\n      <th>0</th>\n      <td>71607</td>\n      <td>4a32df52f964a520ad9a1fe3</td>\n    </tr>\n    <tr>\n      <th>1</th>\n      <td>71607</td>\n      <td>4f38bb68e4b0b0eb8e887ec8</td>\n    </tr>\n    <tr>\n      <th>2</th>\n      <td>71607</td>\n      <td>4d84e9860a0d1456c7a307cc</td>\n    </tr>\n    <tr>\n      <th>3</th>\n      <td>71607</td>\n      <td>4b70652af964a520b7172de3</td>\n    </tr>\n    <tr>\n      <th>4</th>\n      <td>71607</td>\n      <td>4cd53da467adf04d77de2b91</td>\n    </tr>\n    <tr>\n      <th>...</th>\n      <td>...</td>\n      <td>...</td>\n    </tr>\n    <tr>\n      <th>254295</th>\n      <td>220716</td>\n      <td>4e208d05c65b2b5e353d4c53</td>\n    </tr>\n    <tr>\n      <th>254296</th>\n      <td>220716</td>\n      <td>4e640e7a62e13e3bcf5895dc</td>\n    </tr>\n    <tr>\n      <th>254297</th>\n      <td>220716</td>\n      <td>4b16d1e2f964a520e9bd23e3</td>\n    </tr>\n    <tr>\n      <th>254298</th>\n      <td>220716</td>\n      <td>4b6cb20cf964a520ea4c2ce3</td>\n    </tr>\n    <tr>\n      <th>254299</th>\n      <td>220716</td>\n      <td>514edceee4b09cb0bed5e123</td>\n    </tr>\n  </tbody>\n</table>\n<p>254300 rows × 2 columns</p>\n</div>"
     },
     "execution_count": 52,
     "metadata": {},
     "output_type": "execute_result"
    }
   ],
   "source": [
    "dot"
   ],
   "metadata": {
    "collapsed": false,
    "pycharm": {
     "name": "#%%\n"
    }
   }
  },
  {
   "cell_type": "code",
   "execution_count": 53,
   "outputs": [],
   "source": [
    "rows_list = []\n",
    "for i in range(len(dot)):\n",
    "    temp = df[dot.loc[i, \"Poi\"]][dot.loc[i, \"Users\"]]\n",
    "    dict1 = {'ground_truth':float(temp)}\n",
    "    rows_list.append(dict1)\n",
    "\n",
    "groundtruth = pd.DataFrame(rows_list)"
   ],
   "metadata": {
    "collapsed": false,
    "pycharm": {
     "name": "#%%\n"
    }
   }
  },
  {
   "cell_type": "code",
   "execution_count": 54,
   "outputs": [],
   "source": [
    "result = pd.concat([dot, groundtruth], axis=1)\n"
   ],
   "metadata": {
    "collapsed": false,
    "pycharm": {
     "name": "#%%\n"
    }
   }
  },
  {
   "cell_type": "code",
   "execution_count": 55,
   "outputs": [],
   "source": [
    "rows_list = []\n",
    "for i in range(len(dot)):\n",
    "    temp = dot.loc[i, \"Poi\"]\n",
    "    latitude = listofpois.loc[temp]['Latitude']\n",
    "    longitude = listofpois.loc[temp]['Longitude']\n",
    "    dict1 = {'Latitude':latitude, 'Longitude':longitude}\n",
    "    rows_list.append(dict1)\n",
    "    #latitude = poiarray[i]\n",
    "latlong = pd.DataFrame(rows_list)"
   ],
   "metadata": {
    "collapsed": false,
    "pycharm": {
     "name": "#%%\n"
    }
   }
  },
  {
   "cell_type": "code",
   "execution_count": 56,
   "outputs": [
    {
     "data": {
      "text/plain": "         Latitude   Longitude\n0       41.903229  -87.680921\n1        3.127236  101.723491\n2       41.054211   28.933804\n3       52.339692    5.132638\n4       -6.178870  106.792688\n...           ...         ...\n254295  41.075079   28.999899\n254296 -15.809471  -48.059026\n254297  33.500979 -111.918717\n254298 -29.990475  -51.177492\n254299  -6.851692  107.596028\n\n[254300 rows x 2 columns]",
      "text/html": "<div>\n<style scoped>\n    .dataframe tbody tr th:only-of-type {\n        vertical-align: middle;\n    }\n\n    .dataframe tbody tr th {\n        vertical-align: top;\n    }\n\n    .dataframe thead th {\n        text-align: right;\n    }\n</style>\n<table border=\"1\" class=\"dataframe\">\n  <thead>\n    <tr style=\"text-align: right;\">\n      <th></th>\n      <th>Latitude</th>\n      <th>Longitude</th>\n    </tr>\n  </thead>\n  <tbody>\n    <tr>\n      <th>0</th>\n      <td>41.903229</td>\n      <td>-87.680921</td>\n    </tr>\n    <tr>\n      <th>1</th>\n      <td>3.127236</td>\n      <td>101.723491</td>\n    </tr>\n    <tr>\n      <th>2</th>\n      <td>41.054211</td>\n      <td>28.933804</td>\n    </tr>\n    <tr>\n      <th>3</th>\n      <td>52.339692</td>\n      <td>5.132638</td>\n    </tr>\n    <tr>\n      <th>4</th>\n      <td>-6.178870</td>\n      <td>106.792688</td>\n    </tr>\n    <tr>\n      <th>...</th>\n      <td>...</td>\n      <td>...</td>\n    </tr>\n    <tr>\n      <th>254295</th>\n      <td>41.075079</td>\n      <td>28.999899</td>\n    </tr>\n    <tr>\n      <th>254296</th>\n      <td>-15.809471</td>\n      <td>-48.059026</td>\n    </tr>\n    <tr>\n      <th>254297</th>\n      <td>33.500979</td>\n      <td>-111.918717</td>\n    </tr>\n    <tr>\n      <th>254298</th>\n      <td>-29.990475</td>\n      <td>-51.177492</td>\n    </tr>\n    <tr>\n      <th>254299</th>\n      <td>-6.851692</td>\n      <td>107.596028</td>\n    </tr>\n  </tbody>\n</table>\n<p>254300 rows × 2 columns</p>\n</div>"
     },
     "execution_count": 56,
     "metadata": {},
     "output_type": "execute_result"
    }
   ],
   "source": [
    "latlong"
   ],
   "metadata": {
    "collapsed": false,
    "pycharm": {
     "name": "#%%\n"
    }
   }
  },
  {
   "cell_type": "code",
   "execution_count": null,
   "outputs": [],
   "source": [
    "checkin_data"
   ],
   "metadata": {
    "collapsed": false,
    "pycharm": {
     "name": "#%%\n"
    }
   }
  },
  {
   "cell_type": "code",
   "execution_count": 57,
   "outputs": [],
   "source": [
    "userdot = pd.DataFrame(dot, columns= ['Users'])\n",
    "latlong['Latitude'] = pd.to_numeric(latlong['Latitude'])\n",
    "latlong['Longitude'] = pd.to_numeric(latlong['Longitude'])\n",
    "dataset = pd.concat([userdot, latlong], axis=1)"
   ],
   "metadata": {
    "collapsed": false,
    "pycharm": {
     "name": "#%%\n"
    }
   }
  },
  {
   "cell_type": "code",
   "execution_count": 58,
   "outputs": [
    {
     "data": {
      "text/plain": "         Users   Latitude   Longitude\n0        71607  41.903229  -87.680921\n1        71607   3.127236  101.723491\n2        71607  41.054211   28.933804\n3        71607  52.339692    5.132638\n4        71607  -6.178870  106.792688\n...        ...        ...         ...\n254295  220716  41.075079   28.999899\n254296  220716 -15.809471  -48.059026\n254297  220716  33.500979 -111.918717\n254298  220716 -29.990475  -51.177492\n254299  220716  -6.851692  107.596028\n\n[254300 rows x 3 columns]",
      "text/html": "<div>\n<style scoped>\n    .dataframe tbody tr th:only-of-type {\n        vertical-align: middle;\n    }\n\n    .dataframe tbody tr th {\n        vertical-align: top;\n    }\n\n    .dataframe thead th {\n        text-align: right;\n    }\n</style>\n<table border=\"1\" class=\"dataframe\">\n  <thead>\n    <tr style=\"text-align: right;\">\n      <th></th>\n      <th>Users</th>\n      <th>Latitude</th>\n      <th>Longitude</th>\n    </tr>\n  </thead>\n  <tbody>\n    <tr>\n      <th>0</th>\n      <td>71607</td>\n      <td>41.903229</td>\n      <td>-87.680921</td>\n    </tr>\n    <tr>\n      <th>1</th>\n      <td>71607</td>\n      <td>3.127236</td>\n      <td>101.723491</td>\n    </tr>\n    <tr>\n      <th>2</th>\n      <td>71607</td>\n      <td>41.054211</td>\n      <td>28.933804</td>\n    </tr>\n    <tr>\n      <th>3</th>\n      <td>71607</td>\n      <td>52.339692</td>\n      <td>5.132638</td>\n    </tr>\n    <tr>\n      <th>4</th>\n      <td>71607</td>\n      <td>-6.178870</td>\n      <td>106.792688</td>\n    </tr>\n    <tr>\n      <th>...</th>\n      <td>...</td>\n      <td>...</td>\n      <td>...</td>\n    </tr>\n    <tr>\n      <th>254295</th>\n      <td>220716</td>\n      <td>41.075079</td>\n      <td>28.999899</td>\n    </tr>\n    <tr>\n      <th>254296</th>\n      <td>220716</td>\n      <td>-15.809471</td>\n      <td>-48.059026</td>\n    </tr>\n    <tr>\n      <th>254297</th>\n      <td>220716</td>\n      <td>33.500979</td>\n      <td>-111.918717</td>\n    </tr>\n    <tr>\n      <th>254298</th>\n      <td>220716</td>\n      <td>-29.990475</td>\n      <td>-51.177492</td>\n    </tr>\n    <tr>\n      <th>254299</th>\n      <td>220716</td>\n      <td>-6.851692</td>\n      <td>107.596028</td>\n    </tr>\n  </tbody>\n</table>\n<p>254300 rows × 3 columns</p>\n</div>"
     },
     "execution_count": 58,
     "metadata": {},
     "output_type": "execute_result"
    }
   ],
   "source": [
    "dataset"
   ],
   "metadata": {
    "collapsed": false,
    "pycharm": {
     "name": "#%%\n"
    }
   }
  },
  {
   "cell_type": "code",
   "execution_count": null,
   "outputs": [],
   "source": [
    "df.stack().reset_index().rename(columns={'Uid': 'user_id', 'Pid': 'poi_id', 0:'label'})"
   ],
   "metadata": {
    "collapsed": false,
    "pycharm": {
     "name": "#%%\n"
    }
   }
  },
  {
   "cell_type": "code",
   "execution_count": 161,
   "outputs": [
    {
     "data": {
      "text/plain": "Uid                       200     546     738     1688    2433    6965    \\\n3fd66200f964a52019ec1ee3       0       0       0       0       0       0   \n3fd66200f964a5202fec1ee3       0       0       0       0       0       0   \n3fd66200f964a5203ff11ee3       0       0       0       0       0       0   \n3fd66200f964a52058e41ee3       0       0       0       0       0       0   \n3fd66200f964a52058ec1ee3       0       0       0       0       0       0   \n...                          ...     ...     ...     ...     ...     ...   \n5218f8bd11d276315afde5c2       0       0       0       0       0       0   \n521b38c311d28ce840936f2f       0       0       0       0       0       0   \n5221e8c711d29e4ef04c90e3       0       0       0       0       0       0   \n522304ba11d2fdf82198e013       0       0       0       0       0       0   \n5223c3cb498e6abce700998e       0       0       0       0       0       0   \n\nUid                       8366    8828    10918   11081   ...  147721  148340  \\\n3fd66200f964a52019ec1ee3       0       0       0       0  ...       0       0   \n3fd66200f964a5202fec1ee3       0       0       0       0  ...       0       0   \n3fd66200f964a5203ff11ee3       0       0       0       0  ...       0       0   \n3fd66200f964a52058e41ee3       0       0       0       0  ...       0       0   \n3fd66200f964a52058ec1ee3       0       0       0       0  ...       0       0   \n...                          ...     ...     ...     ...  ...     ...     ...   \n5218f8bd11d276315afde5c2       0       0       0       0  ...       0       0   \n521b38c311d28ce840936f2f       0       0       0       0  ...       0       0   \n5221e8c711d29e4ef04c90e3       0       0       0       0  ...       0       0   \n522304ba11d2fdf82198e013       0       0       0       0  ...       0       0   \n5223c3cb498e6abce700998e       0       0       0       0  ...       0       0   \n\nUid                       151437  159875  160362  183523  211392  220716  \\\n3fd66200f964a52019ec1ee3       0       0       0       0       0       0   \n3fd66200f964a5202fec1ee3       0       0       0       0       0       0   \n3fd66200f964a5203ff11ee3       0       0       0       0       0       0   \n3fd66200f964a52058e41ee3       0       0       0       0       0       0   \n3fd66200f964a52058ec1ee3       0       0       0       0       0       0   \n...                          ...     ...     ...     ...     ...     ...   \n5218f8bd11d276315afde5c2       0       0       0       0       0       0   \n521b38c311d28ce840936f2f       0       0       0       0       0       0   \n5221e8c711d29e4ef04c90e3       0       0       0       0       0       0   \n522304ba11d2fdf82198e013       0       0       0       0       0       0   \n5223c3cb498e6abce700998e       0       0       0       0       0       0   \n\nUid                       223186  235013  \n3fd66200f964a52019ec1ee3       0       0  \n3fd66200f964a5202fec1ee3       0       0  \n3fd66200f964a5203ff11ee3       0       0  \n3fd66200f964a52058e41ee3       0       0  \n3fd66200f964a52058ec1ee3       0       0  \n...                          ...     ...  \n5218f8bd11d276315afde5c2       0       0  \n521b38c311d28ce840936f2f       0       0  \n5221e8c711d29e4ef04c90e3       0       0  \n522304ba11d2fdf82198e013       0       0  \n5223c3cb498e6abce700998e       0       0  \n\n[5086 rows x 50 columns]",
      "text/html": "<div>\n<style scoped>\n    .dataframe tbody tr th:only-of-type {\n        vertical-align: middle;\n    }\n\n    .dataframe tbody tr th {\n        vertical-align: top;\n    }\n\n    .dataframe thead th {\n        text-align: right;\n    }\n</style>\n<table border=\"1\" class=\"dataframe\">\n  <thead>\n    <tr style=\"text-align: right;\">\n      <th>Uid</th>\n      <th>200</th>\n      <th>546</th>\n      <th>738</th>\n      <th>1688</th>\n      <th>2433</th>\n      <th>6965</th>\n      <th>8366</th>\n      <th>8828</th>\n      <th>10918</th>\n      <th>11081</th>\n      <th>...</th>\n      <th>147721</th>\n      <th>148340</th>\n      <th>151437</th>\n      <th>159875</th>\n      <th>160362</th>\n      <th>183523</th>\n      <th>211392</th>\n      <th>220716</th>\n      <th>223186</th>\n      <th>235013</th>\n    </tr>\n  </thead>\n  <tbody>\n    <tr>\n      <th>3fd66200f964a52019ec1ee3</th>\n      <td>0</td>\n      <td>0</td>\n      <td>0</td>\n      <td>0</td>\n      <td>0</td>\n      <td>0</td>\n      <td>0</td>\n      <td>0</td>\n      <td>0</td>\n      <td>0</td>\n      <td>...</td>\n      <td>0</td>\n      <td>0</td>\n      <td>0</td>\n      <td>0</td>\n      <td>0</td>\n      <td>0</td>\n      <td>0</td>\n      <td>0</td>\n      <td>0</td>\n      <td>0</td>\n    </tr>\n    <tr>\n      <th>3fd66200f964a5202fec1ee3</th>\n      <td>0</td>\n      <td>0</td>\n      <td>0</td>\n      <td>0</td>\n      <td>0</td>\n      <td>0</td>\n      <td>0</td>\n      <td>0</td>\n      <td>0</td>\n      <td>0</td>\n      <td>...</td>\n      <td>0</td>\n      <td>0</td>\n      <td>0</td>\n      <td>0</td>\n      <td>0</td>\n      <td>0</td>\n      <td>0</td>\n      <td>0</td>\n      <td>0</td>\n      <td>0</td>\n    </tr>\n    <tr>\n      <th>3fd66200f964a5203ff11ee3</th>\n      <td>0</td>\n      <td>0</td>\n      <td>0</td>\n      <td>0</td>\n      <td>0</td>\n      <td>0</td>\n      <td>0</td>\n      <td>0</td>\n      <td>0</td>\n      <td>0</td>\n      <td>...</td>\n      <td>0</td>\n      <td>0</td>\n      <td>0</td>\n      <td>0</td>\n      <td>0</td>\n      <td>0</td>\n      <td>0</td>\n      <td>0</td>\n      <td>0</td>\n      <td>0</td>\n    </tr>\n    <tr>\n      <th>3fd66200f964a52058e41ee3</th>\n      <td>0</td>\n      <td>0</td>\n      <td>0</td>\n      <td>0</td>\n      <td>0</td>\n      <td>0</td>\n      <td>0</td>\n      <td>0</td>\n      <td>0</td>\n      <td>0</td>\n      <td>...</td>\n      <td>0</td>\n      <td>0</td>\n      <td>0</td>\n      <td>0</td>\n      <td>0</td>\n      <td>0</td>\n      <td>0</td>\n      <td>0</td>\n      <td>0</td>\n      <td>0</td>\n    </tr>\n    <tr>\n      <th>3fd66200f964a52058ec1ee3</th>\n      <td>0</td>\n      <td>0</td>\n      <td>0</td>\n      <td>0</td>\n      <td>0</td>\n      <td>0</td>\n      <td>0</td>\n      <td>0</td>\n      <td>0</td>\n      <td>0</td>\n      <td>...</td>\n      <td>0</td>\n      <td>0</td>\n      <td>0</td>\n      <td>0</td>\n      <td>0</td>\n      <td>0</td>\n      <td>0</td>\n      <td>0</td>\n      <td>0</td>\n      <td>0</td>\n    </tr>\n    <tr>\n      <th>...</th>\n      <td>...</td>\n      <td>...</td>\n      <td>...</td>\n      <td>...</td>\n      <td>...</td>\n      <td>...</td>\n      <td>...</td>\n      <td>...</td>\n      <td>...</td>\n      <td>...</td>\n      <td>...</td>\n      <td>...</td>\n      <td>...</td>\n      <td>...</td>\n      <td>...</td>\n      <td>...</td>\n      <td>...</td>\n      <td>...</td>\n      <td>...</td>\n      <td>...</td>\n      <td>...</td>\n    </tr>\n    <tr>\n      <th>5218f8bd11d276315afde5c2</th>\n      <td>0</td>\n      <td>0</td>\n      <td>0</td>\n      <td>0</td>\n      <td>0</td>\n      <td>0</td>\n      <td>0</td>\n      <td>0</td>\n      <td>0</td>\n      <td>0</td>\n      <td>...</td>\n      <td>0</td>\n      <td>0</td>\n      <td>0</td>\n      <td>0</td>\n      <td>0</td>\n      <td>0</td>\n      <td>0</td>\n      <td>0</td>\n      <td>0</td>\n      <td>0</td>\n    </tr>\n    <tr>\n      <th>521b38c311d28ce840936f2f</th>\n      <td>0</td>\n      <td>0</td>\n      <td>0</td>\n      <td>0</td>\n      <td>0</td>\n      <td>0</td>\n      <td>0</td>\n      <td>0</td>\n      <td>0</td>\n      <td>0</td>\n      <td>...</td>\n      <td>0</td>\n      <td>0</td>\n      <td>0</td>\n      <td>0</td>\n      <td>0</td>\n      <td>0</td>\n      <td>0</td>\n      <td>0</td>\n      <td>0</td>\n      <td>0</td>\n    </tr>\n    <tr>\n      <th>5221e8c711d29e4ef04c90e3</th>\n      <td>0</td>\n      <td>0</td>\n      <td>0</td>\n      <td>0</td>\n      <td>0</td>\n      <td>0</td>\n      <td>0</td>\n      <td>0</td>\n      <td>0</td>\n      <td>0</td>\n      <td>...</td>\n      <td>0</td>\n      <td>0</td>\n      <td>0</td>\n      <td>0</td>\n      <td>0</td>\n      <td>0</td>\n      <td>0</td>\n      <td>0</td>\n      <td>0</td>\n      <td>0</td>\n    </tr>\n    <tr>\n      <th>522304ba11d2fdf82198e013</th>\n      <td>0</td>\n      <td>0</td>\n      <td>0</td>\n      <td>0</td>\n      <td>0</td>\n      <td>0</td>\n      <td>0</td>\n      <td>0</td>\n      <td>0</td>\n      <td>0</td>\n      <td>...</td>\n      <td>0</td>\n      <td>0</td>\n      <td>0</td>\n      <td>0</td>\n      <td>0</td>\n      <td>0</td>\n      <td>0</td>\n      <td>0</td>\n      <td>0</td>\n      <td>0</td>\n    </tr>\n    <tr>\n      <th>5223c3cb498e6abce700998e</th>\n      <td>0</td>\n      <td>0</td>\n      <td>0</td>\n      <td>0</td>\n      <td>0</td>\n      <td>0</td>\n      <td>0</td>\n      <td>0</td>\n      <td>0</td>\n      <td>0</td>\n      <td>...</td>\n      <td>0</td>\n      <td>0</td>\n      <td>0</td>\n      <td>0</td>\n      <td>0</td>\n      <td>0</td>\n      <td>0</td>\n      <td>0</td>\n      <td>0</td>\n      <td>0</td>\n    </tr>\n  </tbody>\n</table>\n<p>5086 rows × 50 columns</p>\n</div>"
     },
     "execution_count": 161,
     "metadata": {},
     "output_type": "execute_result"
    }
   ],
   "source": [
    "df.T"
   ],
   "metadata": {
    "collapsed": false,
    "pycharm": {
     "name": "#%%\n"
    }
   }
  },
  {
   "cell_type": "code",
   "execution_count": 121,
   "outputs": [],
   "source": [
    "Pid_list = list(df.columns.values)\n",
    "Uid_list = list(df.index.values)\n",
    "\n",
    "user_item_list = Pid_list"
   ],
   "metadata": {
    "collapsed": false,
    "pycharm": {
     "name": "#%%\n"
    }
   }
  },
  {
   "cell_type": "code",
   "execution_count": 124,
   "outputs": [
    {
     "data": {
      "text/plain": "5086"
     },
     "execution_count": 124,
     "metadata": {},
     "output_type": "execute_result"
    }
   ],
   "source": [],
   "metadata": {
    "collapsed": false,
    "pycharm": {
     "name": "#%%\n"
    }
   }
  },
  {
   "cell_type": "code",
   "execution_count": 165,
   "outputs": [],
   "source": [
    "import scipy\n",
    "\n",
    "dftomatrix = scipy.sparse.csr_matrix(df.values)"
   ],
   "metadata": {
    "collapsed": false,
    "pycharm": {
     "name": "#%%\n"
    }
   }
  },
  {
   "cell_type": "code",
   "execution_count": 163,
   "outputs": [],
   "source": [
    "sdf = pd.DataFrame.sparse.from_spmatrix(dftomatrix)"
   ],
   "metadata": {
    "collapsed": false,
    "pycharm": {
     "name": "#%%\n"
    }
   }
  },
  {
   "cell_type": "code",
   "execution_count": 164,
   "outputs": [
    {
     "data": {
      "text/plain": "   0   1   2   3   4   5   6   7   8   9   ...  40  41  42  43  44  45  46  \\\n0   0   0   0   0   0   0   0   0   0   0  ...   0   0   0   0   0   0   0   \n1   0   0   0   0   0   0   0   0   0   0  ...   0   0   0   0   0   0   0   \n2   0   0   0   0   0   0   0   0   0   0  ...   0   0   0   0   0   0   0   \n3   0   0   0   0   0   0   0   0   0   0  ...   0   0   0   0   0   0   0   \n4   0   0   0   0   0   0   0   0   0   0  ...   0   0   0   0   0   0   0   \n\n   47  48  49  \n0   0   0   0  \n1   0   0   0  \n2   0   0   0  \n3   0   0   0  \n4   0   0   0  \n\n[5 rows x 50 columns]",
      "text/html": "<div>\n<style scoped>\n    .dataframe tbody tr th:only-of-type {\n        vertical-align: middle;\n    }\n\n    .dataframe tbody tr th {\n        vertical-align: top;\n    }\n\n    .dataframe thead th {\n        text-align: right;\n    }\n</style>\n<table border=\"1\" class=\"dataframe\">\n  <thead>\n    <tr style=\"text-align: right;\">\n      <th></th>\n      <th>0</th>\n      <th>1</th>\n      <th>2</th>\n      <th>3</th>\n      <th>4</th>\n      <th>5</th>\n      <th>6</th>\n      <th>7</th>\n      <th>8</th>\n      <th>9</th>\n      <th>...</th>\n      <th>40</th>\n      <th>41</th>\n      <th>42</th>\n      <th>43</th>\n      <th>44</th>\n      <th>45</th>\n      <th>46</th>\n      <th>47</th>\n      <th>48</th>\n      <th>49</th>\n    </tr>\n  </thead>\n  <tbody>\n    <tr>\n      <th>0</th>\n      <td>0</td>\n      <td>0</td>\n      <td>0</td>\n      <td>0</td>\n      <td>0</td>\n      <td>0</td>\n      <td>0</td>\n      <td>0</td>\n      <td>0</td>\n      <td>0</td>\n      <td>...</td>\n      <td>0</td>\n      <td>0</td>\n      <td>0</td>\n      <td>0</td>\n      <td>0</td>\n      <td>0</td>\n      <td>0</td>\n      <td>0</td>\n      <td>0</td>\n      <td>0</td>\n    </tr>\n    <tr>\n      <th>1</th>\n      <td>0</td>\n      <td>0</td>\n      <td>0</td>\n      <td>0</td>\n      <td>0</td>\n      <td>0</td>\n      <td>0</td>\n      <td>0</td>\n      <td>0</td>\n      <td>0</td>\n      <td>...</td>\n      <td>0</td>\n      <td>0</td>\n      <td>0</td>\n      <td>0</td>\n      <td>0</td>\n      <td>0</td>\n      <td>0</td>\n      <td>0</td>\n      <td>0</td>\n      <td>0</td>\n    </tr>\n    <tr>\n      <th>2</th>\n      <td>0</td>\n      <td>0</td>\n      <td>0</td>\n      <td>0</td>\n      <td>0</td>\n      <td>0</td>\n      <td>0</td>\n      <td>0</td>\n      <td>0</td>\n      <td>0</td>\n      <td>...</td>\n      <td>0</td>\n      <td>0</td>\n      <td>0</td>\n      <td>0</td>\n      <td>0</td>\n      <td>0</td>\n      <td>0</td>\n      <td>0</td>\n      <td>0</td>\n      <td>0</td>\n    </tr>\n    <tr>\n      <th>3</th>\n      <td>0</td>\n      <td>0</td>\n      <td>0</td>\n      <td>0</td>\n      <td>0</td>\n      <td>0</td>\n      <td>0</td>\n      <td>0</td>\n      <td>0</td>\n      <td>0</td>\n      <td>...</td>\n      <td>0</td>\n      <td>0</td>\n      <td>0</td>\n      <td>0</td>\n      <td>0</td>\n      <td>0</td>\n      <td>0</td>\n      <td>0</td>\n      <td>0</td>\n      <td>0</td>\n    </tr>\n    <tr>\n      <th>4</th>\n      <td>0</td>\n      <td>0</td>\n      <td>0</td>\n      <td>0</td>\n      <td>0</td>\n      <td>0</td>\n      <td>0</td>\n      <td>0</td>\n      <td>0</td>\n      <td>0</td>\n      <td>...</td>\n      <td>0</td>\n      <td>0</td>\n      <td>0</td>\n      <td>0</td>\n      <td>0</td>\n      <td>0</td>\n      <td>0</td>\n      <td>0</td>\n      <td>0</td>\n      <td>0</td>\n    </tr>\n  </tbody>\n</table>\n<p>5 rows × 50 columns</p>\n</div>"
     },
     "execution_count": 164,
     "metadata": {},
     "output_type": "execute_result"
    }
   ],
   "source": [
    "sdf.head()"
   ],
   "metadata": {
    "collapsed": false,
    "pycharm": {
     "name": "#%%\n"
    }
   }
  },
  {
   "cell_type": "code",
   "execution_count": 113,
   "outputs": [
    {
     "data": {
      "text/plain": "  0%|          | 0/15 [00:00<?, ?it/s]",
      "application/vnd.jupyter.widget-view+json": {
       "version_major": 2,
       "version_minor": 0,
       "model_id": "574db3509a924c998b0fcbe4f06c4df6"
      }
     },
     "metadata": {},
     "output_type": "display_data"
    }
   ],
   "source": [
    "from implicit.als import AlternatingLeastSquares\n",
    "\n",
    "model = AlternatingLeastSquares(factors=64, regularization=0.05)\n",
    "model.fit(2 * dftomatrix)"
   ],
   "metadata": {
    "collapsed": false,
    "pycharm": {
     "name": "#%%\n"
    }
   }
  },
  {
   "cell_type": "code",
   "execution_count": 198,
   "outputs": [],
   "source": [
    "userid = 1\n",
    "ids, scores = model.recommend(userid, dftomatrix[userid], N=100, filter_already_liked_items=False)"
   ],
   "metadata": {
    "collapsed": false,
    "pycharm": {
     "name": "#%%\n"
    }
   }
  },
  {
   "cell_type": "code",
   "execution_count": 168,
   "outputs": [],
   "source": [
    "df = df.T"
   ],
   "metadata": {
    "collapsed": false,
    "pycharm": {
     "name": "#%%\n"
    }
   }
  },
  {
   "cell_type": "code",
   "execution_count": 211,
   "outputs": [
    {
     "ename": "AttributeError",
     "evalue": "'int' object has no attribute 'values'",
     "output_type": "error",
     "traceback": [
      "\u001B[1;31m---------------------------------------------------------------------------\u001B[0m",
      "\u001B[1;31mAttributeError\u001B[0m                            Traceback (most recent call last)",
      "\u001B[1;32m~\\AppData\\Local\\Temp/ipykernel_14796/212882212.py\u001B[0m in \u001B[0;36m<module>\u001B[1;34m\u001B[0m\n\u001B[1;32m----> 1\u001B[1;33m \u001B[0mcheckins_100_users\u001B[0m\u001B[1;33m[\u001B[0m\u001B[1;34m'Uid'\u001B[0m\u001B[1;33m]\u001B[0m\u001B[1;33m[\u001B[0m\u001B[0muserid\u001B[0m\u001B[1;33m]\u001B[0m\u001B[1;33m.\u001B[0m\u001B[0mvalues\u001B[0m\u001B[1;33m\u001B[0m\u001B[1;33m\u001B[0m\u001B[0m\n\u001B[0m",
      "\u001B[1;31mAttributeError\u001B[0m: 'int' object has no attribute 'values'"
     ]
    }
   ],
   "source": [],
   "metadata": {
    "collapsed": false,
    "pycharm": {
     "name": "#%%\n"
    }
   }
  },
  {
   "cell_type": "code",
   "execution_count": 203,
   "outputs": [
    {
     "name": "stdout",
     "output_type": "stream",
     "text": [
      "length of 1's  365\n",
      "length of 0's  4721\n"
     ]
    }
   ],
   "source": [
    "l = []\n",
    "l2 = []\n",
    "for i in df[Uid_list[userid]]:\n",
    "    if i == 1:\n",
    "        l.append(i)\n",
    "    else:\n",
    "        l2.append(i)\n",
    "print(\"length of 1's \", len(l))\n",
    "print(\"length of 0's \", len(l2))\n"
   ],
   "metadata": {
    "collapsed": false,
    "pycharm": {
     "name": "#%%\n"
    }
   }
  },
  {
   "cell_type": "code",
   "execution_count": 212,
   "outputs": [
    {
     "data": {
      "text/plain": "                      points     score  already_visited\n0   4bddae1f89ca76b09b7d5d5e  0.999677            False\n1   4b5086ccf964a520212627e3  0.999677            False\n2   4b63406af964a520a36d2ae3  0.999622            False\n3   4bdd5f27f219c9b6bb751210  0.999622            False\n4   4e68694845dd6cc5bcfca67d  0.999611            False\n..                       ...       ...              ...\n95  4d5c0f3f2a31a1cd8fd443f1  0.999611            False\n96  4d3719620a0b721ebbd7979b  0.999611            False\n97  4c2ce3abd1a10f47712dfa64  0.999611            False\n98  4c1448d9f1e0b7133dcc34bc  0.999611            False\n99  4c03e26458dad13a172e4897  0.999611            False\n\n[100 rows x 3 columns]",
      "text/html": "<div>\n<style scoped>\n    .dataframe tbody tr th:only-of-type {\n        vertical-align: middle;\n    }\n\n    .dataframe tbody tr th {\n        vertical-align: top;\n    }\n\n    .dataframe thead th {\n        text-align: right;\n    }\n</style>\n<table border=\"1\" class=\"dataframe\">\n  <thead>\n    <tr style=\"text-align: right;\">\n      <th></th>\n      <th>points</th>\n      <th>score</th>\n      <th>already_visited</th>\n    </tr>\n  </thead>\n  <tbody>\n    <tr>\n      <th>0</th>\n      <td>4bddae1f89ca76b09b7d5d5e</td>\n      <td>0.999677</td>\n      <td>False</td>\n    </tr>\n    <tr>\n      <th>1</th>\n      <td>4b5086ccf964a520212627e3</td>\n      <td>0.999677</td>\n      <td>False</td>\n    </tr>\n    <tr>\n      <th>2</th>\n      <td>4b63406af964a520a36d2ae3</td>\n      <td>0.999622</td>\n      <td>False</td>\n    </tr>\n    <tr>\n      <th>3</th>\n      <td>4bdd5f27f219c9b6bb751210</td>\n      <td>0.999622</td>\n      <td>False</td>\n    </tr>\n    <tr>\n      <th>4</th>\n      <td>4e68694845dd6cc5bcfca67d</td>\n      <td>0.999611</td>\n      <td>False</td>\n    </tr>\n    <tr>\n      <th>...</th>\n      <td>...</td>\n      <td>...</td>\n      <td>...</td>\n    </tr>\n    <tr>\n      <th>95</th>\n      <td>4d5c0f3f2a31a1cd8fd443f1</td>\n      <td>0.999611</td>\n      <td>False</td>\n    </tr>\n    <tr>\n      <th>96</th>\n      <td>4d3719620a0b721ebbd7979b</td>\n      <td>0.999611</td>\n      <td>False</td>\n    </tr>\n    <tr>\n      <th>97</th>\n      <td>4c2ce3abd1a10f47712dfa64</td>\n      <td>0.999611</td>\n      <td>False</td>\n    </tr>\n    <tr>\n      <th>98</th>\n      <td>4c1448d9f1e0b7133dcc34bc</td>\n      <td>0.999611</td>\n      <td>False</td>\n    </tr>\n    <tr>\n      <th>99</th>\n      <td>4c03e26458dad13a172e4897</td>\n      <td>0.999611</td>\n      <td>False</td>\n    </tr>\n  </tbody>\n</table>\n<p>100 rows × 3 columns</p>\n</div>"
     },
     "execution_count": 212,
     "metadata": {},
     "output_type": "execute_result"
    }
   ],
   "source": [
    "# Use pandas to display the output in a table, pandas isn't a dependency of implicit otherwise\n",
    "\n",
    "pd.DataFrame({\"points\": [Pid_list[i] for i in ids], \"score\": scores, \"already_visited\": np.in1d(ids, checkins_100_users['Uid'][Uid_list[userid]])})"
   ],
   "metadata": {
    "collapsed": false,
    "pycharm": {
     "name": "#%%\n"
    }
   }
  },
  {
   "cell_type": "code",
   "execution_count": null,
   "outputs": [],
   "source": [
    "pd.DataFrame(df)"
   ],
   "metadata": {
    "collapsed": false,
    "pycharm": {
     "name": "#%%\n"
    }
   }
  },
  {
   "cell_type": "code",
   "execution_count": null,
   "outputs": [],
   "source": [
    "# Remove Uid Duplicates in matrix\n",
    "df = df.groupby('Uid').max()\n",
    "print(df)"
   ],
   "metadata": {
    "collapsed": false,
    "pycharm": {
     "name": "#%%\n"
    }
   }
  },
  {
   "cell_type": "code",
   "execution_count": null,
   "outputs": [],
   "source": [
    "Users = checkins['Uid'].unique()\n",
    "print(len(Users))\n",
    "Ncheckins = np.zeros(len(Users))\n",
    "for user,i in zip(Users, range(len(Users))):\n",
    "    Ncheckins[i] = np.where(checkins['Uid'] == Users)"
   ],
   "metadata": {
    "collapsed": false,
    "pycharm": {
     "name": "#%%\n"
    }
   }
  },
  {
   "cell_type": "code",
   "execution_count": null,
   "outputs": [],
   "source": [
    "plt.hist(user_checkins_counts)\n",
    "plt.show()\n",
    "##user_checkins_counts.plot(kind='hist', x=user_checkins_counts, y=points_checkins_counts)"
   ],
   "metadata": {
    "collapsed": false,
    "pycharm": {
     "name": "#%%\n"
    }
   }
  },
  {
   "cell_type": "code",
   "execution_count": null,
   "outputs": [],
   "source": [
    "def tabular_preview(checkins, n=15):\n",
    "    \"\"\"Creates a cross-tabular view of users vs movies.\"\"\"\n",
    "\n",
    "    user_groups = checkins.groupby('Uid')['Pid'].count()\n",
    "    top_users = user_groups.sort_values(ascending=False)[:15]\n",
    "\n",
    "    poi_groups = checkins.groupby('Pid')['Uid'].count()\n",
    "    top_pois = poi_groups.sort_values(ascending=False)[:15]\n",
    "\n",
    "    top = (\n",
    "        checkins.\n",
    "        join(top_users, rsuffix='_r', how='inner', on='Uid').\n",
    "        join(top_pois, rsuffix='_r', how='inner', on='Pid'))\n",
    "\n",
    "    plt.hist(top)\n",
    "    plt.show()"
   ],
   "metadata": {
    "collapsed": false,
    "pycharm": {
     "name": "#%%\n"
    }
   }
  },
  {
   "cell_type": "code",
   "execution_count": null,
   "outputs": [],
   "source": [
    "tabular_preview(checkin_data)"
   ],
   "metadata": {
    "collapsed": false,
    "pycharm": {
     "name": "#%%\n"
    }
   }
  },
  {
   "cell_type": "code",
   "execution_count": null,
   "outputs": [],
   "source": [
    "A=nx.linalg.graphmatrix.adjacency_matrix(checkins_100_users).todense()\n",
    "L=nx.linalg.laplacianmatrix.laplacian_matrix(checkins_100_users).todense()"
   ],
   "metadata": {
    "collapsed": false,
    "pycharm": {
     "name": "#%%\n"
    }
   }
  },
  {
   "cell_type": "code",
   "execution_count": null,
   "outputs": [],
   "source": [
    "A=\n",
    "\n"
   ],
   "metadata": {
    "collapsed": false,
    "pycharm": {
     "name": "#%%\n"
    }
   }
  }
 ],
 "metadata": {
  "kernelspec": {
   "display_name": "Python 3",
   "language": "python",
   "name": "python3"
  },
  "language_info": {
   "codemirror_mode": {
    "name": "ipython",
    "version": 2
   },
   "file_extension": ".py",
   "mimetype": "text/x-python",
   "name": "python",
   "nbconvert_exporter": "python",
   "pygments_lexer": "ipython2",
   "version": "2.7.6"
  }
 },
 "nbformat": 4,
 "nbformat_minor": 0
}