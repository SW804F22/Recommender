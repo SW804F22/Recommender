{
 "cells": [
  {
   "cell_type": "code",
   "execution_count": 2,
   "outputs": [],
   "source": [
    "from pathlib import Path\n",
    "import matplotlib.pyplot as plt\n",
    "import pandas as pd\n",
    "import numpy as np\n",
    "import scipy as sp\n",
    "import networkx as nx"
   ],
   "metadata": {
    "collapsed": false,
    "pycharm": {
     "name": "#%%\n"
    }
   }
  },
  {
   "cell_type": "code",
   "execution_count": null,
   "metadata": {
    "collapsed": true,
    "pycharm": {
     "name": "#%%\n"
    }
   },
   "outputs": [],
   "source": [
    "read_file = pd.read_csv (r'C:\\Users\\Johan\\Downloads\\dataset_TIST2015\\dataset_TIST2015_POIs.txt', names=[\"Pid\", \"Latitude\", \"Longtitude\", \"Category\", \"Country\"], sep='\\t')\n",
    "read_file.to_csv (r'C:\\Users\\Johan\\Documents\\POI_dataset\\TIST2015_POIs.csv', index=None)"
   ]
  },
  {
   "cell_type": "code",
   "execution_count": 4,
   "outputs": [],
   "source": [
    "read_file = pd.read_csv (r'C:\\Users\\Johan\\Downloads\\dataset_TIST2015\\dataset_TIST2015_Checkins.txt', names=[\"Uid\",\"Pid\",\"Timestamp\", \"TimezoneOffset\"], sep='\\t')\n",
    "read_file.to_csv (r'C:\\Users\\Johan\\Documents\\POI_dataset\\TIST2015_Checkins.csv', index=None)"
   ],
   "metadata": {
    "collapsed": false,
    "pycharm": {
     "name": "#%%\n"
    }
   }
  },
  {
   "cell_type": "code",
   "execution_count": 3,
   "outputs": [],
   "source": [
    "def read_data(path):\n",
    "    files = {}\n",
    "    for filename in path.glob('*'):\n",
    "        if filename.suffix == '.csv':\n",
    "            files[filename.stem] = pd.read_csv(filename)\n",
    "        elif filename.suffix == '.txt':\n",
    "            if filename.stem == \"TIST2015_POIs\":\n",
    "                columns = [\"Pid\", \"Latitude\", \"Longtitude\", \"Category\", \"Country\"]\n",
    "            elif filename.stem == \"TIST2015_POIs_Checkins\":\n",
    "                columns = [\"Uid\",\"Pid\",\"Timestamp\", \"TimezoneOffset\"]\n",
    "            else:\n",
    "                continue\n",
    "            data = pd.read_csv(filename, names=columns, engine='python')\n",
    "            files[filename.stem] = data\n",
    "\n",
    "    return files['TIST2015_POIs'], files['TIST2015_Checkins']"
   ],
   "metadata": {
    "collapsed": false,
    "pycharm": {
     "name": "#%%\n"
    }
   }
  },
  {
   "cell_type": "code",
   "execution_count": 4,
   "outputs": [],
   "source": [
    "# pick one of the available folders\n",
    "pois, checkins = read_data(Path(r'C:\\Users\\Johan\\Documents\\POI_dataset'))"
   ],
   "metadata": {
    "collapsed": false,
    "pycharm": {
     "name": "#%%\n"
    }
   }
  },
  {
   "cell_type": "code",
   "execution_count": 13,
   "outputs": [
    {
     "ename": "ValueError",
     "evalue": "Please enter a value for `frac` OR `n`, not both",
     "output_type": "error",
     "traceback": [
      "\u001B[1;31m---------------------------------------------------------------------------\u001B[0m",
      "\u001B[1;31mValueError\u001B[0m                                Traceback (most recent call last)",
      "Input \u001B[1;32mIn [13]\u001B[0m, in \u001B[0;36m<cell line: 3>\u001B[1;34m()\u001B[0m\n\u001B[0;32m      1\u001B[0m users_subset \u001B[38;5;241m=\u001B[39m checkins[\u001B[38;5;124m'\u001B[39m\u001B[38;5;124mUid\u001B[39m\u001B[38;5;124m'\u001B[39m]\u001B[38;5;241m.\u001B[39munique()\n\u001B[0;32m      2\u001B[0m \u001B[38;5;28mlen\u001B[39m(users_subset)   \n\u001B[1;32m----> 3\u001B[0m \u001B[43mcheckins\u001B[49m\u001B[38;5;241;43m.\u001B[39;49m\u001B[43msample\u001B[49m\u001B[43m(\u001B[49m\u001B[43musers_subset\u001B[49m\u001B[43m,\u001B[49m\u001B[43m \u001B[49m\u001B[38;5;241;43m1000\u001B[39;49m\u001B[43m)\u001B[49m\n",
      "File \u001B[1;32m~\\Dropbox\\Mobility_project\\venv\\lib\\site-packages\\pandas\\core\\generic.py:5446\u001B[0m, in \u001B[0;36mNDFrame.sample\u001B[1;34m(self, n, frac, replace, weights, random_state, axis, ignore_index)\u001B[0m\n\u001B[0;32m   5443\u001B[0m \u001B[38;5;66;03m# Process random_state argument\u001B[39;00m\n\u001B[0;32m   5444\u001B[0m rs \u001B[38;5;241m=\u001B[39m com\u001B[38;5;241m.\u001B[39mrandom_state(random_state)\n\u001B[1;32m-> 5446\u001B[0m size \u001B[38;5;241m=\u001B[39m \u001B[43msample\u001B[49m\u001B[38;5;241;43m.\u001B[39;49m\u001B[43mprocess_sampling_size\u001B[49m\u001B[43m(\u001B[49m\u001B[43mn\u001B[49m\u001B[43m,\u001B[49m\u001B[43m \u001B[49m\u001B[43mfrac\u001B[49m\u001B[43m,\u001B[49m\u001B[43m \u001B[49m\u001B[43mreplace\u001B[49m\u001B[43m)\u001B[49m\n\u001B[0;32m   5447\u001B[0m \u001B[38;5;28;01mif\u001B[39;00m size \u001B[38;5;129;01mis\u001B[39;00m \u001B[38;5;28;01mNone\u001B[39;00m:\n\u001B[0;32m   5448\u001B[0m     \u001B[38;5;28;01massert\u001B[39;00m frac \u001B[38;5;129;01mis\u001B[39;00m \u001B[38;5;129;01mnot\u001B[39;00m \u001B[38;5;28;01mNone\u001B[39;00m\n",
      "File \u001B[1;32m~\\Dropbox\\Mobility_project\\venv\\lib\\site-packages\\pandas\\core\\sample.py:92\u001B[0m, in \u001B[0;36mprocess_sampling_size\u001B[1;34m(n, frac, replace)\u001B[0m\n\u001B[0;32m     90\u001B[0m     n \u001B[38;5;241m=\u001B[39m \u001B[38;5;241m1\u001B[39m\n\u001B[0;32m     91\u001B[0m \u001B[38;5;28;01melif\u001B[39;00m n \u001B[38;5;129;01mis\u001B[39;00m \u001B[38;5;129;01mnot\u001B[39;00m \u001B[38;5;28;01mNone\u001B[39;00m \u001B[38;5;129;01mand\u001B[39;00m frac \u001B[38;5;129;01mis\u001B[39;00m \u001B[38;5;129;01mnot\u001B[39;00m \u001B[38;5;28;01mNone\u001B[39;00m:\n\u001B[1;32m---> 92\u001B[0m     \u001B[38;5;28;01mraise\u001B[39;00m \u001B[38;5;167;01mValueError\u001B[39;00m(\u001B[38;5;124m\"\u001B[39m\u001B[38;5;124mPlease enter a value for `frac` OR `n`, not both\u001B[39m\u001B[38;5;124m\"\u001B[39m)\n\u001B[0;32m     93\u001B[0m \u001B[38;5;28;01melif\u001B[39;00m n \u001B[38;5;129;01mis\u001B[39;00m \u001B[38;5;129;01mnot\u001B[39;00m \u001B[38;5;28;01mNone\u001B[39;00m:\n\u001B[0;32m     94\u001B[0m     \u001B[38;5;28;01mif\u001B[39;00m n \u001B[38;5;241m<\u001B[39m \u001B[38;5;241m0\u001B[39m:\n",
      "\u001B[1;31mValueError\u001B[0m: Please enter a value for `frac` OR `n`, not both"
     ]
    }
   ],
   "source": [
    "users_subset = user_checkins_counts['Uid'].unique()\n",
    "len(users_subset)\n",
    "checkins.sample(users_subset, 1000)\n",
    "##users_subset=checkins.loc[checkins['Uid'] <= 1000, 'Pid']\n",
    "##users_subset\n",
    "\n",
    "\n",
    "##checkins.head()"
   ],
   "metadata": {
    "collapsed": false,
    "pycharm": {
     "name": "#%%\n"
    }
   }
  },
  {
   "cell_type": "code",
   "execution_count": 21,
   "outputs": [
    {
     "data": {
      "text/plain": "<AxesSubplot:ylabel='Frequency'>"
     },
     "execution_count": 21,
     "metadata": {},
     "output_type": "execute_result"
    },
    {
     "data": {
      "text/plain": "<Figure size 432x288 with 1 Axes>",
      "image/png": "[encoded data removed]"
     },
     "metadata": {
      "needs_background": "light"
     },
     "output_type": "display_data"
    }
   ],
   "source": [
    "checkins[\"Uid\"].plot(kind='hist')\n"
   ],
   "metadata": {
    "collapsed": false,
    "pycharm": {
     "name": "#%%\n"
    }
   }
  },
  {
   "cell_type": "code",
   "execution_count": 25,
   "outputs": [
    {
     "data": {
      "text/plain": "                             Pid                       Timestamp\ncount                   33263633                        33263633\nunique                   3680126                        17831682\ntop     4b49cb0ff964a520b67326e3  Tue Jun 12 06:32:06 +0000 2012\nfreq                       34509                              33",
      "text/html": "<div>\n<style scoped>\n    .dataframe tbody tr th:only-of-type {\n        vertical-align: middle;\n    }\n\n    .dataframe tbody tr th {\n        vertical-align: top;\n    }\n\n    .dataframe thead th {\n        text-align: right;\n    }\n</style>\n<table border=\"1\" class=\"dataframe\">\n  <thead>\n    <tr style=\"text-align: right;\">\n      <th></th>\n      <th>Pid</th>\n      <th>Timestamp</th>\n    </tr>\n  </thead>\n  <tbody>\n    <tr>\n      <th>count</th>\n      <td>33263633</td>\n      <td>33263633</td>\n    </tr>\n    <tr>\n      <th>unique</th>\n      <td>3680126</td>\n      <td>17831682</td>\n    </tr>\n    <tr>\n      <th>top</th>\n      <td>4b49cb0ff964a520b67326e3</td>\n      <td>Tue Jun 12 06:32:06 +0000 2012</td>\n    </tr>\n    <tr>\n      <th>freq</th>\n      <td>34509</td>\n      <td>33</td>\n    </tr>\n  </tbody>\n</table>\n</div>"
     },
     "execution_count": 25,
     "metadata": {},
     "output_type": "execute_result"
    }
   ],
   "source": [
    "checkins.describe(include=object)"
   ],
   "metadata": {
    "collapsed": false,
    "pycharm": {
     "name": "#%%\n"
    }
   }
  },
  {
   "cell_type": "code",
   "execution_count": 23,
   "outputs": [
    {
     "data": {
      "text/plain": "2         5430\n3         4822\n7         4284\n10        4104\n4         4024\n          ... \n226915       1\n179          1\n168384       1\n142677       1\n70957        1\nName: Uid, Length: 266909, dtype: int64"
     },
     "execution_count": 23,
     "metadata": {},
     "output_type": "execute_result"
    }
   ],
   "source": [
    "checkins[\"Uid\"].value_counts()\n"
   ],
   "metadata": {
    "collapsed": false,
    "pycharm": {
     "name": "#%%\n"
    }
   }
  },
  {
   "cell_type": "code",
   "execution_count": 14,
   "outputs": [],
   "source": [
    "user_checkins_counts = checkins.groupby('Uid')['Pid'].count()"
   ],
   "metadata": {
    "collapsed": false,
    "pycharm": {
     "name": "#%%\n"
    }
   }
  },
  {
   "cell_type": "code",
   "execution_count": 17,
   "outputs": [],
   "source": [],
   "metadata": {
    "collapsed": false,
    "pycharm": {
     "name": "#%%\n"
    }
   }
  },
  {
   "cell_type": "code",
   "execution_count": 69,
   "outputs": [],
   "source": [
    "def create_checkin_subset(checkins_table):\n",
    "    subset = np.array([[0,0,0,0],[0,0,0,0]])\n",
    "    checkins_100_users = checkins_table['Uid'].sample(n=100, random_state=1)\n",
    "    for i in checkins_100_users:\n",
    "        subset = np.append(subset, np.asarray(checkins_table[checkins_table['Uid'] == i].values), 0)\n",
    "    return pd.DataFrame(subset[2::], columns=['Uid', 'Pid', 'Timestamp', 'TimezoneOffset'])"
   ],
   "metadata": {
    "collapsed": false,
    "pycharm": {
     "name": "#%%\n"
    }
   }
  },
  {
   "cell_type": "code",
   "execution_count": 74,
   "outputs": [],
   "source": [
    "checkins_100_users = create_checkin_subset(checkins)"
   ],
   "metadata": {
    "collapsed": false,
    "pycharm": {
     "name": "#%%\n"
    }
   }
  },
  {
   "cell_type": "code",
   "execution_count": 75,
   "outputs": [
    {
     "data": {
      "text/plain": "          Uid                       Pid                       Timestamp  \\\n0       33634  4ef5d479f9ab2e6680a7fdda  Sun Feb 17 09:58:34 +0000 2013   \n1       33634  4e621c8d62e13e3bce7bb58d  Sun Feb 17 11:17:48 +0000 2013   \n2       33634  4cb0fb5af2dbef3b6aae79e5  Mon Feb 18 06:34:41 +0000 2013   \n3       33634  5110b08de4b0d12c384d4e0b  Mon Feb 18 06:38:31 +0000 2013   \n4       33634  4d446c883616b60c0435e4c2  Mon Feb 18 06:50:21 +0000 2013   \n...       ...                       ...                             ...   \n27403  133844  4c03179c310fc9b65081c561  Tue Apr 09 05:14:53 +0000 2013   \n27404  133844  4d57d91bde8f6dcb55330491  Mon May 06 04:01:04 +0000 2013   \n27405  133844  4b30d634f964a520fbfb24e3  Fri Aug 09 10:30:07 +0000 2013   \n27406  133844  508e6a44e4b019412dbd3889  Tue Aug 20 13:06:36 +0000 2013   \n27407  133844  4e0f274762843e04afb24633  Tue Aug 20 14:58:55 +0000 2013   \n\n      TimezoneOffset  \n0                120  \n1                120  \n2                120  \n3                120  \n4                120  \n...              ...  \n27403            420  \n27404            420  \n27405            420  \n27406            420  \n27407            420  \n\n[27408 rows x 4 columns]",
      "text/html": "<div>\n<style scoped>\n    .dataframe tbody tr th:only-of-type {\n        vertical-align: middle;\n    }\n\n    .dataframe tbody tr th {\n        vertical-align: top;\n    }\n\n    .dataframe thead th {\n        text-align: right;\n    }\n</style>\n<table border=\"1\" class=\"dataframe\">\n  <thead>\n    <tr style=\"text-align: right;\">\n      <th></th>\n      <th>Uid</th>\n      <th>Pid</th>\n      <th>Timestamp</th>\n      <th>TimezoneOffset</th>\n    </tr>\n  </thead>\n  <tbody>\n    <tr>\n      <th>0</th>\n      <td>33634</td>\n      <td>4ef5d479f9ab2e6680a7fdda</td>\n      <td>Sun Feb 17 09:58:34 +0000 2013</td>\n      <td>120</td>\n    </tr>\n    <tr>\n      <th>1</th>\n      <td>33634</td>\n      <td>4e621c8d62e13e3bce7bb58d</td>\n      <td>Sun Feb 17 11:17:48 +0000 2013</td>\n      <td>120</td>\n    </tr>\n    <tr>\n      <th>2</th>\n      <td>33634</td>\n      <td>4cb0fb5af2dbef3b6aae79e5</td>\n      <td>Mon Feb 18 06:34:41 +0000 2013</td>\n      <td>120</td>\n    </tr>\n    <tr>\n      <th>3</th>\n      <td>33634</td>\n      <td>5110b08de4b0d12c384d4e0b</td>\n      <td>Mon Feb 18 06:38:31 +0000 2013</td>\n      <td>120</td>\n    </tr>\n    <tr>\n      <th>4</th>\n      <td>33634</td>\n      <td>4d446c883616b60c0435e4c2</td>\n      <td>Mon Feb 18 06:50:21 +0000 2013</td>\n      <td>120</td>\n    </tr>\n    <tr>\n      <th>...</th>\n      <td>...</td>\n      <td>...</td>\n      <td>...</td>\n      <td>...</td>\n    </tr>\n    <tr>\n      <th>27403</th>\n      <td>133844</td>\n      <td>4c03179c310fc9b65081c561</td>\n      <td>Tue Apr 09 05:14:53 +0000 2013</td>\n      <td>420</td>\n    </tr>\n    <tr>\n      <th>27404</th>\n      <td>133844</td>\n      <td>4d57d91bde8f6dcb55330491</td>\n      <td>Mon May 06 04:01:04 +0000 2013</td>\n      <td>420</td>\n    </tr>\n    <tr>\n      <th>27405</th>\n      <td>133844</td>\n      <td>4b30d634f964a520fbfb24e3</td>\n      <td>Fri Aug 09 10:30:07 +0000 2013</td>\n      <td>420</td>\n    </tr>\n    <tr>\n      <th>27406</th>\n      <td>133844</td>\n      <td>508e6a44e4b019412dbd3889</td>\n      <td>Tue Aug 20 13:06:36 +0000 2013</td>\n      <td>420</td>\n    </tr>\n    <tr>\n      <th>27407</th>\n      <td>133844</td>\n      <td>4e0f274762843e04afb24633</td>\n      <td>Tue Aug 20 14:58:55 +0000 2013</td>\n      <td>420</td>\n    </tr>\n  </tbody>\n</table>\n<p>27408 rows × 4 columns</p>\n</div>"
     },
     "execution_count": 75,
     "metadata": {},
     "output_type": "execute_result"
    }
   ],
   "source": [
    "checkins_100_users\n",
    "##points_checkins_counts = checkins.groupby('Pid')['Uid'].count()"
   ],
   "metadata": {
    "collapsed": false,
    "pycharm": {
     "name": "#%%\n"
    }
   }
  },
  {
   "cell_type": "code",
   "execution_count": 58,
   "outputs": [
    {
     "name": "stdout",
     "output_type": "stream",
     "text": [
      "266907\n"
     ]
    },
    {
     "ename": "ValueError",
     "evalue": "('Lengths must match to compare', (33263633,), (266907,))",
     "output_type": "error",
     "traceback": [
      "\u001B[1;31m---------------------------------------------------------------------------\u001B[0m",
      "\u001B[1;31mValueError\u001B[0m                                Traceback (most recent call last)",
      "Input \u001B[1;32mIn [58]\u001B[0m, in \u001B[0;36m<cell line: 4>\u001B[1;34m()\u001B[0m\n\u001B[0;32m      3\u001B[0m Ncheckins \u001B[38;5;241m=\u001B[39m np\u001B[38;5;241m.\u001B[39mzeros(\u001B[38;5;28mlen\u001B[39m(Users))\n\u001B[0;32m      4\u001B[0m \u001B[38;5;28;01mfor\u001B[39;00m user,i \u001B[38;5;129;01min\u001B[39;00m \u001B[38;5;28mzip\u001B[39m(Users, \u001B[38;5;28mrange\u001B[39m(\u001B[38;5;28mlen\u001B[39m(Users))):\n\u001B[1;32m----> 5\u001B[0m     Ncheckins[i] \u001B[38;5;241m=\u001B[39m np\u001B[38;5;241m.\u001B[39mwhere(\u001B[43mcheckins\u001B[49m\u001B[43m[\u001B[49m\u001B[38;5;124;43m'\u001B[39;49m\u001B[38;5;124;43mUid\u001B[39;49m\u001B[38;5;124;43m'\u001B[39;49m\u001B[43m]\u001B[49m\u001B[43m \u001B[49m\u001B[38;5;241;43m==\u001B[39;49m\u001B[43m \u001B[49m\u001B[43mUsers\u001B[49m)\n",
      "File \u001B[1;32m~\\Dropbox\\Mobility_project\\venv\\lib\\site-packages\\pandas\\core\\ops\\common.py:70\u001B[0m, in \u001B[0;36m_unpack_zerodim_and_defer.<locals>.new_method\u001B[1;34m(self, other)\u001B[0m\n\u001B[0;32m     66\u001B[0m             \u001B[38;5;28;01mreturn\u001B[39;00m \u001B[38;5;28mNotImplemented\u001B[39m\n\u001B[0;32m     68\u001B[0m other \u001B[38;5;241m=\u001B[39m item_from_zerodim(other)\n\u001B[1;32m---> 70\u001B[0m \u001B[38;5;28;01mreturn\u001B[39;00m \u001B[43mmethod\u001B[49m\u001B[43m(\u001B[49m\u001B[38;5;28;43mself\u001B[39;49m\u001B[43m,\u001B[49m\u001B[43m \u001B[49m\u001B[43mother\u001B[49m\u001B[43m)\u001B[49m\n",
      "File \u001B[1;32m~\\Dropbox\\Mobility_project\\venv\\lib\\site-packages\\pandas\\core\\arraylike.py:40\u001B[0m, in \u001B[0;36mOpsMixin.__eq__\u001B[1;34m(self, other)\u001B[0m\n\u001B[0;32m     38\u001B[0m \u001B[38;5;129m@unpack_zerodim_and_defer\u001B[39m(\u001B[38;5;124m\"\u001B[39m\u001B[38;5;124m__eq__\u001B[39m\u001B[38;5;124m\"\u001B[39m)\n\u001B[0;32m     39\u001B[0m \u001B[38;5;28;01mdef\u001B[39;00m \u001B[38;5;21m__eq__\u001B[39m(\u001B[38;5;28mself\u001B[39m, other):\n\u001B[1;32m---> 40\u001B[0m     \u001B[38;5;28;01mreturn\u001B[39;00m \u001B[38;5;28;43mself\u001B[39;49m\u001B[38;5;241;43m.\u001B[39;49m\u001B[43m_cmp_method\u001B[49m\u001B[43m(\u001B[49m\u001B[43mother\u001B[49m\u001B[43m,\u001B[49m\u001B[43m \u001B[49m\u001B[43moperator\u001B[49m\u001B[38;5;241;43m.\u001B[39;49m\u001B[43meq\u001B[49m\u001B[43m)\u001B[49m\n",
      "File \u001B[1;32m~\\Dropbox\\Mobility_project\\venv\\lib\\site-packages\\pandas\\core\\series.py:5623\u001B[0m, in \u001B[0;36mSeries._cmp_method\u001B[1;34m(self, other, op)\u001B[0m\n\u001B[0;32m   5620\u001B[0m rvalues \u001B[38;5;241m=\u001B[39m extract_array(other, extract_numpy\u001B[38;5;241m=\u001B[39m\u001B[38;5;28;01mTrue\u001B[39;00m, extract_range\u001B[38;5;241m=\u001B[39m\u001B[38;5;28;01mTrue\u001B[39;00m)\n\u001B[0;32m   5622\u001B[0m \u001B[38;5;28;01mwith\u001B[39;00m np\u001B[38;5;241m.\u001B[39merrstate(\u001B[38;5;28mall\u001B[39m\u001B[38;5;241m=\u001B[39m\u001B[38;5;124m\"\u001B[39m\u001B[38;5;124mignore\u001B[39m\u001B[38;5;124m\"\u001B[39m):\n\u001B[1;32m-> 5623\u001B[0m     res_values \u001B[38;5;241m=\u001B[39m \u001B[43mops\u001B[49m\u001B[38;5;241;43m.\u001B[39;49m\u001B[43mcomparison_op\u001B[49m\u001B[43m(\u001B[49m\u001B[43mlvalues\u001B[49m\u001B[43m,\u001B[49m\u001B[43m \u001B[49m\u001B[43mrvalues\u001B[49m\u001B[43m,\u001B[49m\u001B[43m \u001B[49m\u001B[43mop\u001B[49m\u001B[43m)\u001B[49m\n\u001B[0;32m   5625\u001B[0m \u001B[38;5;28;01mreturn\u001B[39;00m \u001B[38;5;28mself\u001B[39m\u001B[38;5;241m.\u001B[39m_construct_result(res_values, name\u001B[38;5;241m=\u001B[39mres_name)\n",
      "File \u001B[1;32m~\\Dropbox\\Mobility_project\\venv\\lib\\site-packages\\pandas\\core\\ops\\array_ops.py:260\u001B[0m, in \u001B[0;36mcomparison_op\u001B[1;34m(left, right, op)\u001B[0m\n\u001B[0;32m    255\u001B[0m \u001B[38;5;28;01mif\u001B[39;00m \u001B[38;5;28misinstance\u001B[39m(rvalues, (np\u001B[38;5;241m.\u001B[39mndarray, ABCExtensionArray)):\n\u001B[0;32m    256\u001B[0m     \u001B[38;5;66;03m# TODO: make this treatment consistent across ops and classes.\u001B[39;00m\n\u001B[0;32m    257\u001B[0m     \u001B[38;5;66;03m#  We are not catching all listlikes here (e.g. frozenset, tuple)\u001B[39;00m\n\u001B[0;32m    258\u001B[0m     \u001B[38;5;66;03m#  The ambiguous case is object-dtype.  See GH#27803\u001B[39;00m\n\u001B[0;32m    259\u001B[0m     \u001B[38;5;28;01mif\u001B[39;00m \u001B[38;5;28mlen\u001B[39m(lvalues) \u001B[38;5;241m!=\u001B[39m \u001B[38;5;28mlen\u001B[39m(rvalues):\n\u001B[1;32m--> 260\u001B[0m         \u001B[38;5;28;01mraise\u001B[39;00m \u001B[38;5;167;01mValueError\u001B[39;00m(\n\u001B[0;32m    261\u001B[0m             \u001B[38;5;124m\"\u001B[39m\u001B[38;5;124mLengths must match to compare\u001B[39m\u001B[38;5;124m\"\u001B[39m, lvalues\u001B[38;5;241m.\u001B[39mshape, rvalues\u001B[38;5;241m.\u001B[39mshape\n\u001B[0;32m    262\u001B[0m         )\n\u001B[0;32m    264\u001B[0m \u001B[38;5;28;01mif\u001B[39;00m should_extension_dispatch(lvalues, rvalues) \u001B[38;5;129;01mor\u001B[39;00m (\n\u001B[0;32m    265\u001B[0m     (\u001B[38;5;28misinstance\u001B[39m(rvalues, (Timedelta, BaseOffset, Timestamp)) \u001B[38;5;129;01mor\u001B[39;00m right \u001B[38;5;129;01mis\u001B[39;00m NaT)\n\u001B[0;32m    266\u001B[0m     \u001B[38;5;129;01mand\u001B[39;00m \u001B[38;5;129;01mnot\u001B[39;00m is_object_dtype(lvalues\u001B[38;5;241m.\u001B[39mdtype)\n\u001B[0;32m    267\u001B[0m ):\n\u001B[0;32m    268\u001B[0m     \u001B[38;5;66;03m# Call the method on lvalues\u001B[39;00m\n\u001B[0;32m    269\u001B[0m     res_values \u001B[38;5;241m=\u001B[39m op(lvalues, rvalues)\n",
      "\u001B[1;31mValueError\u001B[0m: ('Lengths must match to compare', (33263633,), (266907,))"
     ]
    }
   ],
   "source": [
    "Users = checkins['Uid'].unique()\n",
    "print(len(Users))\n",
    "Ncheckins = np.zeros(len(Users))\n",
    "for user,i in zip(Users, range(len(Users))):\n",
    "    Ncheckins[i] = np.where(checkins['Uid'] == Users)"
   ],
   "metadata": {
    "collapsed": false,
    "pycharm": {
     "name": "#%%\n"
    }
   }
  },
  {
   "cell_type": "code",
   "execution_count": null,
   "outputs": [],
   "source": [
    "plt.hist(user_checkins_counts)\n",
    "plt.show()\n",
    "##user_checkins_counts.plot(kind='hist', x=user_checkins_counts, y=points_checkins_counts)"
   ],
   "metadata": {
    "collapsed": false,
    "pycharm": {
     "name": "#%%\n"
    }
   }
  },
  {
   "cell_type": "code",
   "execution_count": 61,
   "outputs": [],
   "source": [
    "def tabular_preview(checkins, n=15):\n",
    "    \"\"\"Creates a cross-tabular view of users vs movies.\"\"\"\n",
    "\n",
    "    user_groups = checkins.groupby('Uid')['Pid'].count()\n",
    "    top_users = user_groups.sort_values(ascending=False)[:15]\n",
    "\n",
    "    poi_groups = checkins.groupby('Pid')['Uid'].count()\n",
    "    top_pois = poi_groups.sort_values(ascending=False)[:15]\n",
    "\n",
    "    top = (\n",
    "        checkins.\n",
    "        join(top_users, rsuffix='_r', how='inner', on='Uid').\n",
    "        join(top_pois, rsuffix='_r', how='inner', on='Pid'))\n",
    "\n",
    "    plt.hist(top)\n",
    "    plt.show()"
   ],
   "metadata": {
    "collapsed": false,
    "pycharm": {
     "name": "#%%\n"
    }
   }
  },
  {
   "cell_type": "code",
   "execution_count": 76,
   "outputs": [
    {
     "name": "stderr",
     "output_type": "stream",
     "text": [
      "C:\\Users\\Johan\\AppData\\Local\\Temp\\ipykernel_15484\\978835093.py:1: FutureWarning: adjacency_matrix will return a scipy.sparse array instead of a matrix in Networkx 3.0.\n",
      "  A=nx.linalg.graphmatrix.adjacency_matrix(checkins_100_users).todense()\n"
     ]
    },
    {
     "ename": "AttributeError",
     "evalue": "'DataFrame' object has no attribute 'edges'",
     "output_type": "error",
     "traceback": [
      "\u001B[1;31m---------------------------------------------------------------------------\u001B[0m",
      "\u001B[1;31mAttributeError\u001B[0m                            Traceback (most recent call last)",
      "Input \u001B[1;32mIn [76]\u001B[0m, in \u001B[0;36m<cell line: 1>\u001B[1;34m()\u001B[0m\n\u001B[1;32m----> 1\u001B[0m A\u001B[38;5;241m=\u001B[39m\u001B[43mnx\u001B[49m\u001B[38;5;241;43m.\u001B[39;49m\u001B[43mlinalg\u001B[49m\u001B[38;5;241;43m.\u001B[39;49m\u001B[43mgraphmatrix\u001B[49m\u001B[38;5;241;43m.\u001B[39;49m\u001B[43madjacency_matrix\u001B[49m\u001B[43m(\u001B[49m\u001B[43mcheckins_100_users\u001B[49m\u001B[43m)\u001B[49m\u001B[38;5;241m.\u001B[39mtodense()\n\u001B[0;32m      2\u001B[0m L\u001B[38;5;241m=\u001B[39mnx\u001B[38;5;241m.\u001B[39mlinalg\u001B[38;5;241m.\u001B[39mlaplacianmatrix\u001B[38;5;241m.\u001B[39mlaplacian_matrix(checkins_100_users)\u001B[38;5;241m.\u001B[39mtodense()\n",
      "File \u001B[1;32m~\\Dropbox\\Mobility_project\\venv\\lib\\site-packages\\networkx\\linalg\\graphmatrix.py:173\u001B[0m, in \u001B[0;36madjacency_matrix\u001B[1;34m(G, nodelist, dtype, weight)\u001B[0m\n\u001B[0;32m    167\u001B[0m warnings\u001B[38;5;241m.\u001B[39mwarn(\n\u001B[0;32m    168\u001B[0m     \u001B[38;5;124m\"\u001B[39m\u001B[38;5;124madjacency_matrix will return a scipy.sparse array instead of a matrix in Networkx 3.0.\u001B[39m\u001B[38;5;124m\"\u001B[39m,\n\u001B[0;32m    169\u001B[0m     \u001B[38;5;167;01mFutureWarning\u001B[39;00m,\n\u001B[0;32m    170\u001B[0m     stacklevel\u001B[38;5;241m=\u001B[39m\u001B[38;5;241m2\u001B[39m,\n\u001B[0;32m    171\u001B[0m )\n\u001B[0;32m    172\u001B[0m \u001B[38;5;66;03m# TODO: Change to `to_scipy_sparse_array` for networkx 3.0\u001B[39;00m\n\u001B[1;32m--> 173\u001B[0m \u001B[38;5;28;01mreturn\u001B[39;00m \u001B[43mnx\u001B[49m\u001B[38;5;241;43m.\u001B[39;49m\u001B[43mto_scipy_sparse_matrix\u001B[49m\u001B[43m(\u001B[49m\u001B[43mG\u001B[49m\u001B[43m,\u001B[49m\u001B[43m \u001B[49m\u001B[43mnodelist\u001B[49m\u001B[38;5;241;43m=\u001B[39;49m\u001B[43mnodelist\u001B[49m\u001B[43m,\u001B[49m\u001B[43m \u001B[49m\u001B[43mdtype\u001B[49m\u001B[38;5;241;43m=\u001B[39;49m\u001B[43mdtype\u001B[49m\u001B[43m,\u001B[49m\u001B[43m \u001B[49m\u001B[43mweight\u001B[49m\u001B[38;5;241;43m=\u001B[39;49m\u001B[43mweight\u001B[49m\u001B[43m)\u001B[49m\n",
      "File \u001B[1;32m~\\Dropbox\\Mobility_project\\venv\\lib\\site-packages\\networkx\\convert_matrix.py:1019\u001B[0m, in \u001B[0;36mto_scipy_sparse_matrix\u001B[1;34m(G, nodelist, dtype, weight, format)\u001B[0m\n\u001B[0;32m   1009\u001B[0m \u001B[38;5;28;01mimport\u001B[39;00m \u001B[38;5;21;01mscipy\u001B[39;00m\u001B[38;5;21;01m.\u001B[39;00m\u001B[38;5;21;01msparse\u001B[39;00m\n\u001B[0;32m   1011\u001B[0m warnings\u001B[38;5;241m.\u001B[39mwarn(\n\u001B[0;32m   1012\u001B[0m     (\n\u001B[0;32m   1013\u001B[0m         \u001B[38;5;124m\"\u001B[39m\u001B[38;5;130;01m\\n\u001B[39;00m\u001B[38;5;130;01m\\n\u001B[39;00m\u001B[38;5;124mThe scipy.sparse array containers will be used instead of matrices\u001B[39m\u001B[38;5;130;01m\\n\u001B[39;00m\u001B[38;5;124m\"\u001B[39m\n\u001B[1;32m   (...)\u001B[0m\n\u001B[0;32m   1017\u001B[0m     stacklevel\u001B[38;5;241m=\u001B[39m\u001B[38;5;241m2\u001B[39m,\n\u001B[0;32m   1018\u001B[0m )\n\u001B[1;32m-> 1019\u001B[0m A \u001B[38;5;241m=\u001B[39m \u001B[43mto_scipy_sparse_array\u001B[49m\u001B[43m(\u001B[49m\n\u001B[0;32m   1020\u001B[0m \u001B[43m    \u001B[49m\u001B[43mG\u001B[49m\u001B[43m,\u001B[49m\u001B[43m \u001B[49m\u001B[43mnodelist\u001B[49m\u001B[38;5;241;43m=\u001B[39;49m\u001B[43mnodelist\u001B[49m\u001B[43m,\u001B[49m\u001B[43m \u001B[49m\u001B[43mdtype\u001B[49m\u001B[38;5;241;43m=\u001B[39;49m\u001B[43mdtype\u001B[49m\u001B[43m,\u001B[49m\u001B[43m \u001B[49m\u001B[43mweight\u001B[49m\u001B[38;5;241;43m=\u001B[39;49m\u001B[43mweight\u001B[49m\u001B[43m,\u001B[49m\u001B[43m \u001B[49m\u001B[38;5;28;43mformat\u001B[39;49m\u001B[38;5;241;43m=\u001B[39;49m\u001B[38;5;28;43mformat\u001B[39;49m\n\u001B[0;32m   1021\u001B[0m \u001B[43m\u001B[49m\u001B[43m)\u001B[49m\n\u001B[0;32m   1022\u001B[0m \u001B[38;5;28;01mreturn\u001B[39;00m sp\u001B[38;5;241m.\u001B[39msparse\u001B[38;5;241m.\u001B[39mcsr_matrix(A)\u001B[38;5;241m.\u001B[39masformat(\u001B[38;5;28mformat\u001B[39m)\n",
      "File \u001B[1;32m~\\Dropbox\\Mobility_project\\venv\\lib\\site-packages\\networkx\\convert_matrix.py:898\u001B[0m, in \u001B[0;36mto_scipy_sparse_array\u001B[1;34m(G, nodelist, dtype, weight, format)\u001B[0m\n\u001B[0;32m    894\u001B[0m         G \u001B[38;5;241m=\u001B[39m G\u001B[38;5;241m.\u001B[39msubgraph(nodelist)\n\u001B[0;32m    896\u001B[0m index \u001B[38;5;241m=\u001B[39m \u001B[38;5;28mdict\u001B[39m(\u001B[38;5;28mzip\u001B[39m(nodelist, \u001B[38;5;28mrange\u001B[39m(nlen)))\n\u001B[0;32m    897\u001B[0m coefficients \u001B[38;5;241m=\u001B[39m \u001B[38;5;28mzip\u001B[39m(\n\u001B[1;32m--> 898\u001B[0m     \u001B[38;5;241m*\u001B[39m((index[u], index[v], wt) \u001B[38;5;28;01mfor\u001B[39;00m u, v, wt \u001B[38;5;129;01min\u001B[39;00m \u001B[43mG\u001B[49m\u001B[38;5;241;43m.\u001B[39;49m\u001B[43medges\u001B[49m(data\u001B[38;5;241m=\u001B[39mweight, default\u001B[38;5;241m=\u001B[39m\u001B[38;5;241m1\u001B[39m))\n\u001B[0;32m    899\u001B[0m )\n\u001B[0;32m    900\u001B[0m \u001B[38;5;28;01mtry\u001B[39;00m:\n\u001B[0;32m    901\u001B[0m     row, col, data \u001B[38;5;241m=\u001B[39m coefficients\n",
      "File \u001B[1;32m~\\Dropbox\\Mobility_project\\venv\\lib\\site-packages\\pandas\\core\\generic.py:5583\u001B[0m, in \u001B[0;36mNDFrame.__getattr__\u001B[1;34m(self, name)\u001B[0m\n\u001B[0;32m   5576\u001B[0m \u001B[38;5;28;01mif\u001B[39;00m (\n\u001B[0;32m   5577\u001B[0m     name \u001B[38;5;129;01mnot\u001B[39;00m \u001B[38;5;129;01min\u001B[39;00m \u001B[38;5;28mself\u001B[39m\u001B[38;5;241m.\u001B[39m_internal_names_set\n\u001B[0;32m   5578\u001B[0m     \u001B[38;5;129;01mand\u001B[39;00m name \u001B[38;5;129;01mnot\u001B[39;00m \u001B[38;5;129;01min\u001B[39;00m \u001B[38;5;28mself\u001B[39m\u001B[38;5;241m.\u001B[39m_metadata\n\u001B[0;32m   5579\u001B[0m     \u001B[38;5;129;01mand\u001B[39;00m name \u001B[38;5;129;01mnot\u001B[39;00m \u001B[38;5;129;01min\u001B[39;00m \u001B[38;5;28mself\u001B[39m\u001B[38;5;241m.\u001B[39m_accessors\n\u001B[0;32m   5580\u001B[0m     \u001B[38;5;129;01mand\u001B[39;00m \u001B[38;5;28mself\u001B[39m\u001B[38;5;241m.\u001B[39m_info_axis\u001B[38;5;241m.\u001B[39m_can_hold_identifiers_and_holds_name(name)\n\u001B[0;32m   5581\u001B[0m ):\n\u001B[0;32m   5582\u001B[0m     \u001B[38;5;28;01mreturn\u001B[39;00m \u001B[38;5;28mself\u001B[39m[name]\n\u001B[1;32m-> 5583\u001B[0m \u001B[38;5;28;01mreturn\u001B[39;00m \u001B[38;5;28;43mobject\u001B[39;49m\u001B[38;5;241;43m.\u001B[39;49m\u001B[38;5;21;43m__getattribute__\u001B[39;49m\u001B[43m(\u001B[49m\u001B[38;5;28;43mself\u001B[39;49m\u001B[43m,\u001B[49m\u001B[43m \u001B[49m\u001B[43mname\u001B[49m\u001B[43m)\u001B[49m\n",
      "\u001B[1;31mAttributeError\u001B[0m: 'DataFrame' object has no attribute 'edges'"
     ]
    }
   ],
   "source": [
    "A=nx.linalg.graphmatrix.adjacency_matrix(checkins_100_users).todense()\n",
    "L=nx.linalg.laplacianmatrix.laplacian_matrix(checkins_100_users).todense()"
   ],
   "metadata": {
    "collapsed": false,
    "pycharm": {
     "name": "#%%\n"
    }
   }
  },
  {
   "cell_type": "code",
   "execution_count": null,
   "outputs": [],
   "source": [
    "A=\n"
   ],
   "metadata": {
    "collapsed": false,
    "pycharm": {
     "name": "#%%\n"
    }
   }
  }
 ],
 "metadata": {
  "kernelspec": {
   "display_name": "Python 3",
   "language": "python",
   "name": "python3"
  },
  "language_info": {
   "codemirror_mode": {
    "name": "ipython",
    "version": 2
   },
   "file_extension": ".py",
   "mimetype": "text/x-python",
   "name": "python",
   "nbconvert_exporter": "python",
   "pygments_lexer": "ipython2",
   "version": "2.7.6"
  }
 },
 "nbformat": 4,
 "nbformat_minor": 0
}